{
  "nbformat": 4,
  "nbformat_minor": 0,
  "metadata": {
    "colab": {
      "provenance": [],
      "include_colab_link": true
    },
    "kernelspec": {
      "name": "python3",
      "display_name": "Python 3"
    },
    "language_info": {
      "name": "python"
    }
  },
  "cells": [
    {
      "cell_type": "markdown",
      "metadata": {
        "id": "view-in-github",
        "colab_type": "text"
      },
      "source": [
        "<a href=\"https://colab.research.google.com/github/Priy-anshi/curriculum-python/blob/main/Day1Tutorial1_basic_python_code.ipynb\" target=\"_parent\"><img src=\"https://colab.research.google.com/assets/colab-badge.svg\" alt=\"Open In Colab\"/></a>"
      ]
    },
    {
      "cell_type": "markdown",
      "source": [
        "## python semantic error"
      ],
      "metadata": {
        "id": "6AmH69PNf-dL"
      }
    },
    {
      "cell_type": "markdown",
      "source": [],
      "metadata": {
        "id": "uk8DLwDls2jO"
      }
    },
    {
      "cell_type": "code",
      "source": [
        "print(\"Hello World\")"
      ],
      "metadata": {
        "colab": {
          "base_uri": "https://localhost:8080/"
        },
        "id": "0A5L_4AolQgM",
        "outputId": "64bbab90-7308-425d-8041-5868f75c6798"
      },
      "execution_count": null,
      "outputs": [
        {
          "output_type": "stream",
          "name": "stdout",
          "text": [
            "Hello World\n"
          ]
        }
      ]
    },
    {
      "cell_type": "code",
      "metadata": {
        "colab": {
          "base_uri": "https://localhost:8080/",
          "height": 165
        },
        "id": "J9UAMFk9O1ci",
        "outputId": "d2bd027b-da47-4318-b7e9-e0c34fc49835"
      },
      "source": [
        "Print(\"Hello World\")"
      ],
      "execution_count": null,
      "outputs": [
        {
          "output_type": "error",
          "ename": "NameError",
          "evalue": "ignored",
          "traceback": [
            "\u001b[0;31m---------------------------------------------------------------------------\u001b[0m",
            "\u001b[0;31mNameError\u001b[0m                                 Traceback (most recent call last)",
            "\u001b[0;32m<ipython-input-6-82ee0b7fee85>\u001b[0m in \u001b[0;36m<module>\u001b[0;34m\u001b[0m\n\u001b[0;32m----> 1\u001b[0;31m \u001b[0mPrint\u001b[0m\u001b[0;34m(\u001b[0m\u001b[0;34m\"Hello World\"\u001b[0m\u001b[0;34m)\u001b[0m\u001b[0;34m\u001b[0m\u001b[0;34m\u001b[0m\u001b[0m\n\u001b[0m",
            "\u001b[0;31mNameError\u001b[0m: name 'Print' is not defined"
          ]
        }
      ]
    },
    {
      "cell_type": "code",
      "source": [
        "print(\"hello world aizan is here\")"
      ],
      "metadata": {
        "colab": {
          "base_uri": "https://localhost:8080/"
        },
        "id": "ocmAQHWXow00",
        "outputId": "f79cf913-78a1-4422-c2e5-58fe814e3cc4"
      },
      "execution_count": null,
      "outputs": [
        {
          "output_type": "stream",
          "name": "stdout",
          "text": [
            "hello world aizan is here\n"
          ]
        }
      ]
    },
    {
      "cell_type": "code",
      "metadata": {
        "colab": {
          "base_uri": "https://localhost:8080/"
        },
        "id": "yWTzdP0qO82T",
        "outputId": "2e9ae9d9-5f62-4d31-df34-e97d90254fdd"
      },
      "source": [
        "import keyword\n",
        "print(keyword.kwlist)"
      ],
      "execution_count": null,
      "outputs": [
        {
          "output_type": "stream",
          "name": "stdout",
          "text": [
            "['False', 'None', 'True', 'and', 'as', 'assert', 'async', 'await', 'break', 'class', 'continue', 'def', 'del', 'elif', 'else', 'except', 'finally', 'for', 'from', 'global', 'if', 'import', 'in', 'is', 'lambda', 'nonlocal', 'not', 'or', 'pass', 'raise', 'return', 'try', 'while', 'with', 'yield']\n"
          ]
        }
      ]
    },
    {
      "cell_type": "code",
      "source": [
        "age=24\n",
        "\n",
        "if age <= 18:\n",
        "  print(\"hello child\")\n",
        "  print(\"wswhgwh\")\n",
        "  print(\"hgh\")\n",
        "\n",
        "elif age>19 and age <=45:\n",
        "  print(\"hello adult\")\n",
        "  print(\"ddfdfsds\")\n",
        "\n",
        "elif age>19 and age<86:\n",
        "    print(\"hello pp\")\n",
        "\n",
        "else:\n",
        "  print(\"hello old person\")"
      ],
      "metadata": {
        "colab": {
          "base_uri": "https://localhost:8080/"
        },
        "id": "E0RMxnLol6DT",
        "outputId": "5f85cbec-f2be-4e24-d811-784cc6a027c1"
      },
      "execution_count": null,
      "outputs": [
        {
          "output_type": "stream",
          "name": "stdout",
          "text": [
            "hello old person\n"
          ]
        }
      ]
    },
    {
      "cell_type": "code",
      "metadata": {
        "id": "Zmj43KoKPY1v"
      },
      "source": [
        "# here 'a' is a variable /Identifier\n",
        "a = 5\n",
        "b = 5"
      ],
      "execution_count": null,
      "outputs": []
    },
    {
      "cell_type": "code",
      "source": [
        "Var=10\n",
        "var=5"
      ],
      "metadata": {
        "id": "HYS1dQYVpOol"
      },
      "execution_count": null,
      "outputs": []
    },
    {
      "cell_type": "code",
      "source": [
        "print(\"Var=fhghghsxf \",Var)"
      ],
      "metadata": {
        "colab": {
          "base_uri": "https://localhost:8080/"
        },
        "id": "fjpTvyzppSwP",
        "outputId": "0af7f425-0284-4c2b-d498-f51db3b4409d"
      },
      "execution_count": null,
      "outputs": [
        {
          "output_type": "stream",
          "name": "stdout",
          "text": [
            "Var=fhghghsxfhsvgsv 10\n"
          ]
        }
      ]
    },
    {
      "cell_type": "code",
      "metadata": {
        "colab": {
          "base_uri": "https://localhost:8080/"
        },
        "id": "pMaLQtMnQcFD",
        "outputId": "e14a3302-93da-4896-fbf9-c1fda8471d53"
      },
      "source": [
        "print(\"a = \",a, \"& b = \",b)"
      ],
      "execution_count": null,
      "outputs": [
        {
          "output_type": "stream",
          "name": "stdout",
          "text": [
            "a =  5 & b =  5\n"
          ]
        }
      ]
    },
    {
      "cell_type": "code",
      "metadata": {
        "id": "X2_5aqr1QsE7"
      },
      "source": [
        "sum= a+b"
      ],
      "execution_count": null,
      "outputs": []
    },
    {
      "cell_type": "code",
      "metadata": {
        "colab": {
          "base_uri": "https://localhost:8080/"
        },
        "id": "bg7r-DIsP4Eq",
        "outputId": "b51a867c-bdd4-4427-ffe4-4040d1a51d42"
      },
      "source": [
        "print(\"a =\",a, \"b =\",b, \"sum= \",sum)"
      ],
      "execution_count": null,
      "outputs": [
        {
          "output_type": "stream",
          "name": "stdout",
          "text": [
            "a = 5 b = 5 sum=  10\n"
          ]
        }
      ]
    },
    {
      "cell_type": "code",
      "metadata": {
        "id": "pnk1FJkuRvXH",
        "outputId": "1b36406a-793f-455d-c48c-12b745a8cbe6",
        "colab": {
          "base_uri": "https://localhost:8080/",
          "height": 106
        }
      },
      "source": [
        "for (i=1;i<=10;i++)\n",
        "{\n",
        "csc\n",
        " svs\n",
        " vsav\n",
        "}\n",
        "i=i+2"
      ],
      "execution_count": 1,
      "outputs": [
        {
          "output_type": "error",
          "ename": "SyntaxError",
          "evalue": "invalid syntax. Maybe you meant '==' or ':=' instead of '='? (<ipython-input-1-8e66d622fa2e>, line 1)",
          "traceback": [
            "\u001b[0;36m  File \u001b[0;32m\"<ipython-input-1-8e66d622fa2e>\"\u001b[0;36m, line \u001b[0;32m1\u001b[0m\n\u001b[0;31m    for (i=1;i<=10;i++)\u001b[0m\n\u001b[0m         ^\u001b[0m\n\u001b[0;31mSyntaxError\u001b[0m\u001b[0;31m:\u001b[0m invalid syntax. Maybe you meant '==' or ':=' instead of '='?\n"
          ]
        }
      ]
    },
    {
      "cell_type": "code",
      "metadata": {
        "colab": {
          "base_uri": "https://localhost:8080/"
        },
        "id": "Uc9D4shbRc7U",
        "outputId": "7a99590d-b886-4e4e-adb4-77102f627741"
      },
      "source": [
        "for i in range(1,11,2):\n",
        "  print(i)\n",
        "\n",
        "print(\"inside loop\")\n"
      ],
      "execution_count": null,
      "outputs": [
        {
          "output_type": "stream",
          "name": "stdout",
          "text": [
            "1\n",
            "inside loop\n",
            "3\n",
            "inside loop\n",
            "5\n",
            "inside loop\n",
            "7\n",
            "inside loop\n",
            "9\n",
            "inside loop\n"
          ]
        }
      ]
    },
    {
      "cell_type": "code",
      "metadata": {
        "id": "TBAqO7SaQGg0",
        "colab": {
          "base_uri": "https://localhost:8080/"
        },
        "outputId": "f95fee06-4c44-4fce-a02e-0168abc26f1d"
      },
      "source": [
        "a = 5+\\\n",
        "3+\\\n",
        "2+\\\n",
        "4+\\\n",
        "50+40+85+90\n",
        "\n",
        "a"
      ],
      "execution_count": null,
      "outputs": [
        {
          "output_type": "execute_result",
          "data": {
            "text/plain": [
              "279"
            ]
          },
          "metadata": {},
          "execution_count": 1
        }
      ]
    },
    {
      "cell_type": "markdown",
      "source": [
        "## multi line code"
      ],
      "metadata": {
        "id": "N7YnWH9ggG-M"
      }
    },
    {
      "cell_type": "code",
      "metadata": {
        "id": "s9l6qHmfSmAs"
      },
      "source": [
        "# single line comment"
      ],
      "execution_count": null,
      "outputs": []
    },
    {
      "cell_type": "code",
      "source": [
        "# print(\"aizan\")"
      ],
      "metadata": {
        "id": "oLCAzS5p9r76"
      },
      "execution_count": null,
      "outputs": []
    },
    {
      "cell_type": "code",
      "metadata": {
        "id": "qxG7Yj_ISpDy"
      },
      "source": [
        "# multi\n",
        "# line\n",
        "# comment\n",
        "# example"
      ],
      "execution_count": null,
      "outputs": []
    },
    {
      "cell_type": "code",
      "metadata": {
        "colab": {
          "base_uri": "https://localhost:8080/"
        },
        "id": "HJzzHmgYP6hy",
        "outputId": "83ef2a36-88db-4b6d-bdb7-971f7ed6105b"
      },
      "source": [
        "print(a)"
      ],
      "execution_count": null,
      "outputs": [
        {
          "output_type": "stream",
          "name": "stdout",
          "text": [
            "279\n"
          ]
        }
      ]
    },
    {
      "cell_type": "code",
      "metadata": {
        "colab": {
          "base_uri": "https://localhost:8080/",
          "height": 35
        },
        "id": "Vqqhu4VFS57p",
        "outputId": "12ed1c18-2d4f-4c37-f968-1b99b1b4313b"
      },
      "source": [
        "a = \"\"\"\n",
        "this is multiple line comment\n",
        "hello\n",
        "world\n",
        "\"\"\"\n",
        "\n",
        "a"
      ],
      "execution_count": null,
      "outputs": [
        {
          "output_type": "execute_result",
          "data": {
            "text/plain": [
              "'\\nthis is multiple line comment\\nhello\\nworld\\n'"
            ],
            "application/vnd.google.colaboratory.intrinsic+json": {
              "type": "string"
            }
          },
          "metadata": {},
          "execution_count": 2
        }
      ]
    },
    {
      "cell_type": "code",
      "metadata": {
        "colab": {
          "base_uri": "https://localhost:8080/"
        },
        "id": "Y8Lly5IVdG_S",
        "outputId": "3c8dc1d4-7b1b-460b-86da-7f2f1327e73d"
      },
      "source": [
        "a = 5\n",
        "print(a, \"is of type\", type(a))"
      ],
      "execution_count": null,
      "outputs": [
        {
          "output_type": "stream",
          "name": "stdout",
          "text": [
            "5 is of type <class 'int'>\n"
          ]
        }
      ]
    },
    {
      "cell_type": "code",
      "metadata": {
        "colab": {
          "base_uri": "https://localhost:8080/"
        },
        "id": "KYqlFvxfdIx2",
        "outputId": "e1e00e8e-576c-4410-edf5-7ceafd057679"
      },
      "source": [
        "a = 2.0\n",
        "print(a, \"is of type\", type(a))"
      ],
      "execution_count": null,
      "outputs": [
        {
          "output_type": "stream",
          "name": "stdout",
          "text": [
            "2.0 is of type <class 'float'>\n"
          ]
        }
      ]
    },
    {
      "cell_type": "code",
      "metadata": {
        "colab": {
          "base_uri": "https://localhost:8080/"
        },
        "id": "TnuJ_2HQTUus",
        "outputId": "baf04821-62ea-4c37-b438-66be41a5352b"
      },
      "source": [
        "a = 1+2j\n",
        "print(a, \"is complex number?\", isinstance(1+2j,complex))\n",
        "print(a, \"is of type\", type(a))\n"
      ],
      "execution_count": null,
      "outputs": [
        {
          "output_type": "stream",
          "name": "stdout",
          "text": [
            "(1+2j) is complex number? True\n",
            "(1+2j) is of type <class 'complex'>\n"
          ]
        }
      ]
    },
    {
      "cell_type": "code",
      "metadata": {
        "colab": {
          "base_uri": "https://localhost:8080/"
        },
        "id": "CIB1DeH2dcMv",
        "outputId": "228d259b-4828-4bad-ce51-d7a7e866db45"
      },
      "source": [
        "print(a, \"is complex number?\", isinstance(1+2.0,complex))"
      ],
      "execution_count": null,
      "outputs": [
        {
          "output_type": "stream",
          "name": "stdout",
          "text": [
            "(1+2j) is complex number? False\n"
          ]
        }
      ]
    },
    {
      "cell_type": "markdown",
      "source": [
        "## type conversion"
      ],
      "metadata": {
        "id": "eRcES6-1gbRG"
      }
    },
    {
      "cell_type": "code",
      "metadata": {
        "colab": {
          "base_uri": "https://localhost:8080/"
        },
        "id": "7f9p3IjPdfQx",
        "outputId": "7741df57-440c-4a27-dd6f-57d0502a776d"
      },
      "source": [
        "num_int = 123 #int\n",
        "num_flo = 1.23 #float\n",
        "num_new = num_int + num_flo\n",
        "print(\"datatype of num_int:\",type(num_int))\n",
        "print(\"datatype of num_flo:\",type(num_flo))\n",
        "print(\"Value of num_new:\",num_new)\n",
        "print(\"datatype of num_new:\",type(num_new))\n"
      ],
      "execution_count": null,
      "outputs": [
        {
          "output_type": "stream",
          "name": "stdout",
          "text": [
            "datatype of num_int: <class 'int'>\n",
            "datatype of num_flo: <class 'float'>\n",
            "Value of num_new: 124.23\n",
            "datatype of num_new: <class 'float'>\n"
          ]
        }
      ]
    },
    {
      "cell_type": "code",
      "metadata": {
        "colab": {
          "base_uri": "https://localhost:8080/"
        },
        "id": "1z3IPIb3eT-F",
        "outputId": "ca0a3372-06ab-4a81-a009-f01bd58ec765"
      },
      "source": [
        "num_int = 123\n",
        "num_flo = 123\n",
        "num_new = num_int + num_flo\n",
        "print(\"datatype of num_int:\",type(num_int))\n",
        "print(\"datatype of num_flo:\",type(num_flo))\n",
        "print(\"Value of num_new:\",num_new)\n",
        "print(\"datatype of num_new:\",type(num_new))\n"
      ],
      "execution_count": null,
      "outputs": [
        {
          "output_type": "stream",
          "name": "stdout",
          "text": [
            "datatype of num_int: <class 'int'>\n",
            "datatype of num_flo: <class 'int'>\n",
            "Value of num_new: 246\n",
            "datatype of num_new: <class 'int'>\n"
          ]
        }
      ]
    },
    {
      "cell_type": "code",
      "metadata": {
        "colab": {
          "base_uri": "https://localhost:8080/"
        },
        "id": "IDxnz5BGeTyt",
        "outputId": "7f7bc70a-1365-4de2-9d76-94ce78f9e979"
      },
      "source": [
        "num_int = \"Aizan\" #string\n",
        "num_str = \"Zafar\" #string\n",
        "\n",
        "print(\"Data type of num_int:\",type(num_int))\n",
        "print(\"Data type of num_str:\",type(num_str))\n",
        "\n",
        "print(num_str +\" \"+ num_int)\n",
        "print(num_int + num_str)"
      ],
      "execution_count": null,
      "outputs": [
        {
          "output_type": "stream",
          "name": "stdout",
          "text": [
            "Data type of num_int: <class 'str'>\n",
            "Data type of num_str: <class 'str'>\n",
            "Zafar Aizan\n",
            "AizanZafar\n"
          ]
        }
      ]
    },
    {
      "cell_type": "code",
      "metadata": {
        "colab": {
          "base_uri": "https://localhost:8080/"
        },
        "id": "Oqzq3M92geqE",
        "outputId": "ffeec57c-d60c-4b12-9d8c-3fd31689084c"
      },
      "source": [
        "a = 5\n",
        "print(type(a))\n",
        "a = float(a)\n",
        "print(type(a))\n",
        "print(a)"
      ],
      "execution_count": null,
      "outputs": [
        {
          "output_type": "stream",
          "name": "stdout",
          "text": [
            "<class 'int'>\n",
            "<class 'float'>\n",
            "5.0\n"
          ]
        }
      ]
    },
    {
      "cell_type": "code",
      "metadata": {
        "colab": {
          "base_uri": "https://localhost:8080/"
        },
        "id": "MfClOAGQglkn",
        "outputId": "d1035853-f44c-479b-ed6c-e87f7f9efa78"
      },
      "source": [
        "a = 5.9999\n",
        "print(type(a))\n",
        "a = int(a)\n",
        "print(\"the value od a: \",a)\n",
        "print(type(a))"
      ],
      "execution_count": null,
      "outputs": [
        {
          "output_type": "stream",
          "name": "stdout",
          "text": [
            "<class 'float'>\n",
            "the value od a:  5\n",
            "<class 'int'>\n"
          ]
        }
      ]
    },
    {
      "cell_type": "code",
      "metadata": {
        "colab": {
          "base_uri": "https://localhost:8080/"
        },
        "id": "LJjvWvArhu2_",
        "outputId": "e8ced261-12cf-444e-e0f2-9626814aa1eb"
      },
      "source": [
        "a = \"123\" #string\n",
        "print(type(a))\n",
        "a = int(a) #int\n",
        "print(\"the value od a: \",a)\n",
        "print(type(a))"
      ],
      "execution_count": null,
      "outputs": [
        {
          "output_type": "stream",
          "name": "stdout",
          "text": [
            "<class 'str'>\n",
            "the value od a:  123\n",
            "<class 'int'>\n"
          ]
        }
      ]
    },
    {
      "cell_type": "code",
      "metadata": {
        "colab": {
          "base_uri": "https://localhost:8080/"
        },
        "id": "2WZzEWJFiDWd",
        "outputId": "9a5a1619-fb40-49f3-9456-f09f6067354f"
      },
      "source": [
        "num_int = 123 # int\n",
        "num_flo = \"123.23\" # string\n",
        "num_flo = float(num_flo) # float\n",
        "\n",
        "# 12 + 1.12 = 13.12\n",
        "\n",
        "num_new = num_int + num_flo # int + float = float\n",
        "print(\"datatype of num_int:\",type(num_int))\n",
        "print(\"datatype of num_flo:\",type(num_flo))\n",
        "print(\"Value of num_new:\",num_new)\n",
        "print(\"datatype of num_new:\",type(num_new))\n"
      ],
      "execution_count": null,
      "outputs": [
        {
          "output_type": "stream",
          "text": [
            "datatype of num_int: <class 'int'>\n",
            "datatype of num_flo: <class 'float'>\n",
            "Value of num_new: 246.23000000000002\n",
            "datatype of num_new: <class 'float'>\n"
          ],
          "name": "stdout"
        }
      ]
    },
    {
      "cell_type": "code",
      "metadata": {
        "colab": {
          "base_uri": "https://localhost:8080/"
        },
        "id": "PRb4LsKsi1vd",
        "outputId": "0c164170-6e11-4d8b-ae25-09c3c9efa579"
      },
      "source": [
        "a = 123 #int\n",
        "print(type(a))\n",
        "a = str(a) #string\n",
        "print(\"the value od a: \",a)\n",
        "print(type(a))"
      ],
      "execution_count": null,
      "outputs": [
        {
          "output_type": "stream",
          "text": [
            "<class 'int'>\n",
            "the value od a:  123\n",
            "<class 'str'>\n"
          ],
          "name": "stdout"
        }
      ]
    },
    {
      "cell_type": "code",
      "metadata": {
        "colab": {
          "base_uri": "https://localhost:8080/",
          "height": 265
        },
        "id": "Qs-1QliLjGZW",
        "outputId": "abba4d0c-7f47-465a-909e-aaecf7c0669a"
      },
      "source": [
        "a = \"A12\" #str\n",
        "print(a)\n",
        "print(type(a))\n",
        "\n",
        "a = int(a) #string\n",
        "#print(\"the value od a: \",a)\n",
        "print(type(a))"
      ],
      "execution_count": null,
      "outputs": [
        {
          "output_type": "stream",
          "text": [
            "A12\n",
            "<class 'str'>\n"
          ],
          "name": "stdout"
        },
        {
          "output_type": "error",
          "ename": "ValueError",
          "evalue": "ignored",
          "traceback": [
            "\u001b[0;31m---------------------------------------------------------------------------\u001b[0m",
            "\u001b[0;31mValueError\u001b[0m                                Traceback (most recent call last)",
            "\u001b[0;32m<ipython-input-27-44550ebaeddd>\u001b[0m in \u001b[0;36m<module>\u001b[0;34m()\u001b[0m\n\u001b[1;32m      3\u001b[0m \u001b[0mprint\u001b[0m\u001b[0;34m(\u001b[0m\u001b[0mtype\u001b[0m\u001b[0;34m(\u001b[0m\u001b[0ma\u001b[0m\u001b[0;34m)\u001b[0m\u001b[0;34m)\u001b[0m\u001b[0;34m\u001b[0m\u001b[0;34m\u001b[0m\u001b[0m\n\u001b[1;32m      4\u001b[0m \u001b[0;34m\u001b[0m\u001b[0m\n\u001b[0;32m----> 5\u001b[0;31m \u001b[0ma\u001b[0m \u001b[0;34m=\u001b[0m \u001b[0mint\u001b[0m\u001b[0;34m(\u001b[0m\u001b[0ma\u001b[0m\u001b[0;34m)\u001b[0m \u001b[0;31m#string\u001b[0m\u001b[0;34m\u001b[0m\u001b[0;34m\u001b[0m\u001b[0m\n\u001b[0m\u001b[1;32m      6\u001b[0m \u001b[0;31m#print(\"the value od a: \",a)\u001b[0m\u001b[0;34m\u001b[0m\u001b[0;34m\u001b[0m\u001b[0;34m\u001b[0m\u001b[0m\n\u001b[1;32m      7\u001b[0m \u001b[0mprint\u001b[0m\u001b[0;34m(\u001b[0m\u001b[0mtype\u001b[0m\u001b[0;34m(\u001b[0m\u001b[0ma\u001b[0m\u001b[0;34m)\u001b[0m\u001b[0;34m)\u001b[0m\u001b[0;34m\u001b[0m\u001b[0;34m\u001b[0m\u001b[0m\n",
            "\u001b[0;31mValueError\u001b[0m: invalid literal for int() with base 10: 'A12'"
          ]
        }
      ]
    },
    {
      "cell_type": "code",
      "metadata": {
        "colab": {
          "base_uri": "https://localhost:8080/"
        },
        "id": "C-3xiPoukGs_",
        "outputId": "d76fb2a8-090e-4d90-a5fc-ad65f2e01a4e"
      },
      "source": [
        "type(str(4.5))"
      ],
      "execution_count": null,
      "outputs": [
        {
          "output_type": "execute_result",
          "data": {
            "text/plain": [
              "str"
            ]
          },
          "metadata": {
            "tags": []
          },
          "execution_count": 28
        }
      ]
    },
    {
      "cell_type": "code",
      "metadata": {
        "colab": {
          "base_uri": "https://localhost:8080/"
        },
        "id": "3iffLizOkcA3",
        "outputId": "8624687d-be90-4c42-a313-6cc447ebaf72"
      },
      "source": [
        "int(True)"
      ],
      "execution_count": null,
      "outputs": [
        {
          "output_type": "execute_result",
          "data": {
            "text/plain": [
              "1"
            ]
          },
          "metadata": {
            "tags": []
          },
          "execution_count": 30
        }
      ]
    },
    {
      "cell_type": "code",
      "metadata": {
        "colab": {
          "base_uri": "https://localhost:8080/"
        },
        "id": "Q-giXAZpkgaD",
        "outputId": "d05cc304-1064-4417-eeb5-af07998b33c4"
      },
      "source": [
        "int(False)"
      ],
      "execution_count": null,
      "outputs": [
        {
          "output_type": "execute_result",
          "data": {
            "text/plain": [
              "0"
            ]
          },
          "metadata": {
            "tags": []
          },
          "execution_count": 31
        }
      ]
    },
    {
      "cell_type": "code",
      "metadata": {
        "colab": {
          "base_uri": "https://localhost:8080/"
        },
        "id": "KCRCpRscknAh",
        "outputId": "178cb6ac-3826-4bb0-cbe9-30bed5c3d91e"
      },
      "source": [
        "bool(1)"
      ],
      "execution_count": 2,
      "outputs": [
        {
          "output_type": "execute_result",
          "data": {
            "text/plain": [
              "True"
            ]
          },
          "metadata": {},
          "execution_count": 2
        }
      ]
    },
    {
      "cell_type": "code",
      "metadata": {
        "colab": {
          "base_uri": "https://localhost:8080/"
        },
        "id": "Bxr4K-RTeTvH",
        "outputId": "fabb8c16-4ca1-40fc-e1f4-3998dd878330"
      },
      "source": [
        "bool(0)\n"
      ],
      "execution_count": null,
      "outputs": [
        {
          "output_type": "execute_result",
          "data": {
            "text/plain": [
              "False"
            ]
          },
          "metadata": {
            "tags": []
          },
          "execution_count": 33
        }
      ]
    },
    {
      "cell_type": "code",
      "source": [
        "a='123ac'\n",
        "int(a)\n",
        "print(type (a))"
      ],
      "metadata": {
        "colab": {
          "base_uri": "https://localhost:8080/",
          "height": 208
        },
        "id": "RBbBhOZOvp9C",
        "outputId": "d37b81dc-a763-4fa3-c2cb-90cf45ae28fd"
      },
      "execution_count": null,
      "outputs": [
        {
          "output_type": "error",
          "ename": "ValueError",
          "evalue": "ignored",
          "traceback": [
            "\u001b[0;31m---------------------------------------------------------------------------\u001b[0m",
            "\u001b[0;31mValueError\u001b[0m                                Traceback (most recent call last)",
            "\u001b[0;32m<ipython-input-43-8d430e4fbe07>\u001b[0m in \u001b[0;36m<module>\u001b[0;34m()\u001b[0m\n\u001b[1;32m      1\u001b[0m \u001b[0ma\u001b[0m\u001b[0;34m=\u001b[0m\u001b[0;34m'123ac'\u001b[0m\u001b[0;34m\u001b[0m\u001b[0;34m\u001b[0m\u001b[0m\n\u001b[0;32m----> 2\u001b[0;31m \u001b[0mint\u001b[0m\u001b[0;34m(\u001b[0m\u001b[0ma\u001b[0m\u001b[0;34m)\u001b[0m\u001b[0;34m\u001b[0m\u001b[0;34m\u001b[0m\u001b[0m\n\u001b[0m\u001b[1;32m      3\u001b[0m \u001b[0mprint\u001b[0m\u001b[0;34m(\u001b[0m\u001b[0mtype\u001b[0m \u001b[0;34m(\u001b[0m\u001b[0ma\u001b[0m\u001b[0;34m)\u001b[0m\u001b[0;34m)\u001b[0m\u001b[0;34m\u001b[0m\u001b[0;34m\u001b[0m\u001b[0m\n",
            "\u001b[0;31mValueError\u001b[0m: invalid literal for int() with base 10: '123ac'"
          ]
        }
      ]
    },
    {
      "cell_type": "markdown",
      "source": [
        "## mathmatical operation"
      ],
      "metadata": {
        "id": "msFn731egl8u"
      }
    },
    {
      "cell_type": "code",
      "metadata": {
        "colab": {
          "base_uri": "https://localhost:8080/"
        },
        "id": "Kf6pkJYZloBB",
        "outputId": "4f90ee8c-beb4-4788-9910-2fc1939ad5c1"
      },
      "source": [
        "25/1.7"
      ],
      "execution_count": null,
      "outputs": [
        {
          "output_type": "execute_result",
          "data": {
            "text/plain": [
              "14.705882352941178"
            ]
          },
          "metadata": {},
          "execution_count": 22
        }
      ]
    },
    {
      "cell_type": "code",
      "metadata": {
        "colab": {
          "base_uri": "https://localhost:8080/"
        },
        "id": "A-EKdjkCln-D",
        "outputId": "f23a3fea-8d04-4605-a2e9-f55c658ab757"
      },
      "source": [
        "a = 25\n",
        "b = 4\n",
        "print(a, \"divided by \",b,\"= \",a/b)\n",
        "type(a/b)"
      ],
      "execution_count": null,
      "outputs": [
        {
          "output_type": "stream",
          "name": "stdout",
          "text": [
            "25 divided by  4 =  6.25\n"
          ]
        },
        {
          "output_type": "execute_result",
          "data": {
            "text/plain": [
              "float"
            ]
          },
          "metadata": {},
          "execution_count": 10
        }
      ]
    },
    {
      "cell_type": "code",
      "metadata": {
        "colab": {
          "base_uri": "https://localhost:8080/"
        },
        "id": "rP_dQZBoln58",
        "outputId": "ea629484-3f3b-4281-9238-3c52515a3188"
      },
      "source": [
        "25%2"
      ],
      "execution_count": null,
      "outputs": [
        {
          "output_type": "execute_result",
          "data": {
            "text/plain": [
              "1"
            ]
          },
          "metadata": {},
          "execution_count": 8
        }
      ]
    },
    {
      "cell_type": "code",
      "metadata": {
        "colab": {
          "base_uri": "https://localhost:8080/"
        },
        "id": "dC_KQxMVln1a",
        "outputId": "f519b0f8-c32e-4cd3-97a8-e4a5e947e288"
      },
      "source": [
        "a = 25\n",
        "b = 4\n",
        "print(a, \"divided by \",b,\"= \",a//b)"
      ],
      "execution_count": null,
      "outputs": [
        {
          "output_type": "stream",
          "name": "stdout",
          "text": [
            "25 divided by  4 =  6\n"
          ]
        }
      ]
    },
    {
      "cell_type": "code",
      "metadata": {
        "colab": {
          "base_uri": "https://localhost:8080/"
        },
        "id": "5CItaQqIeTq5",
        "outputId": "4167b614-c527-49cd-9f82-2f6188ce100b"
      },
      "source": [
        "2*60+30"
      ],
      "execution_count": null,
      "outputs": [
        {
          "output_type": "execute_result",
          "data": {
            "text/plain": [
              "150"
            ]
          },
          "metadata": {
            "tags": []
          },
          "execution_count": 45
        }
      ]
    },
    {
      "cell_type": "code",
      "metadata": {
        "colab": {
          "base_uri": "https://localhost:8080/"
        },
        "id": "2cnAE48RnF0d",
        "outputId": "9ba90360-9e66-4b0e-bc5f-da484ea72a50"
      },
      "source": [
        "30+2*60"
      ],
      "execution_count": null,
      "outputs": [
        {
          "output_type": "execute_result",
          "data": {
            "text/plain": [
              "150"
            ]
          },
          "metadata": {
            "tags": []
          },
          "execution_count": 46
        }
      ]
    },
    {
      "cell_type": "code",
      "metadata": {
        "colab": {
          "base_uri": "https://localhost:8080/"
        },
        "id": "6Sz5hsMCnOtW",
        "outputId": "41a53e18-33ea-485e-f1c3-b13b6052acf0"
      },
      "source": [
        "(30+2)*60"
      ],
      "execution_count": null,
      "outputs": [
        {
          "output_type": "execute_result",
          "data": {
            "text/plain": [
              "1920"
            ]
          },
          "metadata": {
            "tags": []
          },
          "execution_count": 48
        }
      ]
    },
    {
      "cell_type": "code",
      "metadata": {
        "colab": {
          "base_uri": "https://localhost:8080/"
        },
        "id": "EWabH-iSnOp4",
        "outputId": "f6a9fa57-c6f5-40bf-95ae-3268428c14c1"
      },
      "source": [
        "30+2*60/6"
      ],
      "execution_count": null,
      "outputs": [
        {
          "output_type": "execute_result",
          "data": {
            "text/plain": [
              "50.0"
            ]
          },
          "metadata": {
            "tags": []
          },
          "execution_count": 49
        }
      ]
    },
    {
      "cell_type": "code",
      "metadata": {
        "colab": {
          "base_uri": "https://localhost:8080/"
        },
        "id": "cs82voNIoAaZ",
        "outputId": "c570a8d1-484d-49a6-be35-fbf597193ef0"
      },
      "source": [
        "number = 10\n",
        "print(number)\n",
        "number = 1.1\n",
        "print(number)"
      ],
      "execution_count": null,
      "outputs": [
        {
          "output_type": "stream",
          "text": [
            "10\n",
            "1.1\n"
          ],
          "name": "stdout"
        }
      ]
    },
    {
      "cell_type": "code",
      "metadata": {
        "colab": {
          "base_uri": "https://localhost:8080/"
        },
        "id": "1B0qibt2oAWa",
        "outputId": "bb0efa64-c9b3-4e9c-dea0-2a62397e58cf"
      },
      "source": [
        "website = \"apple.com\"\n",
        "print(website)\n",
        "print(type(website))\n",
        "\n",
        "website = 12\n",
        "print(website)\n",
        "print(type(website))\n"
      ],
      "execution_count": null,
      "outputs": [
        {
          "output_type": "stream",
          "name": "stdout",
          "text": [
            "apple.com\n",
            "<class 'str'>\n",
            "12\n",
            "<class 'int'>\n"
          ]
        }
      ]
    },
    {
      "cell_type": "code",
      "metadata": {
        "colab": {
          "base_uri": "https://localhost:8080/"
        },
        "id": "E2xeCfcEoa3W",
        "outputId": "a737237f-97d2-4215-d0f2-0e6ad6481a9b"
      },
      "source": [
        "a,b,c= 5,3,2.2\n",
        "print(a)\n",
        "print(b)\n",
        "print(c)"
      ],
      "execution_count": null,
      "outputs": [
        {
          "output_type": "stream",
          "name": "stdout",
          "text": [
            "5\n",
            "3\n",
            "2.2\n"
          ]
        }
      ]
    },
    {
      "cell_type": "code",
      "metadata": {
        "colab": {
          "base_uri": "https://localhost:8080/"
        },
        "id": "PZdF4QzqovbW",
        "outputId": "246522f4-c065-4910-d14f-b9f7fa6f96ce"
      },
      "source": [
        "a=5\n",
        "b=3\n",
        "c= 2.2\n",
        "print(a)\n",
        "print(b)\n",
        "print(c)"
      ],
      "execution_count": null,
      "outputs": [
        {
          "output_type": "stream",
          "text": [
            "5\n",
            "3\n",
            "2.2\n"
          ],
          "name": "stdout"
        }
      ]
    },
    {
      "cell_type": "code",
      "metadata": {
        "colab": {
          "base_uri": "https://localhost:8080/"
        },
        "id": "XzIjhaV1pF3L",
        "outputId": "6e62c2db-de5b-4a11-e07f-b4a99540f61f"
      },
      "source": [
        "x,y,z= 3,5,3\n",
        "print(x)\n",
        "print(y)\n",
        "print(z)"
      ],
      "execution_count": null,
      "outputs": [
        {
          "output_type": "stream",
          "name": "stdout",
          "text": [
            "(3, 5, 3)\n",
            "5\n",
            "3\n"
          ]
        }
      ]
    },
    {
      "cell_type": "code",
      "source": [
        "type(x)"
      ],
      "metadata": {
        "colab": {
          "base_uri": "https://localhost:8080/"
        },
        "id": "IJp3I695_LGU",
        "outputId": "83d2cb1d-0281-42bb-cf1f-b07deec8ec2f"
      },
      "execution_count": null,
      "outputs": [
        {
          "output_type": "execute_result",
          "data": {
            "text/plain": [
              "tuple"
            ]
          },
          "metadata": {},
          "execution_count": 14
        }
      ]
    },
    {
      "cell_type": "code",
      "metadata": {
        "colab": {
          "base_uri": "https://localhost:8080/"
        },
        "id": "Ql9a4z6DpSQV",
        "outputId": "59c8ebe8-1d84-492e-a84a-7c4c8023904a"
      },
      "source": [
        "x=y=z= 3\n",
        "print(x)\n",
        "print(y)\n",
        "print(z)\n"
      ],
      "execution_count": null,
      "outputs": [
        {
          "output_type": "stream",
          "text": [
            "3\n",
            "3\n",
            "3\n"
          ],
          "name": "stdout"
        }
      ]
    },
    {
      "cell_type": "markdown",
      "source": [
        "## defining variable name"
      ],
      "metadata": {
        "id": "mJdwmu9Kg5gZ"
      }
    },
    {
      "cell_type": "code",
      "metadata": {
        "colab": {
          "base_uri": "https://localhost:8080/",
          "height": 108
        },
        "id": "fFjtVBQcqJMo",
        "outputId": "f9365c3c-6a56-47c2-b975-814c3d4f5f1b"
      },
      "source": [
        "First_Name=\"Aizan\"\n",
        "print(First_Name)\n",
        "\n",
        "\n",
        "Nam@e=\"Aizan\"\n",
        "print(Name)\n",
        "\n",
        "\n",
        "\n",
        "\n",
        "\n"
      ],
      "execution_count": null,
      "outputs": [
        {
          "output_type": "error",
          "ename": "SyntaxError",
          "evalue": "cannot assign to expression here. Maybe you meant '==' instead of '='? (<ipython-input-10-72c9b57c00a7>, line 5)",
          "traceback": [
            "\u001b[0;36m  File \u001b[0;32m\"<ipython-input-10-72c9b57c00a7>\"\u001b[0;36m, line \u001b[0;32m5\u001b[0m\n\u001b[0;31m    Nam@e=\"Aizan\"\u001b[0m\n\u001b[0m    ^\u001b[0m\n\u001b[0;31mSyntaxError\u001b[0m\u001b[0;31m:\u001b[0m cannot assign to expression here. Maybe you meant '==' instead of '='?\n"
          ]
        }
      ]
    },
    {
      "cell_type": "markdown",
      "source": [
        "## string operation"
      ],
      "metadata": {
        "id": "iyd3CXDKg-hU"
      }
    },
    {
      "cell_type": "code",
      "metadata": {
        "id": "xkepy_yGhbGY"
      },
      "source": [
        "Name = \"Michael Jackson\""
      ],
      "execution_count": null,
      "outputs": []
    },
    {
      "cell_type": "code",
      "metadata": {
        "colab": {
          "base_uri": "https://localhost:8080/"
        },
        "id": "GnvVDI0whhNh",
        "outputId": "d14055ba-be11-428f-a246-64ddac8c753f"
      },
      "source": [
        "print(Name)\n",
        "print(type(Name))"
      ],
      "execution_count": null,
      "outputs": [
        {
          "output_type": "stream",
          "name": "stdout",
          "text": [
            "Michael Jackson\n",
            "<class 'str'>\n"
          ]
        }
      ]
    },
    {
      "cell_type": "code",
      "metadata": {
        "colab": {
          "base_uri": "https://localhost:8080/"
        },
        "id": "pjarHpudhnnn",
        "outputId": "1d352820-023d-4e49-c72a-40a4440d98e3"
      },
      "source": [
        "print(Name[0])\n",
        "\n",
        "print(Name[5])\n",
        "\n",
        "print(Name[10])\n",
        "\n",
        "print(Name[13])"
      ],
      "execution_count": null,
      "outputs": [
        {
          "output_type": "stream",
          "name": "stdout",
          "text": [
            "M\n",
            "e\n",
            "c\n",
            "o\n"
          ]
        }
      ]
    },
    {
      "cell_type": "code",
      "metadata": {
        "colab": {
          "base_uri": "https://localhost:8080/",
          "height": 208
        },
        "id": "40Phw5ARhybQ",
        "outputId": "1464d9f5-edb5-4033-be85-54ce41f6db74"
      },
      "source": [
        "print(Name[14])\n",
        "print(Name[15])"
      ],
      "execution_count": null,
      "outputs": [
        {
          "output_type": "stream",
          "name": "stdout",
          "text": [
            "n\n"
          ]
        },
        {
          "output_type": "error",
          "ename": "IndexError",
          "evalue": "ignored",
          "traceback": [
            "\u001b[0;31m---------------------------------------------------------------------------\u001b[0m",
            "\u001b[0;31mIndexError\u001b[0m                                Traceback (most recent call last)",
            "\u001b[0;32m<ipython-input-8-dd2a94912409>\u001b[0m in \u001b[0;36m<module>\u001b[0;34m()\u001b[0m\n\u001b[1;32m      1\u001b[0m \u001b[0mprint\u001b[0m\u001b[0;34m(\u001b[0m\u001b[0mName\u001b[0m\u001b[0;34m[\u001b[0m\u001b[0;36m14\u001b[0m\u001b[0;34m]\u001b[0m\u001b[0;34m)\u001b[0m\u001b[0;34m\u001b[0m\u001b[0;34m\u001b[0m\u001b[0m\n\u001b[0;32m----> 2\u001b[0;31m \u001b[0mprint\u001b[0m\u001b[0;34m(\u001b[0m\u001b[0mName\u001b[0m\u001b[0;34m[\u001b[0m\u001b[0;36m15\u001b[0m\u001b[0;34m]\u001b[0m\u001b[0;34m)\u001b[0m\u001b[0;34m\u001b[0m\u001b[0;34m\u001b[0m\u001b[0m\n\u001b[0m",
            "\u001b[0;31mIndexError\u001b[0m: string index out of range"
          ]
        }
      ]
    },
    {
      "cell_type": "code",
      "metadata": {
        "colab": {
          "base_uri": "https://localhost:8080/"
        },
        "id": "R3GmyiZ8hbAO",
        "outputId": "de880579-46d7-4b29-b4f2-82bc4e573e2a"
      },
      "source": [
        "print(Name[-1])\n",
        "print(Name[-15])\n",
        "print(Name[-5])\n",
        "print(Name[-10])"
      ],
      "execution_count": null,
      "outputs": [
        {
          "output_type": "stream",
          "name": "stdout",
          "text": [
            "n\n",
            "M\n",
            "c\n",
            "e\n"
          ]
        }
      ]
    },
    {
      "cell_type": "code",
      "metadata": {
        "colab": {
          "base_uri": "https://localhost:8080/",
          "height": 163
        },
        "id": "GJ9QJqC0iPdi",
        "outputId": "16ed6f11-58e7-4587-f4b0-b1ef7e5e8011"
      },
      "source": [
        "print(Name[-16])"
      ],
      "execution_count": null,
      "outputs": [
        {
          "output_type": "error",
          "ename": "IndexError",
          "evalue": "ignored",
          "traceback": [
            "\u001b[0;31m---------------------------------------------------------------------------\u001b[0m",
            "\u001b[0;31mIndexError\u001b[0m                                Traceback (most recent call last)",
            "\u001b[0;32m<ipython-input-7-ac23f16b2e7b>\u001b[0m in \u001b[0;36m<module>\u001b[0;34m()\u001b[0m\n\u001b[0;32m----> 1\u001b[0;31m \u001b[0mprint\u001b[0m\u001b[0;34m(\u001b[0m\u001b[0mName\u001b[0m\u001b[0;34m[\u001b[0m\u001b[0;34m-\u001b[0m\u001b[0;36m16\u001b[0m\u001b[0;34m]\u001b[0m\u001b[0;34m)\u001b[0m\u001b[0;34m\u001b[0m\u001b[0;34m\u001b[0m\u001b[0m\n\u001b[0m",
            "\u001b[0;31mIndexError\u001b[0m: string index out of range"
          ]
        }
      ]
    },
    {
      "cell_type": "code",
      "metadata": {
        "colab": {
          "base_uri": "https://localhost:8080/"
        },
        "id": "A1opUyv0iVeD",
        "outputId": "20340872-d600-4751-c498-60f3b1acec72"
      },
      "source": [
        "print(Name[0:4])"
      ],
      "execution_count": null,
      "outputs": [
        {
          "output_type": "stream",
          "name": "stdout",
          "text": [
            "Mich\n"
          ]
        }
      ]
    },
    {
      "cell_type": "code",
      "metadata": {
        "colab": {
          "base_uri": "https://localhost:8080/"
        },
        "id": "1TOKYRopiwR3",
        "outputId": "6505006f-5cd1-454c-fac5-bb58d6ecc84a"
      },
      "source": [
        "print(Name[7:12])"
      ],
      "execution_count": null,
      "outputs": [
        {
          "output_type": "stream",
          "text": [
            " Jack\n"
          ],
          "name": "stdout"
        }
      ]
    },
    {
      "cell_type": "code",
      "metadata": {
        "colab": {
          "base_uri": "https://localhost:8080/"
        },
        "id": "EJJiTJMii0mH",
        "outputId": "30bd8bde-dc2f-4f72-9667-17b5bfe8671c"
      },
      "source": [
        "print(Name[-7:-1])"
      ],
      "execution_count": null,
      "outputs": [
        {
          "output_type": "stream",
          "name": "stdout",
          "text": [
            "Jackso\n"
          ]
        }
      ]
    },
    {
      "cell_type": "code",
      "metadata": {
        "colab": {
          "base_uri": "https://localhost:8080/"
        },
        "id": "uqMWZgyUjZUh",
        "outputId": "6b8da471-8136-4118-a1b7-bca9a91ece36"
      },
      "source": [
        "print(Name)"
      ],
      "execution_count": null,
      "outputs": [
        {
          "output_type": "stream",
          "text": [
            "Aizan Zafar\n"
          ],
          "name": "stdout"
        }
      ]
    },
    {
      "cell_type": "code",
      "metadata": {
        "id": "kytckTWrj9pU"
      },
      "source": [
        "Name =\"Aizan Zafar\""
      ],
      "execution_count": null,
      "outputs": []
    },
    {
      "cell_type": "code",
      "metadata": {
        "colab": {
          "base_uri": "https://localhost:8080/"
        },
        "id": "Fyp93efO5ECp",
        "outputId": "10449ca5-9b68-4823-affa-531e9772494e"
      },
      "source": [
        "print(len(Name))\n",
        "print(len(\"aizan zafar\"))"
      ],
      "execution_count": null,
      "outputs": [
        {
          "output_type": "stream",
          "name": "stdout",
          "text": [
            "11\n",
            "11\n"
          ]
        }
      ]
    },
    {
      "cell_type": "code",
      "metadata": {
        "colab": {
          "base_uri": "https://localhost:8080/",
          "height": 35
        },
        "id": "pWYeuRarkBbV",
        "outputId": "d99abad9-3dcc-42b5-9e74-fcbdcab18065"
      },
      "source": [
        "Name[0]"
      ],
      "execution_count": null,
      "outputs": [
        {
          "output_type": "execute_result",
          "data": {
            "text/plain": [
              "'A'"
            ],
            "application/vnd.google.colaboratory.intrinsic+json": {
              "type": "string"
            }
          },
          "metadata": {},
          "execution_count": 16
        }
      ]
    },
    {
      "cell_type": "code",
      "metadata": {
        "colab": {
          "base_uri": "https://localhost:8080/",
          "height": 171
        },
        "id": "Y3drqr8vkJwi",
        "outputId": "6d0bf520-1b8f-41a9-f6e0-26a3ed6af509"
      },
      "source": [
        "Name[0]='B'"
      ],
      "execution_count": null,
      "outputs": [
        {
          "output_type": "error",
          "ename": "TypeError",
          "evalue": "ignored",
          "traceback": [
            "\u001b[0;31m---------------------------------------------------------------------------\u001b[0m",
            "\u001b[0;31mTypeError\u001b[0m                                 Traceback (most recent call last)",
            "\u001b[0;32m<ipython-input-17-1c2ea7f1d337>\u001b[0m in \u001b[0;36m<module>\u001b[0;34m()\u001b[0m\n\u001b[0;32m----> 1\u001b[0;31m \u001b[0mName\u001b[0m\u001b[0;34m[\u001b[0m\u001b[0;36m0\u001b[0m\u001b[0;34m]\u001b[0m\u001b[0;34m=\u001b[0m\u001b[0;34m'B'\u001b[0m\u001b[0;34m\u001b[0m\u001b[0;34m\u001b[0m\u001b[0m\n\u001b[0m",
            "\u001b[0;31mTypeError\u001b[0m: 'str' object does not support item assignment"
          ]
        }
      ]
    },
    {
      "cell_type": "code",
      "metadata": {
        "colab": {
          "base_uri": "https://localhost:8080/",
          "height": 35
        },
        "id": "18mtlnN-kOJv",
        "outputId": "2c5f38ed-27d9-4f70-cdcf-cde7d7bc6af1"
      },
      "source": [
        "Name[::2]"
      ],
      "execution_count": null,
      "outputs": [
        {
          "output_type": "execute_result",
          "data": {
            "text/plain": [
              "'AznZfr'"
            ],
            "application/vnd.google.colaboratory.intrinsic+json": {
              "type": "string"
            }
          },
          "metadata": {},
          "execution_count": 18
        }
      ]
    },
    {
      "cell_type": "code",
      "metadata": {
        "colab": {
          "base_uri": "https://localhost:8080/",
          "height": 35
        },
        "id": "JM9FuzMXlH9z",
        "outputId": "4141cb2b-1b79-47a8-afb6-0ccf84f4eaa8"
      },
      "source": [
        "Name[::3]"
      ],
      "execution_count": null,
      "outputs": [
        {
          "output_type": "execute_result",
          "data": {
            "text/plain": [
              "'AaZa'"
            ],
            "application/vnd.google.colaboratory.intrinsic+json": {
              "type": "string"
            }
          },
          "metadata": {},
          "execution_count": 19
        }
      ]
    },
    {
      "cell_type": "code",
      "metadata": {
        "colab": {
          "base_uri": "https://localhost:8080/",
          "height": 35
        },
        "id": "xLbKAOj5jBXU",
        "outputId": "3b93e5f0-beb5-4ea0-ac7e-048b663e9bb0"
      },
      "source": [
        "Name[0:5:2]"
      ],
      "execution_count": null,
      "outputs": [
        {
          "output_type": "execute_result",
          "data": {
            "text/plain": [
              "'Azn'"
            ],
            "application/vnd.google.colaboratory.intrinsic+json": {
              "type": "string"
            }
          },
          "metadata": {},
          "execution_count": 20
        }
      ]
    },
    {
      "cell_type": "code",
      "metadata": {
        "colab": {
          "base_uri": "https://localhost:8080/",
          "height": 90
        },
        "id": "S3yf4Aqglg8z",
        "outputId": "29d845b4-31f6-45b3-e486-d89074408044"
      },
      "source": [
        "print(Name)\n",
        "print(len(Name))\n",
        "l= len(Name)\n",
        "print(l)\n",
        "Name[l-2]"
      ],
      "execution_count": null,
      "outputs": [
        {
          "output_type": "stream",
          "name": "stdout",
          "text": [
            "Aizan Zafar\n",
            "11\n",
            "11\n"
          ]
        },
        {
          "output_type": "execute_result",
          "data": {
            "text/plain": [
              "'a'"
            ],
            "application/vnd.google.colaboratory.intrinsic+json": {
              "type": "string"
            }
          },
          "metadata": {},
          "execution_count": 27
        }
      ]
    },
    {
      "cell_type": "code",
      "metadata": {
        "colab": {
          "base_uri": "https://localhost:8080/"
        },
        "id": "CVIEaNuXl8qv",
        "outputId": "5b12a11f-5148-4a22-a351-23df733610ab"
      },
      "source": [
        "len(\"Michael Jackson\")"
      ],
      "execution_count": null,
      "outputs": [
        {
          "output_type": "execute_result",
          "data": {
            "text/plain": [
              "15"
            ]
          },
          "metadata": {
            "tags": []
          },
          "execution_count": 37
        }
      ]
    },
    {
      "cell_type": "code",
      "metadata": {
        "id": "2QMa0-ubmMil"
      },
      "source": [
        "First_Name =\"Aizan\"\n",
        "Last_Name = \"Zafar\""
      ],
      "execution_count": null,
      "outputs": []
    },
    {
      "cell_type": "code",
      "metadata": {
        "colab": {
          "base_uri": "https://localhost:8080/"
        },
        "id": "ky0ckbM4mwYY",
        "outputId": "bb54023f-88c0-4bff-d206-377cf09e0ba6"
      },
      "source": [
        "statement = First_Name +\" \"+ Last_Name + \" is a PhD Scholar\"\n",
        "print(statement)"
      ],
      "execution_count": null,
      "outputs": [
        {
          "output_type": "stream",
          "name": "stdout",
          "text": [
            "Aizan Zafar is a PhD Scholar\n"
          ]
        }
      ]
    },
    {
      "cell_type": "code",
      "metadata": {
        "id": "Szpu2HSdn0Mh",
        "colab": {
          "base_uri": "https://localhost:8080/"
        },
        "outputId": "f928fd3a-c572-4d08-f7d8-61f21d621752"
      },
      "source": [
        "print('1'+'2')"
      ],
      "execution_count": null,
      "outputs": [
        {
          "output_type": "stream",
          "name": "stdout",
          "text": [
            "12\n"
          ]
        }
      ]
    },
    {
      "cell_type": "code",
      "metadata": {
        "colab": {
          "base_uri": "https://localhost:8080/"
        },
        "id": "WiyvPw7cm5tI",
        "outputId": "53a5b43d-ee85-4b47-e076-d6ca064fcf52"
      },
      "source": [
        "out=3*\" Im The Best\"\n",
        "print(len(out))\n",
        "\n",
        "print(out[0:12:2])"
      ],
      "execution_count": null,
      "outputs": [
        {
          "output_type": "stream",
          "name": "stdout",
          "text": [
            "36\n",
            " mTeBs\n"
          ]
        }
      ]
    },
    {
      "cell_type": "code",
      "metadata": {
        "colab": {
          "base_uri": "https://localhost:8080/"
        },
        "id": "70GuMiQpiPYP",
        "outputId": "44c144da-9c67-45f0-a4a7-a7e81e9218c1"
      },
      "source": [
        "multi_string = \"\"\"this is\n",
        "multi string\n",
        "example \"\"\"\n",
        "\n",
        "print(multi_string)\n",
        "len(multi_string)"
      ],
      "execution_count": null,
      "outputs": [
        {
          "output_type": "stream",
          "name": "stdout",
          "text": [
            "this is \n",
            "multi string \n",
            "example \n"
          ]
        },
        {
          "output_type": "execute_result",
          "data": {
            "text/plain": [
              "31"
            ]
          },
          "metadata": {},
          "execution_count": 37
        }
      ]
    },
    {
      "cell_type": "code",
      "source": [
        "multi_string = \"this is multi string  example\"\n",
        "\n",
        "print(multi_string)\n",
        "len(multi_string)"
      ],
      "metadata": {
        "colab": {
          "base_uri": "https://localhost:8080/"
        },
        "id": "y-JJF9RlJbMZ",
        "outputId": "746310d8-7411-4a50-f80a-ca25a8021f2e"
      },
      "execution_count": null,
      "outputs": [
        {
          "output_type": "stream",
          "name": "stdout",
          "text": [
            "this is multi string  example\n"
          ]
        },
        {
          "output_type": "execute_result",
          "data": {
            "text/plain": [
              "29"
            ]
          },
          "metadata": {},
          "execution_count": 42
        }
      ]
    },
    {
      "cell_type": "code",
      "metadata": {
        "colab": {
          "base_uri": "https://localhost:8080/"
        },
        "id": "CuAznSvConVe",
        "outputId": "8b1e0b3b-82b7-473a-bb48-2bd061110de6"
      },
      "source": [
        "multi_string_2 = \"this is\\n multi string \\texample \\\\ 2\"\n",
        "print(multi_string_2)\n",
        "len(multi_string_2)"
      ],
      "execution_count": null,
      "outputs": [
        {
          "output_type": "stream",
          "name": "stdout",
          "text": [
            "this is\n",
            " multi string \texample \\ 2\n"
          ]
        },
        {
          "output_type": "execute_result",
          "data": {
            "text/plain": [
              "34"
            ]
          },
          "metadata": {},
          "execution_count": 43
        }
      ]
    },
    {
      "cell_type": "code",
      "metadata": {
        "colab": {
          "base_uri": "https://localhost:8080/"
        },
        "id": "n0b1a0Vdo2nE",
        "outputId": "c2ac8f37-9ae9-459f-e479-a86967cd0a57"
      },
      "source": [
        "print(\"Michael \\\\ Jackson\")\n",
        "print(r\"Michael \\ Jackson\")"
      ],
      "execution_count": null,
      "outputs": [
        {
          "output_type": "stream",
          "name": "stdout",
          "text": [
            "Michael \\ Jackson\n",
            "Michael \\ Jackson\n"
          ]
        }
      ]
    },
    {
      "cell_type": "code",
      "metadata": {
        "colab": {
          "base_uri": "https://localhost:8080/"
        },
        "id": "7vlYPhoppuMb",
        "outputId": "8559a664-8b71-4b1d-ede8-4bc454d59de2"
      },
      "source": [
        "print(multi_string.upper())"
      ],
      "execution_count": null,
      "outputs": [
        {
          "output_type": "stream",
          "text": [
            "THIS IS \n",
            "MULTI STRING \n",
            "EXAMPLE \n"
          ],
          "name": "stdout"
        }
      ]
    },
    {
      "cell_type": "code",
      "metadata": {
        "colab": {
          "base_uri": "https://localhost:8080/"
        },
        "id": "-x0BmCduqHVw",
        "outputId": "36969690-7f45-40d5-d3d4-9a3a9e430003"
      },
      "source": [
        "A =\"This IS a String\"\n",
        "print(\"A = \",A)\n",
        "B = A.upper()\n",
        "print(\"In Upper Case: \",B)\n",
        "\n",
        "C = A.lower()\n",
        "print(\"In Lower Case: \",C)"
      ],
      "execution_count": null,
      "outputs": [
        {
          "output_type": "stream",
          "text": [
            "A =  This IS a String\n",
            "In Upper Case:  THIS IS A STRING\n",
            "In Lower Case:  this is a string\n"
          ],
          "name": "stdout"
        }
      ]
    },
    {
      "cell_type": "code",
      "metadata": {
        "id": "2B7rARKEqr_o"
      },
      "source": [
        "A = A.replace(\"This\",\"That\")"
      ],
      "execution_count": null,
      "outputs": []
    },
    {
      "cell_type": "code",
      "metadata": {
        "colab": {
          "base_uri": "https://localhost:8080/"
        },
        "id": "mnw7tTbXrUQH",
        "outputId": "ac642574-0731-4f26-8628-7f47f31c2237"
      },
      "source": [
        "print(A)"
      ],
      "execution_count": null,
      "outputs": [
        {
          "output_type": "stream",
          "text": [
            "That IS a String\n"
          ],
          "name": "stdout"
        }
      ]
    },
    {
      "cell_type": "code",
      "metadata": {
        "colab": {
          "base_uri": "https://localhost:8080/"
        },
        "id": "JWr9NJz0rYBw",
        "outputId": "22dcd67f-7b90-478c-b985-6db520104851"
      },
      "source": [
        "len(A)"
      ],
      "execution_count": null,
      "outputs": [
        {
          "output_type": "execute_result",
          "data": {
            "text/plain": [
              "16"
            ]
          },
          "metadata": {
            "tags": []
          },
          "execution_count": 74
        }
      ]
    },
    {
      "cell_type": "code",
      "metadata": {
        "colab": {
          "base_uri": "https://localhost:8080/"
        },
        "id": "wNP8JPDdrnFI",
        "outputId": "581c4f73-1782-4074-d044-1733083d052c"
      },
      "source": [
        "A.find(\"IS\")"
      ],
      "execution_count": null,
      "outputs": [
        {
          "output_type": "execute_result",
          "data": {
            "text/plain": [
              "5"
            ]
          },
          "metadata": {
            "tags": []
          },
          "execution_count": 75
        }
      ]
    },
    {
      "cell_type": "code",
      "metadata": {
        "colab": {
          "base_uri": "https://localhost:8080/"
        },
        "id": "8nEUPc2ZrsuW",
        "outputId": "96e5fff7-ee67-4bb5-a621-017be95a40a9"
      },
      "source": [
        "D= \" This Is a bad also This Is a Good Way\"\n",
        "D.find(\"Is\")\n"
      ],
      "execution_count": null,
      "outputs": [
        {
          "output_type": "execute_result",
          "data": {
            "text/plain": [
              "6"
            ]
          },
          "metadata": {},
          "execution_count": 45
        }
      ]
    },
    {
      "cell_type": "code",
      "metadata": {
        "id": "n_rQuKtghapI",
        "colab": {
          "base_uri": "https://localhost:8080/"
        },
        "outputId": "23f5bcc3-e8b1-4073-e87d-98f4837990be"
      },
      "source": [
        "print(D[6:8])"
      ],
      "execution_count": null,
      "outputs": [
        {
          "output_type": "stream",
          "name": "stdout",
          "text": [
            "Is\n"
          ]
        }
      ]
    },
    {
      "cell_type": "code",
      "metadata": {
        "colab": {
          "base_uri": "https://localhost:8080/",
          "height": 35
        },
        "id": "g6fmuYtu6BJ9",
        "outputId": "da3c8ea6-4006-4dee-f07a-f21279cc60dc"
      },
      "source": [
        "# Question: Use slicing to find the first four elements of the following string:\n",
        "Letters=\"ABCDEFGHIJK\"\n",
        "Letters[0:4]"
      ],
      "execution_count": null,
      "outputs": [
        {
          "output_type": "execute_result",
          "data": {
            "application/vnd.google.colaboratory.intrinsic+json": {
              "type": "string"
            },
            "text/plain": [
              "'ABCD'"
            ]
          },
          "metadata": {
            "tags": []
          },
          "execution_count": 77
        }
      ]
    },
    {
      "cell_type": "markdown",
      "source": [
        "##list"
      ],
      "metadata": {
        "id": "vik_ko9RhMi-"
      }
    },
    {
      "cell_type": "code",
      "metadata": {
        "colab": {
          "base_uri": "https://localhost:8080/",
          "height": 35
        },
        "id": "RbyttgRi6A8-",
        "outputId": "8936900d-8a64-4e68-b73a-9b374002d8f4"
      },
      "source": [
        "# Question: Use a stride value of two on the following string :\n",
        "Good=\"GsoAo+d\"\n",
        "Good[::2]"
      ],
      "execution_count": null,
      "outputs": [
        {
          "output_type": "execute_result",
          "data": {
            "application/vnd.google.colaboratory.intrinsic+json": {
              "type": "string"
            },
            "text/plain": [
              "'Good'"
            ]
          },
          "metadata": {
            "tags": []
          },
          "execution_count": 78
        }
      ]
    },
    {
      "cell_type": "code",
      "source": [
        "len(['aizan','aa','1200'])"
      ],
      "metadata": {
        "colab": {
          "base_uri": "https://localhost:8080/"
        },
        "id": "cZsuC9udLrzl",
        "outputId": "89f746c4-9c94-4cb1-e964-bca395a815cb"
      },
      "execution_count": null,
      "outputs": [
        {
          "output_type": "execute_result",
          "data": {
            "text/plain": [
              "3"
            ]
          },
          "metadata": {},
          "execution_count": 48
        }
      ]
    },
    {
      "cell_type": "markdown",
      "source": [
        "## tuple"
      ],
      "metadata": {
        "id": "u1IVHyRQhbAr"
      }
    },
    {
      "cell_type": "code",
      "metadata": {
        "id": "dn-ytL3U6AyL"
      },
      "source": [
        "tuple1 = (\"disco\",12,4.5)"
      ],
      "execution_count": null,
      "outputs": []
    },
    {
      "cell_type": "code",
      "metadata": {
        "colab": {
          "base_uri": "https://localhost:8080/"
        },
        "id": "8_UCDicL2Jc4",
        "outputId": "5d6b4e66-399b-45b6-e299-2d11d5f42c3f"
      },
      "source": [
        "print(tuple1)"
      ],
      "execution_count": null,
      "outputs": [
        {
          "output_type": "stream",
          "name": "stdout",
          "text": [
            "('disco', 12, 4.5)\n"
          ]
        }
      ]
    },
    {
      "cell_type": "code",
      "metadata": {
        "colab": {
          "base_uri": "https://localhost:8080/"
        },
        "id": "TbLVLGHs2Mcd",
        "outputId": "cf76e520-44e1-4159-f7fd-d81d68404866"
      },
      "source": [
        "print(tuple1[-1])\n",
        "print(tuple1[-2])\n",
        "print(tuple1[2])"
      ],
      "execution_count": null,
      "outputs": [
        {
          "output_type": "stream",
          "name": "stdout",
          "text": [
            "4.5\n",
            "12\n",
            "4.5\n"
          ]
        }
      ]
    },
    {
      "cell_type": "code",
      "source": [
        "len(tuple1)"
      ],
      "metadata": {
        "colab": {
          "base_uri": "https://localhost:8080/"
        },
        "id": "8K5OkorOr1Ze",
        "outputId": "86838d28-674c-4587-8c7f-b9397dd21ca9"
      },
      "execution_count": null,
      "outputs": [
        {
          "output_type": "execute_result",
          "data": {
            "text/plain": [
              "3"
            ]
          },
          "metadata": {},
          "execution_count": 29
        }
      ]
    },
    {
      "cell_type": "code",
      "source": [
        "tuple1[3]"
      ],
      "metadata": {
        "id": "UNd0KP3zFGYA",
        "outputId": "3a874b73-e9e6-4a89-8263-12e17036ea80",
        "colab": {
          "base_uri": "https://localhost:8080/",
          "height": 165
        }
      },
      "execution_count": null,
      "outputs": [
        {
          "output_type": "error",
          "ename": "IndexError",
          "evalue": "ignored",
          "traceback": [
            "\u001b[0;31m---------------------------------------------------------------------------\u001b[0m",
            "\u001b[0;31mIndexError\u001b[0m                                Traceback (most recent call last)",
            "\u001b[0;32m<ipython-input-28-af9e3c139822>\u001b[0m in \u001b[0;36m<module>\u001b[0;34m\u001b[0m\n\u001b[0;32m----> 1\u001b[0;31m \u001b[0mtuple1\u001b[0m\u001b[0;34m[\u001b[0m\u001b[0;36m3\u001b[0m\u001b[0;34m]\u001b[0m\u001b[0;34m\u001b[0m\u001b[0;34m\u001b[0m\u001b[0m\n\u001b[0m",
            "\u001b[0;31mIndexError\u001b[0m: tuple index out of range"
          ]
        }
      ]
    },
    {
      "cell_type": "code",
      "metadata": {
        "colab": {
          "base_uri": "https://localhost:8080/"
        },
        "id": "vqZlApkc2T4u",
        "outputId": "fb95fa52-9f19-43da-cd86-d672f8941eb2"
      },
      "source": [
        "type(tuple1)"
      ],
      "execution_count": null,
      "outputs": [
        {
          "output_type": "execute_result",
          "data": {
            "text/plain": [
              "tuple"
            ]
          },
          "metadata": {},
          "execution_count": 8
        }
      ]
    },
    {
      "cell_type": "code",
      "metadata": {
        "colab": {
          "base_uri": "https://localhost:8080/"
        },
        "id": "G-jgXEBA2az8",
        "outputId": "b3a9f998-a31d-4774-e26d-e2e7ac4deac9"
      },
      "source": [
        "print(type(tuple1[0]))\n",
        "print(type(tuple1[1]))\n",
        "print(type(tuple1[2]))"
      ],
      "execution_count": null,
      "outputs": [
        {
          "output_type": "stream",
          "name": "stdout",
          "text": [
            "<class 'str'>\n",
            "<class 'int'>\n",
            "<class 'float'>\n"
          ]
        }
      ]
    },
    {
      "cell_type": "code",
      "metadata": {
        "colab": {
          "base_uri": "https://localhost:8080/"
        },
        "id": "i1DPRK4i2JUg",
        "outputId": "af6d5166-24c5-4a60-ac73-fa965f4f7fd5"
      },
      "source": [
        "len(tuple1)"
      ],
      "execution_count": null,
      "outputs": [
        {
          "output_type": "execute_result",
          "data": {
            "text/plain": [
              "3"
            ]
          },
          "metadata": {},
          "execution_count": 10
        }
      ]
    },
    {
      "cell_type": "code",
      "metadata": {
        "id": "ArZbuZWK2-Tx"
      },
      "source": [
        "tuple2 = tuple1 + (\"hard rock\",10)"
      ],
      "execution_count": null,
      "outputs": []
    },
    {
      "cell_type": "code",
      "metadata": {
        "colab": {
          "base_uri": "https://localhost:8080/"
        },
        "id": "92PfKZaa3FVs",
        "outputId": "776c188c-f35a-4d91-94ef-c98f5f28c1cf"
      },
      "source": [
        "print(tuple2)"
      ],
      "execution_count": null,
      "outputs": [
        {
          "output_type": "stream",
          "name": "stdout",
          "text": [
            "(\"disco's\", 12, 4.5, 'hard rock', 10)\n"
          ]
        }
      ]
    },
    {
      "cell_type": "code",
      "metadata": {
        "colab": {
          "base_uri": "https://localhost:8080/"
        },
        "id": "yjM2ZepB3H5w",
        "outputId": "0572d315-a65b-4c1f-b5a9-4f4d9b0ae608"
      },
      "source": [
        "len(tuple2)"
      ],
      "execution_count": null,
      "outputs": [
        {
          "output_type": "execute_result",
          "data": {
            "text/plain": [
              "5"
            ]
          },
          "metadata": {
            "tags": []
          },
          "execution_count": 9
        }
      ]
    },
    {
      "cell_type": "code",
      "metadata": {
        "colab": {
          "base_uri": "https://localhost:8080/"
        },
        "id": "0VkTK4OJ3MmN",
        "outputId": "9e39982d-2239-446e-ca08-351798cea4df"
      },
      "source": [
        "print(tuple2[3])"
      ],
      "execution_count": null,
      "outputs": [
        {
          "output_type": "stream",
          "name": "stdout",
          "text": [
            "hard rock\n"
          ]
        }
      ]
    },
    {
      "cell_type": "code",
      "metadata": {
        "colab": {
          "base_uri": "https://localhost:8080/"
        },
        "id": "LzZC1Q_W3Vml",
        "outputId": "f7b08986-da52-4749-a2c3-9083188aa92d"
      },
      "source": [
        "print(tuple2[-2])"
      ],
      "execution_count": null,
      "outputs": [
        {
          "output_type": "stream",
          "name": "stdout",
          "text": [
            "hard rock\n"
          ]
        }
      ]
    },
    {
      "cell_type": "code",
      "metadata": {
        "colab": {
          "base_uri": "https://localhost:8080/"
        },
        "id": "SBIgEEME3aq6",
        "outputId": "fcdf8ed3-285e-41c0-bfc7-356fefa10f67"
      },
      "source": [
        "tuple1=('disco',12,4.5)\n",
        "tuple2=('rock',10)\n",
        "\n",
        "new_tuple= tuple1 + tuple2\n",
        "print(new_tuple)\n",
        "print(len(new_tuple))"
      ],
      "execution_count": null,
      "outputs": [
        {
          "output_type": "stream",
          "name": "stdout",
          "text": [
            "('disco', 12, 4.5, 'rock', 10)\n",
            "5\n"
          ]
        }
      ]
    },
    {
      "cell_type": "code",
      "source": [
        "print(tuple1)\n",
        "print(tuple2)\n",
        "print(new_tuple)"
      ],
      "metadata": {
        "colab": {
          "base_uri": "https://localhost:8080/"
        },
        "id": "nl9a4itDUHaO",
        "outputId": "50d49b7f-65b8-4700-efbf-2e43969bc4d8"
      },
      "execution_count": null,
      "outputs": [
        {
          "output_type": "stream",
          "name": "stdout",
          "text": [
            "('disco', 12, 4.5)\n",
            "('rock', 10)\n",
            "('disco', 12, 4.5, 'rock', 10)\n"
          ]
        }
      ]
    },
    {
      "cell_type": "code",
      "metadata": {
        "colab": {
          "base_uri": "https://localhost:8080/"
        },
        "id": "DtKuvzk83ycL",
        "outputId": "7471dbbb-3f24-4895-f945-728e9541a645"
      },
      "source": [
        "new_tuple[3:5]"
      ],
      "execution_count": null,
      "outputs": [
        {
          "output_type": "execute_result",
          "data": {
            "text/plain": [
              "('rock', 10)"
            ]
          },
          "metadata": {
            "tags": []
          },
          "execution_count": 15
        }
      ]
    },
    {
      "cell_type": "code",
      "metadata": {
        "id": "P5EMQzay4RC6"
      },
      "source": [
        "Ratings = (10,9,6,5,10,5,4)"
      ],
      "execution_count": null,
      "outputs": []
    },
    {
      "cell_type": "code",
      "metadata": {
        "colab": {
          "base_uri": "https://localhost:8080/"
        },
        "id": "Rva6w3dQ5pCO",
        "outputId": "f828b226-58ad-4f84-a950-595c49771854"
      },
      "source": [
        "Ratings[3]"
      ],
      "execution_count": null,
      "outputs": [
        {
          "output_type": "execute_result",
          "data": {
            "text/plain": [
              "5"
            ]
          },
          "metadata": {},
          "execution_count": 19
        }
      ]
    },
    {
      "cell_type": "code",
      "metadata": {
        "colab": {
          "base_uri": "https://localhost:8080/",
          "height": 171
        },
        "id": "dZAvPHCO5suK",
        "outputId": "f14f902e-7bf6-48ad-e77c-938d2843649a"
      },
      "source": [
        "Ratings[3] =6"
      ],
      "execution_count": null,
      "outputs": [
        {
          "output_type": "error",
          "ename": "TypeError",
          "evalue": "ignored",
          "traceback": [
            "\u001b[0;31m---------------------------------------------------------------------------\u001b[0m",
            "\u001b[0;31mTypeError\u001b[0m                                 Traceback (most recent call last)",
            "\u001b[0;32m<ipython-input-20-b9e37ad7ca66>\u001b[0m in \u001b[0;36m<module>\u001b[0;34m()\u001b[0m\n\u001b[0;32m----> 1\u001b[0;31m \u001b[0mRatings\u001b[0m\u001b[0;34m[\u001b[0m\u001b[0;36m3\u001b[0m\u001b[0;34m]\u001b[0m \u001b[0;34m=\u001b[0m\u001b[0;36m6\u001b[0m\u001b[0;34m\u001b[0m\u001b[0;34m\u001b[0m\u001b[0m\n\u001b[0m",
            "\u001b[0;31mTypeError\u001b[0m: 'tuple' object does not support item assignment"
          ]
        }
      ]
    },
    {
      "cell_type": "code",
      "metadata": {
        "id": "rAKSeNJP5yZI"
      },
      "source": [
        "Ratings= (10, 9, 6, 5, 10, 5, 4)\n",
        "SortedRating= sorted(Ratings)"
      ],
      "execution_count": null,
      "outputs": []
    },
    {
      "cell_type": "code",
      "metadata": {
        "colab": {
          "base_uri": "https://localhost:8080/"
        },
        "id": "CV63e3QP6O1X",
        "outputId": "a6fe0093-a4fe-4aff-a535-e61f1e00dd63"
      },
      "source": [
        "print(Ratings)\n",
        "print(type(Ratings))\n",
        "print(SortedRating)\n",
        "print(type(SortedRating))"
      ],
      "execution_count": null,
      "outputs": [
        {
          "output_type": "stream",
          "name": "stdout",
          "text": [
            "(10, 9, 6, 5, 10, 5, 4)\n",
            "<class 'tuple'>\n",
            "[4, 5, 5, 6, 9, 10, 10]\n",
            "<class 'list'>\n"
          ]
        }
      ]
    },
    {
      "cell_type": "markdown",
      "source": [
        "## tuple nesting"
      ],
      "metadata": {
        "id": "O4ZgnscGhk-q"
      }
    },
    {
      "cell_type": "code",
      "metadata": {
        "id": "aCcgtRWL6lZL"
      },
      "source": [
        "NT = (1, 2,  ('pop', 'rock'), (3, 4), ('disco', (1, 22) ) )"
      ],
      "execution_count": null,
      "outputs": []
    },
    {
      "cell_type": "code",
      "metadata": {
        "colab": {
          "base_uri": "https://localhost:8080/"
        },
        "id": "Mwb1sg5H7zW-",
        "outputId": "6d7596b6-5256-4516-bd34-1fd22bc998ea"
      },
      "source": [
        "len(NT)"
      ],
      "execution_count": null,
      "outputs": [
        {
          "output_type": "execute_result",
          "data": {
            "text/plain": [
              "5"
            ]
          },
          "metadata": {},
          "execution_count": 24
        }
      ]
    },
    {
      "cell_type": "code",
      "metadata": {
        "colab": {
          "base_uri": "https://localhost:8080/"
        },
        "id": "c_oUBi567tog",
        "outputId": "19921728-1e2d-4516-9361-2c587c785e56"
      },
      "source": [
        "print(NT[0])\n",
        "print(NT[1])\n",
        "print(NT[2])\n",
        "print(NT[3])\n",
        "print(NT[4])"
      ],
      "execution_count": null,
      "outputs": [
        {
          "output_type": "stream",
          "name": "stdout",
          "text": [
            "1\n",
            "2\n",
            "('pop', 'rock')\n",
            "(3, 4)\n",
            "('disco', (1, 22))\n"
          ]
        }
      ]
    },
    {
      "cell_type": "code",
      "metadata": {
        "colab": {
          "base_uri": "https://localhost:8080/"
        },
        "id": "qlE93wje75m7",
        "outputId": "9fb875fe-68f0-4e5e-c88b-e21c5d2e1f1e"
      },
      "source": [
        "print(type(NT[0]))\n",
        "print(type(NT[1]))\n",
        "print(type(NT[2]))\n",
        "print(type(NT[3]))\n",
        "print(type(NT[4]))"
      ],
      "execution_count": null,
      "outputs": [
        {
          "output_type": "stream",
          "name": "stdout",
          "text": [
            "<class 'int'>\n",
            "<class 'int'>\n",
            "<class 'tuple'>\n",
            "<class 'tuple'>\n",
            "<class 'tuple'>\n"
          ]
        }
      ]
    },
    {
      "cell_type": "code",
      "metadata": {
        "colab": {
          "base_uri": "https://localhost:8080/"
        },
        "id": "lX10yTuF8PAF",
        "outputId": "75285917-2efc-4df0-fc32-da532674ef85"
      },
      "source": [
        "print(NT[2][0])\n",
        "print(type(NT[2][0]))\n",
        "print(NT[2][0][2])"
      ],
      "execution_count": null,
      "outputs": [
        {
          "output_type": "stream",
          "name": "stdout",
          "text": [
            "pop\n",
            "<class 'str'>\n",
            "p\n"
          ]
        }
      ]
    },
    {
      "cell_type": "code",
      "metadata": {
        "colab": {
          "base_uri": "https://localhost:8080/"
        },
        "id": "JNsZTGN688f1",
        "outputId": "3159cc09-28fa-4814-e95b-4e70b839cc11"
      },
      "source": [
        "NT[4][1][1]"
      ],
      "execution_count": null,
      "outputs": [
        {
          "output_type": "execute_result",
          "data": {
            "text/plain": [
              "22"
            ]
          },
          "metadata": {
            "tags": []
          },
          "execution_count": 40
        }
      ]
    },
    {
      "cell_type": "markdown",
      "source": [
        "## list"
      ],
      "metadata": {
        "id": "-uNYIrgjh0xN"
      }
    },
    {
      "cell_type": "code",
      "metadata": {
        "id": "vusEOwq59dK1"
      },
      "source": [
        "L = ['Michael Jackson', 10.1, 1982, 'MJ', 1]"
      ],
      "execution_count": null,
      "outputs": []
    },
    {
      "cell_type": "code",
      "metadata": {
        "colab": {
          "base_uri": "https://localhost:8080/"
        },
        "id": "DB1tiGeP_L3j",
        "outputId": "6c6b5f90-f063-4fa9-9b2d-7f0dfc989ad4"
      },
      "source": [
        "print(len(L))\n",
        "print(type(L))\n",
        "print(L[3:5])"
      ],
      "execution_count": null,
      "outputs": [
        {
          "output_type": "stream",
          "name": "stdout",
          "text": [
            "5\n",
            "<class 'list'>\n",
            "['MJ', 1]\n"
          ]
        }
      ]
    },
    {
      "cell_type": "code",
      "metadata": {
        "colab": {
          "base_uri": "https://localhost:8080/"
        },
        "id": "WC_a2RaA_ThF",
        "outputId": "d6429cf3-0787-40fa-a2de-c8bce8366d46"
      },
      "source": [
        "print(L[2])\n",
        "print(L[2:])\n",
        "print(L[:3])\n",
        "\n",
        "print(L[-1])\n",
        "print(L[:-3])"
      ],
      "execution_count": null,
      "outputs": [
        {
          "output_type": "stream",
          "name": "stdout",
          "text": [
            "1982\n",
            "[1982, 'MJ', 1]\n",
            "['Michael Jackson', 10.1, 1982]\n",
            "1\n",
            "['Michael Jackson', 10.1]\n"
          ]
        }
      ]
    },
    {
      "cell_type": "code",
      "metadata": {
        "colab": {
          "base_uri": "https://localhost:8080/"
        },
        "id": "lCAhrVAG_jNk",
        "outputId": "1251e5a5-f791-4dd9-b29e-90b8f53c88ab"
      },
      "source": [
        "L1 = L + [\"pop\",10]\n",
        "print(len(L1))\n",
        "print(type(L1))\n",
        "print(L1)"
      ],
      "execution_count": null,
      "outputs": [
        {
          "output_type": "stream",
          "name": "stdout",
          "text": [
            "7\n",
            "<class 'list'>\n",
            "['Michael Jackson', 10.1, 1982, 'MJ', 1, 'pop', 10]\n"
          ]
        }
      ]
    },
    {
      "cell_type": "code",
      "metadata": {
        "colab": {
          "base_uri": "https://localhost:8080/"
        },
        "id": "aGV5sSXU_7F3",
        "outputId": "145fd0c5-dd7d-4482-da27-b8e4055e6f26"
      },
      "source": [
        "L1[5] ='rock'\n",
        "print(L1)"
      ],
      "execution_count": null,
      "outputs": [
        {
          "output_type": "stream",
          "name": "stdout",
          "text": [
            "['Michael Jackson', 10.1, 1982, 'MJ', 1, 'rock', 10]\n"
          ]
        }
      ]
    },
    {
      "cell_type": "code",
      "metadata": {
        "colab": {
          "base_uri": "https://localhost:8080/",
          "height": 35
        },
        "id": "OKnNfPDTAU1h",
        "outputId": "1ff7a33a-e063-462d-da5f-5df41b6d27ba"
      },
      "source": [
        "L1[5]"
      ],
      "execution_count": null,
      "outputs": [
        {
          "output_type": "execute_result",
          "data": {
            "application/vnd.google.colaboratory.intrinsic+json": {
              "type": "string"
            },
            "text/plain": [
              "'rock'"
            ]
          },
          "metadata": {
            "tags": []
          },
          "execution_count": 47
        }
      ]
    },
    {
      "cell_type": "code",
      "metadata": {
        "colab": {
          "base_uri": "https://localhost:8080/"
        },
        "id": "gLcQI5NAAOVy",
        "outputId": "a31e5588-ba9c-45de-f9c6-05fe44d9444a"
      },
      "source": [
        "L = ['Michael Jackson', 10.1, 1982]\n",
        "L.extend([\"pop\",10])\n",
        "print(len(L))\n",
        "print(L)\n",
        "print(L[3])"
      ],
      "execution_count": null,
      "outputs": [
        {
          "output_type": "stream",
          "name": "stdout",
          "text": [
            "5\n",
            "['Michael Jackson', 10.1, 1982, 'pop', 10]\n",
            "pop\n"
          ]
        }
      ]
    },
    {
      "cell_type": "code",
      "metadata": {
        "colab": {
          "base_uri": "https://localhost:8080/"
        },
        "id": "Azl0WdxgBVdN",
        "outputId": "8a2dff35-18d8-4f00-98fd-6e0c0514fb8b"
      },
      "source": [
        "L = ['Michael Jackson', 10.1, 1982]\n",
        "L.append([\"pop\",10])\n",
        "print(len(L))\n",
        "print(L)\n",
        "print(L[3])\n",
        "print(L[3][0])\n",
        "print(L[3][0][1])"
      ],
      "execution_count": null,
      "outputs": [
        {
          "output_type": "stream",
          "name": "stdout",
          "text": [
            "4\n",
            "['Michael Jackson', 10.1, 1982, ['pop', 10]]\n",
            "['pop', 10]\n",
            "pop\n",
            "o\n"
          ]
        }
      ]
    },
    {
      "cell_type": "code",
      "metadata": {
        "colab": {
          "base_uri": "https://localhost:8080/"
        },
        "id": "2o3UkTwrB0hP",
        "outputId": "94fc0d03-7384-49bd-dc81-aedd6e776149"
      },
      "source": [
        "L.index(1982)"
      ],
      "execution_count": null,
      "outputs": [
        {
          "output_type": "execute_result",
          "data": {
            "text/plain": [
              "2"
            ]
          },
          "metadata": {},
          "execution_count": 41
        }
      ]
    },
    {
      "cell_type": "code",
      "metadata": {
        "colab": {
          "base_uri": "https://localhost:8080/"
        },
        "id": "c34UFlEQC88t",
        "outputId": "8bcffda2-2afc-4da9-f8a2-65db01719f93"
      },
      "source": [
        "del(L[2])\n",
        "print(L)"
      ],
      "execution_count": null,
      "outputs": [
        {
          "output_type": "stream",
          "name": "stdout",
          "text": [
            "['Michael Jackson', 10.1, 'pop', 10]\n"
          ]
        }
      ]
    },
    {
      "cell_type": "code",
      "metadata": {
        "colab": {
          "base_uri": "https://localhost:8080/"
        },
        "id": "1rrCvroOBtpF",
        "outputId": "789878c2-f47b-4a2e-f2f9-91d6cee9f1d1"
      },
      "source": [
        "print(\"AkraMa\".upper())\n",
        "print(\"AkraMa\".lower())"
      ],
      "execution_count": null,
      "outputs": [
        {
          "output_type": "stream",
          "name": "stdout",
          "text": [
            "AKRAMA\n",
            "akrama\n"
          ]
        }
      ]
    },
    {
      "cell_type": "code",
      "metadata": {
        "colab": {
          "base_uri": "https://localhost:8080/"
        },
        "id": "NrpAtvpWCrsF",
        "outputId": "a4e4c5c7-3b83-485a-c584-89002aeab887"
      },
      "source": [
        "\"hard rock\".split()"
      ],
      "execution_count": null,
      "outputs": [
        {
          "output_type": "execute_result",
          "data": {
            "text/plain": [
              "['hard', 'rock']"
            ]
          },
          "metadata": {},
          "execution_count": 42
        }
      ]
    },
    {
      "cell_type": "code",
      "metadata": {
        "colab": {
          "base_uri": "https://localhost:8080/"
        },
        "id": "OH_K3ePLaXSx",
        "outputId": "58330d8b-e9cb-4ea8-b1f6-692923f52f78"
      },
      "source": [
        "Name=\"hard rock\"\n",
        "Name.split()"
      ],
      "execution_count": null,
      "outputs": [
        {
          "output_type": "execute_result",
          "data": {
            "text/plain": [
              "['hard', 'rock']"
            ]
          },
          "metadata": {
            "tags": []
          },
          "execution_count": 1
        }
      ]
    },
    {
      "cell_type": "code",
      "source": [
        "s=\"Doctor: how i can help you\"\n",
        "new_list= s.split(':')[1]\n",
        "\n",
        "print(type(new_list))\n",
        "print(new_list)\n"
      ],
      "metadata": {
        "colab": {
          "base_uri": "https://localhost:8080/"
        },
        "id": "OZGXABwZZz5g",
        "outputId": "df57ddd0-f7c6-4356-9bce-4f6c03697745"
      },
      "execution_count": null,
      "outputs": [
        {
          "output_type": "stream",
          "name": "stdout",
          "text": [
            "<class 'str'>\n",
            " how i can help you\n"
          ]
        }
      ]
    },
    {
      "cell_type": "code",
      "source": [
        "l=new_list.split()\n",
        "l"
      ],
      "metadata": {
        "colab": {
          "base_uri": "https://localhost:8080/"
        },
        "id": "yORlAkeeaQsX",
        "outputId": "d35ed1b4-5e32-4ca1-de84-489390c9bb7c"
      },
      "execution_count": null,
      "outputs": [
        {
          "output_type": "execute_result",
          "data": {
            "text/plain": [
              "['how', 'i', 'can', 'help', 'you']"
            ]
          },
          "metadata": {},
          "execution_count": 44
        }
      ]
    },
    {
      "cell_type": "code",
      "metadata": {
        "colab": {
          "base_uri": "https://localhost:8080/"
        },
        "id": "1PY3ErmDDgH6",
        "outputId": "876f90ba-c1bd-4e53-c286-5b670906ddd4"
      },
      "source": [
        "\"A,B,C,D\".split(',')"
      ],
      "execution_count": null,
      "outputs": [
        {
          "output_type": "execute_result",
          "data": {
            "text/plain": [
              "['A', 'B', 'C', 'D']"
            ]
          },
          "metadata": {
            "tags": []
          },
          "execution_count": 65
        }
      ]
    },
    {
      "cell_type": "code",
      "metadata": {
        "colab": {
          "base_uri": "https://localhost:8080/"
        },
        "id": "6QlVQj14DuAV",
        "outputId": "33ee8144-eae2-46e3-801a-259fcf23cf06"
      },
      "source": [
        "Name = \"Ram is a good person\"\n",
        "print(type(Name))\n",
        "print(len(Name))\n",
        "print(Name)"
      ],
      "execution_count": null,
      "outputs": [
        {
          "output_type": "stream",
          "name": "stdout",
          "text": [
            "<class 'str'>\n",
            "20\n",
            "Ram is a good person\n"
          ]
        }
      ]
    },
    {
      "cell_type": "code",
      "metadata": {
        "colab": {
          "base_uri": "https://localhost:8080/"
        },
        "id": "TRRvUD6bEGtK",
        "outputId": "ced7d202-0631-447c-afeb-5ba044d60fc6"
      },
      "source": [
        "Name_List = Name.lower().split()\n",
        "print(Name_List)\n",
        "print(Name_List.index('person'))"
      ],
      "execution_count": null,
      "outputs": [
        {
          "output_type": "stream",
          "text": [
            "['akrama', 'islam', 'is', 'a', 'good', 'person']\n",
            "5\n"
          ],
          "name": "stdout"
        }
      ]
    },
    {
      "cell_type": "code",
      "metadata": {
        "colab": {
          "base_uri": "https://localhost:8080/",
          "height": 35
        },
        "id": "Oo0TkGc6E1du",
        "outputId": "34447738-cda2-4ab7-b4a1-6263e338429e"
      },
      "source": [
        "Name_List[5]"
      ],
      "execution_count": null,
      "outputs": [
        {
          "output_type": "execute_result",
          "data": {
            "application/vnd.google.colaboratory.intrinsic+json": {
              "type": "string"
            },
            "text/plain": [
              "'person'"
            ]
          },
          "metadata": {
            "tags": []
          },
          "execution_count": 74
        }
      ]
    },
    {
      "cell_type": "code",
      "metadata": {
        "id": "VBAWaCi4FB5o"
      },
      "source": [
        "A =['hard rock', 10, 4.5]\n",
        "B = A"
      ],
      "execution_count": null,
      "outputs": []
    },
    {
      "cell_type": "code",
      "metadata": {
        "colab": {
          "base_uri": "https://localhost:8080/"
        },
        "id": "nRQmJb7MFRnz",
        "outputId": "3686e0e9-be8e-4ba0-ab57-9c640fba3d0b"
      },
      "source": [
        "print(A)\n",
        "print(B)"
      ],
      "execution_count": null,
      "outputs": [
        {
          "output_type": "stream",
          "name": "stdout",
          "text": [
            "['hard rock', 10, 4.5]\n",
            "['hard rock', 10, 4.5]\n"
          ]
        }
      ]
    },
    {
      "cell_type": "code",
      "metadata": {
        "id": "DcOLnxOoFUiQ"
      },
      "source": [
        "B[0] ='Banana'"
      ],
      "execution_count": null,
      "outputs": []
    },
    {
      "cell_type": "code",
      "metadata": {
        "colab": {
          "base_uri": "https://localhost:8080/"
        },
        "id": "c8YwZheQFd47",
        "outputId": "1fce6aa3-199d-453f-94a5-f69959f04edd"
      },
      "source": [
        "print(A)\n",
        "print(B)"
      ],
      "execution_count": null,
      "outputs": [
        {
          "output_type": "stream",
          "name": "stdout",
          "text": [
            "['Banana', 10, 4.5]\n",
            "['Banana', 10, 4.5]\n"
          ]
        }
      ]
    },
    {
      "cell_type": "code",
      "metadata": {
        "id": "IzMmoBjEFfy-"
      },
      "source": [
        "A =['hard rock', 10, 4.5]\n",
        "B = A[:]"
      ],
      "execution_count": null,
      "outputs": []
    },
    {
      "cell_type": "code",
      "metadata": {
        "colab": {
          "base_uri": "https://localhost:8080/"
        },
        "id": "cTCnrGsdF1IT",
        "outputId": "6be43a69-702e-498f-9542-62a14ff0fe6c"
      },
      "source": [
        "print(A)\n",
        "print(B)"
      ],
      "execution_count": null,
      "outputs": [
        {
          "output_type": "stream",
          "name": "stdout",
          "text": [
            "['hard rock', 10, 4.5]\n",
            "['hard rock', 10, 4.5]\n"
          ]
        }
      ]
    },
    {
      "cell_type": "code",
      "metadata": {
        "id": "MgxRoG4tF32G"
      },
      "source": [
        "B[0] ='Banana'"
      ],
      "execution_count": null,
      "outputs": []
    },
    {
      "cell_type": "code",
      "metadata": {
        "id": "VQ5GljqRF7dQ",
        "colab": {
          "base_uri": "https://localhost:8080/"
        },
        "outputId": "014e41a8-b792-4dfd-9684-06745931c794"
      },
      "source": [
        "print(A)\n",
        "print(B)"
      ],
      "execution_count": null,
      "outputs": [
        {
          "output_type": "stream",
          "name": "stdout",
          "text": [
            "['hard rock', 10, 4.5]\n",
            "['Banana', 10, 4.5]\n"
          ]
        }
      ]
    },
    {
      "cell_type": "code",
      "source": [
        "A=[1,2]\n",
        "B=[3,4]\n",
        "c=A+B\n",
        "A.append(B)\n",
        "print(A)\n",
        "print(B)\n",
        "print(c)\n",
        "print(type(c))"
      ],
      "metadata": {
        "colab": {
          "base_uri": "https://localhost:8080/"
        },
        "id": "1KCTNmo7cwGw",
        "outputId": "2ef9cb32-40f1-4a8a-f4ea-bcce7ea12a31"
      },
      "execution_count": null,
      "outputs": [
        {
          "output_type": "stream",
          "name": "stdout",
          "text": [
            "[1, 2, [3, 4]]\n",
            "[3, 4]\n",
            "[1, 2, 3, 4]\n",
            "<class 'list'>\n",
            "[1, 2, [3, 4]]\n"
          ]
        }
      ]
    },
    {
      "cell_type": "code",
      "metadata": {
        "id": "VoRPxEcHF_Gm",
        "colab": {
          "base_uri": "https://localhost:8080/"
        },
        "outputId": "a1164531-308e-42c9-8379-8adaade9adcb"
      },
      "source": [
        "a = {5,2,3,1,4}\n",
        "print(a)\n",
        "print(type(a))"
      ],
      "execution_count": null,
      "outputs": [
        {
          "output_type": "stream",
          "text": [
            "{1, 2, 3, 4, 5}\n",
            "<class 'set'>\n"
          ],
          "name": "stdout"
        }
      ]
    },
    {
      "cell_type": "code",
      "metadata": {
        "id": "BM6HEDqgEP4I",
        "colab": {
          "base_uri": "https://localhost:8080/",
          "height": 163
        },
        "outputId": "b502836e-aadb-41a1-c424-33afa10b05dc"
      },
      "source": [
        "a[0]"
      ],
      "execution_count": null,
      "outputs": [
        {
          "output_type": "error",
          "ename": "TypeError",
          "evalue": "ignored",
          "traceback": [
            "\u001b[0;31m---------------------------------------------------------------------------\u001b[0m",
            "\u001b[0;31mTypeError\u001b[0m                                 Traceback (most recent call last)",
            "\u001b[0;32m<ipython-input-3-6a1284577a36>\u001b[0m in \u001b[0;36m<module>\u001b[0;34m()\u001b[0m\n\u001b[0;32m----> 1\u001b[0;31m \u001b[0ma\u001b[0m\u001b[0;34m[\u001b[0m\u001b[0;36m0\u001b[0m\u001b[0;34m]\u001b[0m\u001b[0;34m\u001b[0m\u001b[0;34m\u001b[0m\u001b[0m\n\u001b[0m",
            "\u001b[0;31mTypeError\u001b[0m: 'set' object is not subscriptable"
          ]
        }
      ]
    },
    {
      "cell_type": "markdown",
      "source": [
        "## set"
      ],
      "metadata": {
        "id": "FfjL6lT9iYlY"
      }
    },
    {
      "cell_type": "code",
      "metadata": {
        "colab": {
          "base_uri": "https://localhost:8080/"
        },
        "id": "tXe-WuDdbTWm",
        "outputId": "42f79d9b-6553-4118-becf-ee3cb134697b"
      },
      "source": [
        "set1 = {'A','B','C','A','B','C'}\n",
        "print(set1)"
      ],
      "execution_count": null,
      "outputs": [
        {
          "output_type": "stream",
          "text": [
            "{'A', 'B', 'C'}\n"
          ],
          "name": "stdout"
        }
      ]
    },
    {
      "cell_type": "code",
      "metadata": {
        "colab": {
          "base_uri": "https://localhost:8080/"
        },
        "id": "fZEo6SpGbjgf",
        "outputId": "99fd85dc-37ad-45fd-d2dd-4cdb1bed06e2"
      },
      "source": [
        "list1= ['A','B','C','A','B','C']\n",
        "print(list1)\n",
        "print(type(list1))\n",
        "\n",
        "set_1= set(list1)\n",
        "print(set_1)\n",
        "print(type(set_1))"
      ],
      "execution_count": 3,
      "outputs": [
        {
          "output_type": "stream",
          "name": "stdout",
          "text": [
            "['A', 'B', 'C', 'A', 'B', 'C']\n",
            "<class 'list'>\n",
            "{'C', 'A', 'B'}\n",
            "<class 'set'>\n"
          ]
        }
      ]
    },
    {
      "cell_type": "code",
      "metadata": {
        "colab": {
          "base_uri": "https://localhost:8080/"
        },
        "id": "oZQBNtNubt4p",
        "outputId": "e674f3e0-bf9d-48b9-fb3f-761dd3696315"
      },
      "source": [
        "album_list =['Michael Jackson', 'Thriller', 'Thriller', 1982 ]\n",
        "album_set =set(album_list)\n",
        "print(album_set)\n"
      ],
      "execution_count": null,
      "outputs": [
        {
          "output_type": "stream",
          "text": [
            "{'Thriller', 1982, 'Michael Jackson'}\n"
          ],
          "name": "stdout"
        }
      ]
    },
    {
      "cell_type": "code",
      "metadata": {
        "id": "tkyIqJgMccbG"
      },
      "source": [
        "A = { 'Thriller', 'Back in Black', 'AC/DC' }\n",
        "B = {'Aizan',1994}"
      ],
      "execution_count": null,
      "outputs": []
    },
    {
      "cell_type": "code",
      "metadata": {
        "colab": {
          "base_uri": "https://localhost:8080/"
        },
        "id": "WmnyoVredONy",
        "outputId": "24188e24-542c-44c8-c475-52f8801a91e0"
      },
      "source": [
        "#A.add(B) # gives error\n",
        "A.add('Aizan')\n",
        "print(A)"
      ],
      "execution_count": null,
      "outputs": [
        {
          "output_type": "stream",
          "text": [
            "{'Thriller', 'Back in Black', 'AC/DC', 'Aizan'}\n"
          ],
          "name": "stdout"
        }
      ]
    },
    {
      "cell_type": "code",
      "metadata": {
        "colab": {
          "base_uri": "https://localhost:8080/"
        },
        "id": "cUCISni4cx0d",
        "outputId": "d840bcf9-b515-481e-faf0-3367cc02fb35"
      },
      "source": [
        "A.add('NY')\n",
        "print(A)"
      ],
      "execution_count": null,
      "outputs": [
        {
          "output_type": "stream",
          "text": [
            "{'Thriller', 'NY', 'Aizan', 'AC/DC', 'Back in Black'}\n"
          ],
          "name": "stdout"
        }
      ]
    },
    {
      "cell_type": "code",
      "metadata": {
        "id": "gcwVDbFjBdDq",
        "colab": {
          "base_uri": "https://localhost:8080/"
        },
        "outputId": "3f81c979-1734-4892-eb05-47bdc1884186"
      },
      "source": [
        "len(A)"
      ],
      "execution_count": null,
      "outputs": [
        {
          "output_type": "execute_result",
          "data": {
            "text/plain": [
              "4"
            ]
          },
          "metadata": {
            "tags": []
          },
          "execution_count": 12
        }
      ]
    },
    {
      "cell_type": "code",
      "metadata": {
        "id": "aom30dK88ya-",
        "colab": {
          "base_uri": "https://localhost:8080/"
        },
        "outputId": "958e0013-986a-4b17-9818-c951ca3e3c5a"
      },
      "source": [
        "print(A)\n",
        "print('NY' in A)\n",
        "A.remove('NY')\n",
        "print(A)\n",
        "\n",
        "print('NY' in A)"
      ],
      "execution_count": null,
      "outputs": [
        {
          "output_type": "stream",
          "text": [
            "{'Thriller', 'NY', 'Aizan', 'AC/DC', 'Back in Black'}\n",
            "True\n",
            "{'Thriller', 'Aizan', 'AC/DC', 'Back in Black'}\n",
            "False\n"
          ],
          "name": "stdout"
        }
      ]
    },
    {
      "cell_type": "code",
      "metadata": {
        "id": "O9yMWF_C8ngb",
        "colab": {
          "base_uri": "https://localhost:8080/"
        },
        "outputId": "c3fd8ce9-dd96-403b-cc1f-4a42e91908a1"
      },
      "source": [],
      "execution_count": null,
      "outputs": [
        {
          "output_type": "stream",
          "text": [
            "['A', 'C', 'A', 'B', 'C']\n"
          ],
          "name": "stdout"
        }
      ]
    },
    {
      "cell_type": "markdown",
      "source": [
        "## set operation"
      ],
      "metadata": {
        "id": "RpqEH8Ciiht-"
      }
    },
    {
      "cell_type": "code",
      "metadata": {
        "id": "0vT8dH_3eKsN"
      },
      "source": [
        "album_set_1 =  { 'Thriller', 'Back in Black', 'AC/DC' }\n",
        "album_set_2 =  { 'Dark side of Moon', 'Back in Black', 'AC/DC', 1982 }\n",
        "album_set_4 = {'aizan', 'zafar', 1982}"
      ],
      "execution_count": null,
      "outputs": []
    },
    {
      "cell_type": "code",
      "metadata": {
        "id": "ssWqXAvF8cL5",
        "colab": {
          "base_uri": "https://localhost:8080/"
        },
        "outputId": "e2f7ad00-d8fa-4074-f951-1f60bde9c402"
      },
      "source": [
        "album_set_3 = album_set_1 & album_set_2\n",
        "print(album_set_3)"
      ],
      "execution_count": null,
      "outputs": [
        {
          "output_type": "stream",
          "text": [
            "{'Back in Black', 'AC/DC'}\n"
          ],
          "name": "stdout"
        }
      ]
    },
    {
      "cell_type": "code",
      "metadata": {
        "id": "BZlqi7Mc6SIq",
        "colab": {
          "base_uri": "https://localhost:8080/"
        },
        "outputId": "0cd6ae8a-c354-4d53-fee7-103dd1655138"
      },
      "source": [
        "album_set_3 = album_set_1.intersection(album_set_2)\n",
        "print(album_set_3)"
      ],
      "execution_count": null,
      "outputs": [
        {
          "output_type": "stream",
          "text": [
            "{'Back in Black', 'AC/DC'}\n"
          ],
          "name": "stdout"
        }
      ]
    },
    {
      "cell_type": "code",
      "metadata": {
        "colab": {
          "base_uri": "https://localhost:8080/"
        },
        "id": "ef_3lkFtgWdh",
        "outputId": "ea9ace8c-c69d-4238-d7c4-751457315b43"
      },
      "source": [
        "set_4 = album_set_1 & album_set_2 & album_set_3 & album_set_4\n",
        "print(set_4)"
      ],
      "execution_count": null,
      "outputs": [
        {
          "output_type": "stream",
          "text": [
            "set()\n"
          ],
          "name": "stdout"
        }
      ]
    },
    {
      "cell_type": "code",
      "metadata": {
        "id": "zfzlASnN4Kl8",
        "colab": {
          "base_uri": "https://localhost:8080/"
        },
        "outputId": "525cf203-08ea-4df1-fdbf-5dd837924e03"
      },
      "source": [
        "print(album_set_1)\n",
        "album_set_5 = album_set_1.union(album_set_2)\n",
        "print(album_set_5)\n",
        "print(album_set_1)"
      ],
      "execution_count": null,
      "outputs": [
        {
          "output_type": "stream",
          "text": [
            "{'Thriller', 'Back in Black', 'AC/DC'}\n",
            "{'Thriller', 'Dark side of Moon', 'Back in Black', 'AC/DC', 1982}\n",
            "{'Thriller', 'Back in Black', 'AC/DC'}\n"
          ],
          "name": "stdout"
        }
      ]
    },
    {
      "cell_type": "code",
      "metadata": {
        "colab": {
          "base_uri": "https://localhost:8080/"
        },
        "id": "7lfYUNRuhWwL",
        "outputId": "68dbb4f2-3092-48aa-9196-30cc20afcb31"
      },
      "source": [
        "album_set_1 =  { 'Thriller', 'Back in Black', 'AC/DC' }\n",
        "album_set_3 =  {  'Back in Black', 'AC/DC',1982 }\n",
        "album_set_3.issubset(album_set_1)\n"
      ],
      "execution_count": null,
      "outputs": [
        {
          "output_type": "execute_result",
          "data": {
            "text/plain": [
              "False"
            ]
          },
          "metadata": {
            "tags": []
          },
          "execution_count": 44
        }
      ]
    },
    {
      "cell_type": "markdown",
      "source": [
        "## dictionary"
      ],
      "metadata": {
        "id": "04dbryG9iq1_"
      }
    },
    {
      "cell_type": "code",
      "metadata": {
        "id": "dlYEc5s52JOS",
        "colab": {
          "base_uri": "https://localhost:8080/"
        },
        "outputId": "c001f143-3bda-4453-a191-a82cb9c6c2a0"
      },
      "source": [
        "# key : value\n",
        "dict_1 = {1:'one', 2:'two'}\n",
        "\n",
        "print(dict_1)\n",
        "print(type(dict_1))"
      ],
      "execution_count": null,
      "outputs": [
        {
          "output_type": "stream",
          "text": [
            "{1: 'one', 2: 'two'}\n",
            "<class 'dict'>\n"
          ],
          "name": "stdout"
        }
      ]
    },
    {
      "cell_type": "code",
      "metadata": {
        "colab": {
          "base_uri": "https://localhost:8080/"
        },
        "id": "n0rlu720bcG2",
        "outputId": "c2160946-4769-42ed-c79c-7640a9dddd5f"
      },
      "source": [
        "list_1 =[1,2,3]\n",
        "# 0,1,2\n",
        "\n",
        "print(list_1)\n",
        "print(type(list_1))"
      ],
      "execution_count": null,
      "outputs": [
        {
          "output_type": "stream",
          "text": [
            "[1, 2, 3]\n",
            "<class 'list'>\n"
          ],
          "name": "stdout"
        }
      ]
    },
    {
      "cell_type": "code",
      "metadata": {
        "colab": {
          "base_uri": "https://localhost:8080/"
        },
        "id": "ZR54CXuzcCzo",
        "outputId": "fff19174-89f4-4141-881a-9d73d3d16685"
      },
      "source": [
        "list_1[0]"
      ],
      "execution_count": null,
      "outputs": [
        {
          "output_type": "execute_result",
          "data": {
            "text/plain": [
              "1"
            ]
          },
          "metadata": {
            "tags": []
          },
          "execution_count": 3
        }
      ]
    },
    {
      "cell_type": "code",
      "metadata": {
        "colab": {
          "base_uri": "https://localhost:8080/"
        },
        "id": "aJZb6XIacJOQ",
        "outputId": "e3d90dda-c8ce-4a1b-9a60-2aef7a1da3be"
      },
      "source": [
        "dict_2 = {'key1':1, 'key2':'2', 'key3':[3,3,3], 'key4':(4,4,4), 'key5':5 }\n",
        "print(dict_2)\n",
        "print(type(dict_2))"
      ],
      "execution_count": null,
      "outputs": [
        {
          "output_type": "stream",
          "text": [
            "{'key1': 1, 'key2': '2', 'key3': [3, 3, 3], 'key4': (4, 4, 4), 'key5': 5}\n",
            "<class 'dict'>\n"
          ],
          "name": "stdout"
        }
      ]
    },
    {
      "cell_type": "code",
      "metadata": {
        "colab": {
          "base_uri": "https://localhost:8080/"
        },
        "id": "ASES4zC1cuKE",
        "outputId": "1f07404b-5d0d-4e78-8405-931f1f9f7f85"
      },
      "source": [
        "print(type(dict_2['key2']))"
      ],
      "execution_count": null,
      "outputs": [
        {
          "output_type": "stream",
          "text": [
            "<class 'float'>\n"
          ],
          "name": "stdout"
        }
      ]
    },
    {
      "cell_type": "code",
      "metadata": {
        "colab": {
          "base_uri": "https://localhost:8080/"
        },
        "id": "kPXkI3oBc1hx",
        "outputId": "e422288d-c476-42b1-f8f0-924658b4f527"
      },
      "source": [
        "dict_2['key6']=4.5\n",
        "print(dict_2)"
      ],
      "execution_count": null,
      "outputs": [
        {
          "output_type": "stream",
          "text": [
            "{'key1': 1, 'key2': '2', 'key3': [3, 3, 3], 'key4': (4, 4, 4), 'key5': 5, 'key6': 4.5}\n"
          ],
          "name": "stdout"
        }
      ]
    },
    {
      "cell_type": "code",
      "metadata": {
        "colab": {
          "base_uri": "https://localhost:8080/"
        },
        "id": "N4HtAOecdWmL",
        "outputId": "9d408254-fdac-4707-da03-21fd2576f3cd"
      },
      "source": [
        "dict_2['key1'] =12\n",
        "print(dict_2)"
      ],
      "execution_count": null,
      "outputs": [
        {
          "output_type": "stream",
          "text": [
            "{'key1': 12, 'key2': '2', 'key3': [3, 3, 3], 'key4': (4, 4, 4), 'key5': 5, 'key6': 4.5}\n"
          ],
          "name": "stdout"
        }
      ]
    },
    {
      "cell_type": "code",
      "metadata": {
        "colab": {
          "base_uri": "https://localhost:8080/"
        },
        "id": "UNJ8xalWdiG-",
        "outputId": "26850ea8-2185-49da-e563-8ad0e948a961"
      },
      "source": [
        "my_dict = {}\n",
        "print(my_dict)"
      ],
      "execution_count": null,
      "outputs": [
        {
          "output_type": "stream",
          "text": [
            "{}\n"
          ],
          "name": "stdout"
        }
      ]
    },
    {
      "cell_type": "code",
      "metadata": {
        "colab": {
          "base_uri": "https://localhost:8080/"
        },
        "id": "5e4gAofLel_f",
        "outputId": "a4f66998-9607-40bf-eb17-15b42f92002b"
      },
      "source": [
        "my_dict = {1: 'apple', 2: 'ball'}\n",
        "print(my_dict)"
      ],
      "execution_count": null,
      "outputs": [
        {
          "output_type": "stream",
          "text": [
            "{1: 'apple', 2: 'ball'}\n"
          ],
          "name": "stdout"
        }
      ]
    },
    {
      "cell_type": "code",
      "metadata": {
        "colab": {
          "base_uri": "https://localhost:8080/",
          "height": 35
        },
        "id": "uDbpI3pOew7R",
        "outputId": "4ea7f17d-4f06-4d73-ebdb-c997f8bf9f5b"
      },
      "source": [
        "my_dict[2]"
      ],
      "execution_count": null,
      "outputs": [
        {
          "output_type": "execute_result",
          "data": {
            "application/vnd.google.colaboratory.intrinsic+json": {
              "type": "string"
            },
            "text/plain": [
              "'ball'"
            ]
          },
          "metadata": {
            "tags": []
          },
          "execution_count": 18
        }
      ]
    },
    {
      "cell_type": "code",
      "metadata": {
        "colab": {
          "base_uri": "https://localhost:8080/"
        },
        "id": "HzhsSGj7e3XD",
        "outputId": "189df466-6973-49c5-f59f-d90c3fc34a9e"
      },
      "source": [
        "my_dict['name']='john wick'\n",
        "my_dict[1] =[2, 4, 3]\n",
        "\n",
        "print(my_dict)"
      ],
      "execution_count": null,
      "outputs": [
        {
          "output_type": "stream",
          "text": [
            "{1: [2, 4, 3], 2: 'ball', 'name': 'john wick'}\n"
          ],
          "name": "stdout"
        }
      ]
    },
    {
      "cell_type": "code",
      "metadata": {
        "colab": {
          "base_uri": "https://localhost:8080/"
        },
        "id": "9Oe21qtffgHm",
        "outputId": "7fd2352d-4e96-47b0-c54b-f183ad7b161e"
      },
      "source": [
        "# method 1\n",
        "my_dict_1 = {}  # empty dict\n",
        "my_dict_2 = dict() # empty dict\n",
        "\n",
        "print(my_dict_1)\n",
        "print(my_dict_2)\n",
        "\n",
        "print(type(my_dict_1))\n",
        "print(type(my_dict_2))"
      ],
      "execution_count": null,
      "outputs": [
        {
          "output_type": "stream",
          "text": [
            "{}\n",
            "{}\n",
            "<class 'dict'>\n",
            "<class 'dict'>\n"
          ],
          "name": "stdout"
        }
      ]
    },
    {
      "cell_type": "code",
      "metadata": {
        "colab": {
          "base_uri": "https://localhost:8080/"
        },
        "id": "lys6YcxdgjNn",
        "outputId": "77021fbe-fd8f-4d88-fc51-6bf52c887727"
      },
      "source": [
        "my_dict_1[1]='one'\n",
        "my_dict_1[2]='one'\n",
        "my_dict_1[3]='one'\n",
        "\n",
        "my_dict_2['one']=1\n",
        "my_dict_2['two']=1\n",
        "my_dict_2['three']=3\n",
        "\n",
        "print(my_dict_1)\n",
        "print(my_dict_2)"
      ],
      "execution_count": null,
      "outputs": [
        {
          "output_type": "stream",
          "text": [
            "{1: 'one', 2: 'one', 3: 'one'}\n",
            "{'one': 1, 'two': 1, 'three': 3}\n"
          ],
          "name": "stdout"
        }
      ]
    },
    {
      "cell_type": "code",
      "metadata": {
        "colab": {
          "base_uri": "https://localhost:8080/"
        },
        "id": "IISx1ZkOhV_A",
        "outputId": "f5d7a79a-c181-45a4-eb7e-5313bc70a6ce"
      },
      "source": [
        "my_dict_2['three']=[3,3,'aizan',4.5]\n",
        "print(my_dict_2)"
      ],
      "execution_count": null,
      "outputs": [
        {
          "output_type": "stream",
          "text": [
            "{'one': 1, 'two': 1, 'three': [3, 3, 'aizan', 4.5]}\n"
          ],
          "name": "stdout"
        }
      ]
    },
    {
      "cell_type": "code",
      "metadata": {
        "colab": {
          "base_uri": "https://localhost:8080/"
        },
        "id": "4gjyDYDdh0Hg",
        "outputId": "d3576393-b483-43a6-81b7-100ee77bdab8"
      },
      "source": [
        "# method 1\n",
        "print(my_dict_2['three'])\n",
        "\n",
        "# method 2\n",
        "print(my_dict_2.get('three'))"
      ],
      "execution_count": null,
      "outputs": [
        {
          "output_type": "stream",
          "text": [
            "[3, 3, 'aizan', 4.5]\n",
            "[3, 3, 'aizan', 4.5]\n"
          ],
          "name": "stdout"
        }
      ]
    },
    {
      "cell_type": "code",
      "metadata": {
        "colab": {
          "base_uri": "https://localhost:8080/",
          "height": 180
        },
        "id": "e5jVq-jFibcT",
        "outputId": "6a53533a-7f27-4861-f6d6-cdcd9d39759b"
      },
      "source": [
        "# method 1\n",
        "print(my_dict_2[4])\n"
      ],
      "execution_count": null,
      "outputs": [
        {
          "output_type": "error",
          "ename": "KeyError",
          "evalue": "ignored",
          "traceback": [
            "\u001b[0;31m---------------------------------------------------------------------------\u001b[0m",
            "\u001b[0;31mKeyError\u001b[0m                                  Traceback (most recent call last)",
            "\u001b[0;32m<ipython-input-29-03fb4ab09bb7>\u001b[0m in \u001b[0;36m<module>\u001b[0;34m()\u001b[0m\n\u001b[1;32m      1\u001b[0m \u001b[0;31m# method 1\u001b[0m\u001b[0;34m\u001b[0m\u001b[0;34m\u001b[0m\u001b[0;34m\u001b[0m\u001b[0m\n\u001b[0;32m----> 2\u001b[0;31m \u001b[0mprint\u001b[0m\u001b[0;34m(\u001b[0m\u001b[0mmy_dict_2\u001b[0m\u001b[0;34m[\u001b[0m\u001b[0;36m4\u001b[0m\u001b[0;34m]\u001b[0m\u001b[0;34m)\u001b[0m\u001b[0;34m\u001b[0m\u001b[0;34m\u001b[0m\u001b[0m\n\u001b[0m",
            "\u001b[0;31mKeyError\u001b[0m: 4"
          ]
        }
      ]
    },
    {
      "cell_type": "code",
      "metadata": {
        "colab": {
          "base_uri": "https://localhost:8080/"
        },
        "id": "Rzt_Sxi-jKf_",
        "outputId": "e2989ba5-cb92-4a7d-9bfd-42c381b32c9d"
      },
      "source": [
        "print(my_dict_2)"
      ],
      "execution_count": null,
      "outputs": [
        {
          "output_type": "stream",
          "text": [
            "{'one': 1, 'two': 1, 'three': [3, 3, 'aizan', 4.5]}\n"
          ],
          "name": "stdout"
        }
      ]
    },
    {
      "cell_type": "code",
      "metadata": {
        "colab": {
          "base_uri": "https://localhost:8080/"
        },
        "id": "3B4QTIF1jDo4",
        "outputId": "81a47c53-aa2e-40a1-8253-8fcd0a47a530"
      },
      "source": [
        "# method 2\n",
        "print(my_dict_2.get(4))"
      ],
      "execution_count": null,
      "outputs": [
        {
          "output_type": "stream",
          "text": [
            "None\n"
          ],
          "name": "stdout"
        }
      ]
    },
    {
      "cell_type": "code",
      "metadata": {
        "colab": {
          "base_uri": "https://localhost:8080/"
        },
        "id": "i96nuBYqjRY3",
        "outputId": "114188e5-6a18-4308-ffb3-04bb2d4d8c0b"
      },
      "source": [
        "squares = {1: 1, 2: 4, 3: 9, 4: 16, 5: 25}\n",
        "print(type(squares))\n",
        "print(squares)"
      ],
      "execution_count": null,
      "outputs": [
        {
          "output_type": "stream",
          "text": [
            "<class 'dict'>\n",
            "{1: 1, 2: 4, 3: 9, 4: 16, 5: 25}\n"
          ],
          "name": "stdout"
        }
      ]
    },
    {
      "cell_type": "code",
      "metadata": {
        "colab": {
          "base_uri": "https://localhost:8080/"
        },
        "id": "YyrASbU1kmtU",
        "outputId": "0f481279-bbc0-483b-9654-6fa9754124a2"
      },
      "source": [
        "squares.pop(4)"
      ],
      "execution_count": null,
      "outputs": [
        {
          "output_type": "execute_result",
          "data": {
            "text/plain": [
              "16"
            ]
          },
          "metadata": {
            "tags": []
          },
          "execution_count": 39
        }
      ]
    },
    {
      "cell_type": "code",
      "metadata": {
        "colab": {
          "base_uri": "https://localhost:8080/"
        },
        "id": "TU_eZ8HqkyNz",
        "outputId": "035cb56f-c3cf-4b3b-89bc-06f524c9cf79"
      },
      "source": [
        "print(squares)"
      ],
      "execution_count": null,
      "outputs": [
        {
          "output_type": "stream",
          "text": [
            "{1: 1, 2: 4, 3: 9, 5: 25}\n"
          ],
          "name": "stdout"
        }
      ]
    },
    {
      "cell_type": "code",
      "metadata": {
        "colab": {
          "base_uri": "https://localhost:8080/"
        },
        "id": "aKz4705qk2I8",
        "outputId": "a3f2fce8-ddbf-4523-e8c7-0831c8abe6e7"
      },
      "source": [
        "squares.popitem()\n",
        "print(squares)"
      ],
      "execution_count": null,
      "outputs": [
        {
          "output_type": "stream",
          "text": [
            "{1: 1, 2: 4, 3: 9}\n"
          ],
          "name": "stdout"
        }
      ]
    },
    {
      "cell_type": "code",
      "metadata": {
        "colab": {
          "base_uri": "https://localhost:8080/"
        },
        "id": "TrcvSwzJlEEw",
        "outputId": "25d5c0c8-51ba-4b53-aeb1-695540149736"
      },
      "source": [
        "squares.clear()\n",
        "print(squares)"
      ],
      "execution_count": null,
      "outputs": [
        {
          "output_type": "stream",
          "text": [
            "{}\n"
          ],
          "name": "stdout"
        }
      ]
    },
    {
      "cell_type": "code",
      "metadata": {
        "colab": {
          "base_uri": "https://localhost:8080/",
          "height": 214
        },
        "id": "_--SRjbdlBKg",
        "outputId": "0c7f25f4-193e-47ab-8d69-de71646341fd"
      },
      "source": [
        "print(squares)\n",
        "del(squares)\n",
        "print(squares)"
      ],
      "execution_count": null,
      "outputs": [
        {
          "output_type": "stream",
          "text": [
            "{1: 1, 2: 4, 3: 9, 4: 16, 5: 25}\n"
          ],
          "name": "stdout"
        },
        {
          "output_type": "error",
          "ename": "NameError",
          "evalue": "ignored",
          "traceback": [
            "\u001b[0;31m---------------------------------------------------------------------------\u001b[0m",
            "\u001b[0;31mNameError\u001b[0m                                 Traceback (most recent call last)",
            "\u001b[0;32m<ipython-input-46-060a09fd9fbb>\u001b[0m in \u001b[0;36m<module>\u001b[0;34m()\u001b[0m\n\u001b[1;32m      1\u001b[0m \u001b[0mprint\u001b[0m\u001b[0;34m(\u001b[0m\u001b[0msquares\u001b[0m\u001b[0;34m)\u001b[0m\u001b[0;34m\u001b[0m\u001b[0;34m\u001b[0m\u001b[0m\n\u001b[1;32m      2\u001b[0m \u001b[0;32mdel\u001b[0m\u001b[0;34m(\u001b[0m\u001b[0msquares\u001b[0m\u001b[0;34m)\u001b[0m\u001b[0;34m\u001b[0m\u001b[0;34m\u001b[0m\u001b[0m\n\u001b[0;32m----> 3\u001b[0;31m \u001b[0mprint\u001b[0m\u001b[0;34m(\u001b[0m\u001b[0msquares\u001b[0m\u001b[0;34m)\u001b[0m\u001b[0;34m\u001b[0m\u001b[0;34m\u001b[0m\u001b[0m\n\u001b[0m",
            "\u001b[0;31mNameError\u001b[0m: name 'squares' is not defined"
          ]
        }
      ]
    },
    {
      "cell_type": "code",
      "metadata": {
        "id": "Z5kW_PmJlmFT"
      },
      "source": [
        "squares = {1: 1, 3: 9, 5: 25, 7: 49, 9: 81}"
      ],
      "execution_count": null,
      "outputs": []
    },
    {
      "cell_type": "code",
      "metadata": {
        "colab": {
          "base_uri": "https://localhost:8080/"
        },
        "id": "9QUWz2nqmkaq",
        "outputId": "60df631d-766f-4219-9455-207f17f56160"
      },
      "source": [
        "print(2 not in squares)"
      ],
      "execution_count": null,
      "outputs": [
        {
          "output_type": "stream",
          "text": [
            "True\n"
          ],
          "name": "stdout"
        }
      ]
    },
    {
      "cell_type": "code",
      "metadata": {
        "colab": {
          "base_uri": "https://localhost:8080/"
        },
        "id": "xGy4Mqb4f-J5",
        "outputId": "6a63a038-f57b-4f6d-bcd6-50e44f678fec"
      },
      "source": [
        "print(squares)\n",
        "print(len(squares))\n",
        "print(squares.keys())\n",
        "print(type(squares.keys()))"
      ],
      "execution_count": null,
      "outputs": [
        {
          "output_type": "stream",
          "text": [
            "{1: 1, 3: 9, 5: 25, 7: 49, 9: 81}\n",
            "5\n",
            "dict_keys([1, 3, 5, 7, 9])\n",
            "<class 'dict_keys'>\n"
          ],
          "name": "stdout"
        }
      ]
    },
    {
      "cell_type": "code",
      "metadata": {
        "colab": {
          "base_uri": "https://localhost:8080/"
        },
        "id": "m8dhJb5znFi0",
        "outputId": "a5a54af0-e296-4bc5-9e5a-20a515ee1f07"
      },
      "source": [
        "key_list = list(squares.keys())\n",
        "print(key_list)\n",
        "print(type(key_list))"
      ],
      "execution_count": null,
      "outputs": [
        {
          "output_type": "stream",
          "text": [
            "[1, 3, 5, 7, 9]\n",
            "<class 'list'>\n"
          ],
          "name": "stdout"
        }
      ]
    },
    {
      "cell_type": "code",
      "metadata": {
        "colab": {
          "base_uri": "https://localhost:8080/"
        },
        "id": "OBmgu-OknqDa",
        "outputId": "ebc1cdef-9bcc-4ad8-9bc9-1bfd6a9cefbd"
      },
      "source": [
        "key_set = set(squares.keys())\n",
        "print(key_set)\n",
        "print(type(key_set))"
      ],
      "execution_count": null,
      "outputs": [
        {
          "output_type": "stream",
          "text": [
            "{1, 3, 5, 7, 9}\n",
            "<class 'set'>\n"
          ],
          "name": "stdout"
        }
      ]
    },
    {
      "cell_type": "code",
      "metadata": {
        "colab": {
          "base_uri": "https://localhost:8080/"
        },
        "id": "cs5ceHa-pNJg",
        "outputId": "723a1299-9727-48e7-e13c-d18c19f0f524"
      },
      "source": [
        "squares[11]= 81\n",
        "print(squares)"
      ],
      "execution_count": null,
      "outputs": [
        {
          "output_type": "stream",
          "text": [
            "{1: 1, 3: 9, 5: 25, 7: 49, 9: 81, 11: 81}\n"
          ],
          "name": "stdout"
        }
      ]
    },
    {
      "cell_type": "code",
      "metadata": {
        "colab": {
          "base_uri": "https://localhost:8080/"
        },
        "id": "_iZXeeCvojCw",
        "outputId": "de3b2c4e-ba42-4d6d-9431-bdea21304905"
      },
      "source": [
        "print(squares.values())\n",
        "print(type(squares.values()))"
      ],
      "execution_count": null,
      "outputs": [
        {
          "output_type": "stream",
          "text": [
            "dict_values([1, 9, 25, 49, 81, 81])\n",
            "<class 'dict_values'>\n"
          ],
          "name": "stdout"
        }
      ]
    },
    {
      "cell_type": "code",
      "metadata": {
        "colab": {
          "base_uri": "https://localhost:8080/"
        },
        "id": "neqiXz3mosC_",
        "outputId": "c1b87315-ee14-4329-cf6c-d1434d3e61a8"
      },
      "source": [
        "value_list = list(squares.values())\n",
        "print(value_list)\n",
        "print(type(value_list))"
      ],
      "execution_count": null,
      "outputs": [
        {
          "output_type": "stream",
          "text": [
            "[1, 9, 25, 49, 81, 81]\n",
            "<class 'list'>\n"
          ],
          "name": "stdout"
        }
      ]
    },
    {
      "cell_type": "code",
      "metadata": {
        "id": "81j9Ju7Ha6bk"
      },
      "source": [],
      "execution_count": null,
      "outputs": []
    },
    {
      "cell_type": "code",
      "metadata": {
        "colab": {
          "base_uri": "https://localhost:8080/"
        },
        "id": "Mn8unSQ9o_uj",
        "outputId": "21dc34e3-252d-4315-d49f-d052d36d5189"
      },
      "source": [
        "value_set = set(squares.values())\n",
        "print(value_set)\n",
        "print(type(value_set))"
      ],
      "execution_count": null,
      "outputs": [
        {
          "output_type": "stream",
          "text": [
            "{1, 9, 81, 49, 25}\n",
            "<class 'set'>\n"
          ],
          "name": "stdout"
        }
      ]
    },
    {
      "cell_type": "code",
      "metadata": {
        "colab": {
          "base_uri": "https://localhost:8080/"
        },
        "id": "gmg2oMeDpK0v",
        "outputId": "aeb9615a-8350-48ea-888d-3453c62d18ec"
      },
      "source": [
        "squares.items()"
      ],
      "execution_count": null,
      "outputs": [
        {
          "output_type": "execute_result",
          "data": {
            "text/plain": [
              "dict_items([(1, 1), (3, 9), (5, 25), (7, 49), (9, 81), (11, 81)])"
            ]
          },
          "metadata": {
            "tags": []
          },
          "execution_count": 72
        }
      ]
    },
    {
      "cell_type": "code",
      "metadata": {
        "colab": {
          "base_uri": "https://localhost:8080/"
        },
        "id": "BzsNaZTye1TJ",
        "outputId": "80f5506d-d59a-4516-b4bf-bcd7a38844f7"
      },
      "source": [
        "print(squares.get(4))"
      ],
      "execution_count": null,
      "outputs": [
        {
          "output_type": "stream",
          "text": [
            "None\n"
          ],
          "name": "stdout"
        }
      ]
    },
    {
      "cell_type": "code",
      "metadata": {
        "id": "PQJOaS852I8E",
        "colab": {
          "base_uri": "https://localhost:8080/"
        },
        "outputId": "7e9c4a83-61fc-4dda-b075-3302facd0bab"
      },
      "source": [
        "relationship =['T151', 'T147', 'T186'] #affects, causes, isa\n",
        "\n",
        "'T151' in relationship"
      ],
      "execution_count": null,
      "outputs": [
        {
          "output_type": "execute_result",
          "data": {
            "text/plain": [
              "True"
            ]
          },
          "metadata": {
            "tags": []
          },
          "execution_count": 2
        }
      ]
    },
    {
      "cell_type": "code",
      "metadata": {
        "id": "MNeih6wvoy6i",
        "colab": {
          "base_uri": "https://localhost:8080/"
        },
        "outputId": "925f3824-c677-45a6-ea87-29f052716ece"
      },
      "source": [
        "\n",
        "num = 3\n",
        "if num > 0:\n",
        "    print(num, \"is a positive number.\")\n",
        "    print(\"hello\")\n",
        "    print(\"working on if case\")\n",
        "print(\"This is always printed.\")\n",
        "\n",
        "num = 4\n",
        "if num > 0:\n",
        "    print(num, \"is a positive number.\")\n",
        "    print(\"hello\")\n",
        "    print(\"working on if case\")\n",
        "print(\"This is also always printed.\")\n"
      ],
      "execution_count": null,
      "outputs": [
        {
          "output_type": "stream",
          "name": "stdout",
          "text": [
            "3 is a positive number.\n",
            "hello\n",
            "working on if case\n",
            "This is always printed.\n",
            "4 is a positive number.\n",
            "hello\n",
            "working on if case\n",
            "This is also always printed.\n"
          ]
        }
      ]
    },
    {
      "cell_type": "code",
      "metadata": {
        "colab": {
          "base_uri": "https://localhost:8080/"
        },
        "id": "nFgb5uJeqWtA",
        "outputId": "00b30a34-d761-4251-d172-7bea34353f71"
      },
      "source": [
        "num = 5\n",
        "# Try these two variations as well. num = -5 & num = 0\n",
        "if num >= 0:\n",
        "    print(\"Positive or Zero\")\n",
        "else:\n",
        "    print(\"Negative number\")\n",
        "print(\"hello\")\n"
      ],
      "execution_count": null,
      "outputs": [
        {
          "output_type": "stream",
          "text": [
            "Positive or Zero\n",
            "hello\n"
          ],
          "name": "stdout"
        }
      ]
    },
    {
      "cell_type": "code",
      "metadata": {
        "colab": {
          "base_uri": "https://localhost:8080/"
        },
        "id": "MtoxmzDKsDvf",
        "outputId": "2ecdbc75-b60b-482d-b51b-57e97a5f4358"
      },
      "source": [
        "num = -3.4\n",
        "# Try these two variations as well: num = 0 & num = -4.5\n",
        "if num > 0:\n",
        "  print(\"Positive number\")\n",
        "elif num == 0:\n",
        "  print(\"Zero\")\n",
        "else:\n",
        "  print(\"Negative number\")\n"
      ],
      "execution_count": null,
      "outputs": [
        {
          "output_type": "stream",
          "text": [
            "Negative number\n"
          ],
          "name": "stdout"
        }
      ]
    },
    {
      "cell_type": "code",
      "metadata": {
        "colab": {
          "base_uri": "https://localhost:8080/",
          "height": 214
        },
        "id": "29ei5KIIts_G",
        "outputId": "2b35f57f-9ef5-45f1-a62a-b7da5bdbdd3a"
      },
      "source": [
        "num = float(input(\"Enter a number: \"))\n",
        "print(type(num))\n",
        "print(\"you have enteered: \", num)"
      ],
      "execution_count": null,
      "outputs": [
        {
          "output_type": "stream",
          "text": [
            "Enter a number: aizan\n"
          ],
          "name": "stdout"
        },
        {
          "output_type": "error",
          "ename": "ValueError",
          "evalue": "ignored",
          "traceback": [
            "\u001b[0;31m---------------------------------------------------------------------------\u001b[0m",
            "\u001b[0;31mValueError\u001b[0m                                Traceback (most recent call last)",
            "\u001b[0;32m<ipython-input-25-4fd888e71e03>\u001b[0m in \u001b[0;36m<module>\u001b[0;34m()\u001b[0m\n\u001b[0;32m----> 1\u001b[0;31m \u001b[0mnum\u001b[0m \u001b[0;34m=\u001b[0m \u001b[0mfloat\u001b[0m\u001b[0;34m(\u001b[0m\u001b[0minput\u001b[0m\u001b[0;34m(\u001b[0m\u001b[0;34m\"Enter a number: \"\u001b[0m\u001b[0;34m)\u001b[0m\u001b[0;34m)\u001b[0m\u001b[0;34m\u001b[0m\u001b[0;34m\u001b[0m\u001b[0m\n\u001b[0m\u001b[1;32m      2\u001b[0m \u001b[0mprint\u001b[0m\u001b[0;34m(\u001b[0m\u001b[0mtype\u001b[0m\u001b[0;34m(\u001b[0m\u001b[0mnum\u001b[0m\u001b[0;34m)\u001b[0m\u001b[0;34m)\u001b[0m\u001b[0;34m\u001b[0m\u001b[0;34m\u001b[0m\u001b[0m\n\u001b[1;32m      3\u001b[0m \u001b[0mprint\u001b[0m\u001b[0;34m(\u001b[0m\u001b[0;34m\"you have enteered: \"\u001b[0m\u001b[0;34m,\u001b[0m \u001b[0mnum\u001b[0m\u001b[0;34m)\u001b[0m\u001b[0;34m\u001b[0m\u001b[0;34m\u001b[0m\u001b[0m\n",
            "\u001b[0;31mValueError\u001b[0m: could not convert string to float: 'aizan'"
          ]
        }
      ]
    },
    {
      "cell_type": "code",
      "metadata": {
        "colab": {
          "base_uri": "https://localhost:8080/"
        },
        "id": "zrUyD4e4rn_K",
        "outputId": "9adf56e5-24d5-4eda-ca60-85eee7e13d2f"
      },
      "source": [
        "num = float(input(\"Enter a number: \"))\n",
        "if num >= 0:\n",
        "    if num == 0:\n",
        "        print(\"Zero\")\n",
        "    else:\n",
        "        print(\"Positive number\")\n",
        "else:\n",
        "    print(\"Negative number\")\n"
      ],
      "execution_count": null,
      "outputs": [
        {
          "output_type": "stream",
          "text": [
            "Enter a number: -7568\n",
            "Negative number\n"
          ],
          "name": "stdout"
        }
      ]
    },
    {
      "cell_type": "code",
      "metadata": {
        "colab": {
          "base_uri": "https://localhost:8080/"
        },
        "id": "TxlmGBgxrhKh",
        "outputId": "93cc91bc-c2a9-444e-f495-c0a82fb9d15d"
      },
      "source": [
        "numbers = [6, 5, 3, 8, 4, 2, 5, 4, 11]\n",
        "# variable to store the sum\n",
        "sum = 0\n",
        "# iterate over the list\n",
        "for value in numbers:\n",
        "    print(value)\n",
        "    sum = sum+value\n",
        "print(\"The sum is\", sum)\n"
      ],
      "execution_count": null,
      "outputs": [
        {
          "output_type": "stream",
          "text": [
            "6\n",
            "5\n",
            "3\n",
            "8\n",
            "4\n",
            "2\n",
            "5\n",
            "4\n",
            "11\n",
            "The sum is 48\n"
          ],
          "name": "stdout"
        }
      ]
    },
    {
      "cell_type": "code",
      "metadata": {
        "colab": {
          "base_uri": "https://localhost:8080/"
        },
        "id": "-lv6a2Uty7jV",
        "outputId": "2fb87663-521d-44ca-a426-b13fea94c7e6"
      },
      "source": [
        "print(range(10))\n",
        "print(type(range(10)))\n",
        "print(list(range(10)))\n",
        "print(type(list(range(10))))\n",
        "print(list(range(2, 8)))\n",
        "print(list(range(2, 20, 3)))\n"
      ],
      "execution_count": null,
      "outputs": [
        {
          "output_type": "stream",
          "text": [
            "range(0, 10)\n",
            "<class 'range'>\n",
            "[0, 1, 2, 3, 4, 5, 6, 7, 8, 9]\n",
            "<class 'list'>\n",
            "[2, 3, 4, 5, 6, 7]\n",
            "[2, 5, 8, 11, 14, 17]\n"
          ],
          "name": "stdout"
        }
      ]
    },
    {
      "cell_type": "code",
      "metadata": {
        "colab": {
          "base_uri": "https://localhost:8080/"
        },
        "id": "WVttmiwQzSGg",
        "outputId": "5355f6a3-c53e-4069-89bd-aac82a6bf644"
      },
      "source": [
        "for num in range(11):\n",
        "    print(num)"
      ],
      "execution_count": null,
      "outputs": [
        {
          "output_type": "stream",
          "text": [
            "0\n",
            "1\n",
            "2\n",
            "3\n",
            "4\n",
            "5\n",
            "6\n",
            "7\n",
            "8\n",
            "9\n",
            "10\n"
          ],
          "name": "stdout"
        }
      ]
    },
    {
      "cell_type": "code",
      "metadata": {
        "colab": {
          "base_uri": "https://localhost:8080/"
        },
        "id": "MKew9F6hzgUP",
        "outputId": "9f66dd8a-53d3-47ac-ff30-94c1173760d6"
      },
      "source": [
        "# writer a code to find evern number from 0-20\n",
        "for num in list(range(21)):\n",
        "    if num >= 10 and num % 2==1:\n",
        "        print(num,\" it is an odd number\")"
      ],
      "execution_count": null,
      "outputs": [
        {
          "output_type": "stream",
          "text": [
            "11  it is an odd number\n",
            "13  it is an odd number\n",
            "15  it is an odd number\n",
            "17  it is an odd number\n",
            "19  it is an odd number\n"
          ],
          "name": "stdout"
        }
      ]
    },
    {
      "cell_type": "code",
      "metadata": {
        "colab": {
          "base_uri": "https://localhost:8080/"
        },
        "id": "hxVzyu76zZx7",
        "outputId": "37ad54a7-4cb5-4867-af32-8bcf4b987479"
      },
      "source": [
        "genre = ['pop', 'rock', 'jazz']\n",
        "# iterate over the list using index\n",
        "for i in range(len(genre)):\n",
        "    if i%2==0:  # mod %\n",
        "        print(\"I like\", genre[i])\n",
        "\n",
        "for element in genre:\n",
        "    print(element)"
      ],
      "execution_count": null,
      "outputs": [
        {
          "output_type": "stream",
          "text": [
            "I like pop\n",
            "I like jazz\n",
            "pop\n",
            "rock\n",
            "jazz\n"
          ],
          "name": "stdout"
        }
      ]
    },
    {
      "cell_type": "code",
      "metadata": {
        "colab": {
          "base_uri": "https://localhost:8080/"
        },
        "id": "i8ga35jn1sqM",
        "outputId": "9d7058e4-6a68-4c53-b8b6-1c14b662e7d3"
      },
      "source": [
        "# program to display student's marks from record\n",
        "student_name = 'Arthur'\n",
        "marks = {'James': 90, 'Jules': 55, 'Arthur': 77}\n",
        "\n",
        "for student in marks:\n",
        "    if student == student_name:\n",
        "        print(marks[student])\n",
        "        break\n"
      ],
      "execution_count": null,
      "outputs": [
        {
          "output_type": "stream",
          "text": [
            "77\n"
          ],
          "name": "stdout"
        }
      ]
    },
    {
      "cell_type": "code",
      "metadata": {
        "colab": {
          "base_uri": "https://localhost:8080/"
        },
        "id": "V85ovf6X33t5",
        "outputId": "40faa318-b79f-4495-eae6-159202605db0"
      },
      "source": [
        "'AB' > 'BA'"
      ],
      "execution_count": null,
      "outputs": [
        {
          "output_type": "execute_result",
          "data": {
            "text/plain": [
              "False"
            ]
          },
          "metadata": {
            "tags": []
          },
          "execution_count": 65
        }
      ]
    },
    {
      "cell_type": "code",
      "metadata": {
        "colab": {
          "base_uri": "https://localhost:8080/"
        },
        "id": "ssfeKELe4Gw6",
        "outputId": "8f4a1d3c-e974-4c4e-9230-5b970e7afae9"
      },
      "source": [
        "A=[3,4,5]\n",
        "for a in A:\n",
        "    print(a)\n"
      ],
      "execution_count": null,
      "outputs": [
        {
          "output_type": "stream",
          "text": [
            "3\n",
            "4\n",
            "5\n"
          ],
          "name": "stdout"
        }
      ]
    },
    {
      "cell_type": "code",
      "metadata": {
        "colab": {
          "base_uri": "https://localhost:8080/"
        },
        "id": "AmvfGKvN43mu",
        "outputId": "6493dc29-aab6-4031-b186-a510b087ff69"
      },
      "source": [
        "name_list =['aizan','zafar','aatif','abid','akrama','rahman','tabish','asif']\n",
        "for name in name_list:\n",
        "    if name[0] =='a' or len(name)>=5:\n",
        "        print(name)\n"
      ],
      "execution_count": 4,
      "outputs": [
        {
          "output_type": "stream",
          "name": "stdout",
          "text": [
            "aizan\n",
            "zafar\n",
            "aatif\n",
            "abid\n",
            "akrama\n",
            "rahman\n",
            "tabish\n",
            "asif\n"
          ]
        }
      ]
    },
    {
      "cell_type": "code",
      "metadata": {
        "colab": {
          "base_uri": "https://localhost:8080/"
        },
        "id": "sBIha4jpS5s0",
        "outputId": "9ae51773-274f-483b-c068-74fd98bc55c1"
      },
      "source": [
        "name_list =['aizan','zafar','aatif','abid','akrama','rahman','tabish','asif','danish']\n",
        "while(1): # 1,2,3,4  True  None or 0 False\n",
        "  for name in name_list:\n",
        "      if name[0] =='a' or len(name)>=5:\n",
        "          print(name)\n",
        "          break\n",
        "  break\n"
      ],
      "execution_count": 5,
      "outputs": [
        {
          "output_type": "stream",
          "name": "stdout",
          "text": [
            "aizan\n"
          ]
        }
      ]
    },
    {
      "cell_type": "code",
      "metadata": {
        "id": "WoI4Z-CwTGux"
      },
      "source": [],
      "execution_count": null,
      "outputs": []
    },
    {
      "cell_type": "code",
      "metadata": {
        "id": "7oaIC2fb5Z4I",
        "colab": {
          "base_uri": "https://localhost:8080/"
        },
        "outputId": "684051da-f029-44a3-c704-6a605eca260f"
      },
      "source": [
        "# Program to add natural,  sum = 1+2+3+...+n\n",
        "n = int(input(\"Enter the number\"))\n",
        "# initialize sum and counter\n",
        "sum = 0\n",
        "i = 1\n",
        "while i <= n:\n",
        "    sum = sum + i\n",
        "    i = i+1    # update counter\n",
        "# print the sum\n",
        "print(\"The sum is\", sum)\n"
      ],
      "execution_count": 6,
      "outputs": [
        {
          "output_type": "stream",
          "name": "stdout",
          "text": [
            "Enter the number5\n",
            "The sum is 15\n"
          ]
        }
      ]
    },
    {
      "cell_type": "code",
      "metadata": {
        "colab": {
          "base_uri": "https://localhost:8080/"
        },
        "id": "Wv24diQkQNaS",
        "outputId": "a7198d27-1bab-4cf6-bff3-979c781e5700"
      },
      "source": [
        "n = int(input(\"enter karo number\"))\n",
        "\n",
        "sum =0\n",
        "for num in range(n+1):\n",
        "  sum =sum + num\n",
        "  #print(\"inner sum: \", sum)\n",
        "print(sum)"
      ],
      "execution_count": null,
      "outputs": [
        {
          "output_type": "stream",
          "text": [
            "enter karo number5\n",
            "15\n"
          ],
          "name": "stdout"
        }
      ]
    },
    {
      "cell_type": "code",
      "metadata": {
        "colab": {
          "base_uri": "https://localhost:8080/"
        },
        "id": "k9EIU4esQSwJ",
        "outputId": "1e51d55e-18e0-4a88-fdfe-6366d2a85649"
      },
      "source": [
        "counter = 0\n",
        "while counter < 3:\n",
        "    print(\"Inside loop\")\n",
        "    counter = counter + 1\n",
        "else:\n",
        "    print(\"Inside else\")\n",
        "print(\"This is always printed\")"
      ],
      "execution_count": null,
      "outputs": [
        {
          "output_type": "stream",
          "text": [
            "Inside loop\n",
            "Inside loop\n",
            "Inside loop\n",
            "Inside else\n",
            "This is always printed\n"
          ],
          "name": "stdout"
        }
      ]
    },
    {
      "cell_type": "code",
      "metadata": {
        "id": "Iiu38IsvVmbZ"
      },
      "source": [
        "s t r i n g\n",
        "0 1 2 3 4 5\n",
        "\n"
      ],
      "execution_count": null,
      "outputs": []
    },
    {
      "cell_type": "code",
      "metadata": {
        "colab": {
          "base_uri": "https://localhost:8080/"
        },
        "id": "jE14PlwhQFPN",
        "outputId": "dc225955-b0ad-4cbb-da7f-e6eb44bcefe4"
      },
      "source": [
        "for val in \"string\":\n",
        "    print(\"val= \",val)\n",
        "    if val == \"i\":\n",
        "        #break\n",
        "        print(\"Inside loop\")\n",
        "        continue\n",
        "    else:\n",
        "        print(val)\n",
        "print(\"The end\")\n",
        "print(\"outside the loop\")"
      ],
      "execution_count": 7,
      "outputs": [
        {
          "output_type": "stream",
          "name": "stdout",
          "text": [
            "val=  s\n",
            "s\n",
            "val=  t\n",
            "t\n",
            "val=  r\n",
            "r\n",
            "val=  i\n",
            "Inside loop\n",
            "val=  n\n",
            "n\n",
            "val=  g\n",
            "g\n",
            "The end\n",
            "outside the loop\n"
          ]
        }
      ]
    },
    {
      "cell_type": "code",
      "metadata": {
        "colab": {
          "base_uri": "https://localhost:8080/"
        },
        "id": "TDlX0hs2Vi_-",
        "outputId": "300186e7-2ef3-402f-e2a0-d07cd576ab6f"
      },
      "source": [
        "x=3\n",
        "y=1\n",
        "while(y!= x):\n",
        "  print(y)\n",
        "  y=y+1\n",
        "print(\"final y=\", y)"
      ],
      "execution_count": null,
      "outputs": [
        {
          "output_type": "stream",
          "text": [
            "1\n",
            "2\n",
            "final y= 3\n"
          ],
          "name": "stdout"
        }
      ]
    },
    {
      "cell_type": "code",
      "metadata": {
        "id": "xS6LTV-lYTSP"
      },
      "source": [
        "'''pass is just a placeholder for\n",
        "functionality to be added later.'''\n",
        "sequence = {'p', 'a', 's', 's'}\n",
        "for val in sequence:\n",
        "    #print(val)\n",
        "    pass"
      ],
      "execution_count": null,
      "outputs": []
    },
    {
      "cell_type": "code",
      "metadata": {
        "colab": {
          "base_uri": "https://localhost:8080/"
        },
        "id": "ayt7RCRHYUZu",
        "outputId": "10f5c90b-8b10-44ae-cc57-3b30e13ead75"
      },
      "source": [
        "name_list =['aizan','zafar','aatif','abid','akrama','rahman','tabish','asif','danish']\n",
        "\n",
        "for name in name_list:\n",
        "  #print(name[-1])\n",
        "  #print(type(name))\n",
        "  index_number = len(name) -1\n",
        "#  print()\n",
        "  print(name[index_number])"
      ],
      "execution_count": null,
      "outputs": [
        {
          "output_type": "stream",
          "text": [
            "n\n",
            "r\n",
            "f\n",
            "d\n",
            "a\n",
            "n\n",
            "h\n",
            "f\n",
            "h\n"
          ],
          "name": "stdout"
        }
      ]
    },
    {
      "cell_type": "code",
      "metadata": {
        "colab": {
          "base_uri": "https://localhost:8080/"
        },
        "id": "Sx9JXNzVdVtU",
        "outputId": "e59fb8ca-506e-484b-caa7-6388e394bbab"
      },
      "source": [
        "print(\"Aizan Zafar\".lower())"
      ],
      "execution_count": null,
      "outputs": [
        {
          "output_type": "stream",
          "text": [
            "aizan zafar\n"
          ],
          "name": "stdout"
        }
      ]
    },
    {
      "cell_type": "code",
      "metadata": {
        "id": "IYJJJtbUk5_-"
      },
      "source": [
        "#The lowest grade of 37.2 belongs to Tina.\n",
        "#The second lowest grade of 37.21 belongs to both Harry and Berry,\n",
        "#so we order their names alphabetically and print each name on a new line."
      ],
      "execution_count": null,
      "outputs": []
    },
    {
      "cell_type": "code",
      "metadata": {
        "colab": {
          "base_uri": "https://localhost:8080/"
        },
        "id": "AqyhYF-1kP-j",
        "outputId": "b9a2748c-62d6-4b22-d6b0-454eb3a1ae4b"
      },
      "source": [
        "record = [['Harry', 37.21], ['Berry', 37.21], ['Tina', 37.2], ['Akriti', 41], ['Harsh', 39]]\n",
        "lowest=-99\n",
        "for val in record:\n",
        "  if val[1]"
      ],
      "execution_count": null,
      "outputs": [
        {
          "output_type": "stream",
          "text": [
            "37.21\n",
            "37.21\n",
            "37.2\n",
            "41\n",
            "39\n"
          ],
          "name": "stdout"
        }
      ]
    },
    {
      "cell_type": "code",
      "metadata": {
        "colab": {
          "base_uri": "https://localhost:8080/",
          "height": 211
        },
        "id": "vCgRJBvHkSOq",
        "outputId": "9c104039-8ea8-40c7-f800-218d75f4a780"
      },
      "source": [
        "#second_highest = sorted(list(set([marks for name, marks in record])))[1]\n",
        "#print(second_highest)\n",
        "#print('\\n'.join([a for a,b in sorted(marksheet) if b == second_highest]))\n",
        "second_highest=[]\n",
        "for name, mark in record:\n",
        "  second_highest.append(mark)\n",
        "second_highest= sorted(second_highest)\n",
        "second_highest= second_highest[1]\n",
        "\n",
        "print(second_highest)\n",
        "for a,b in sorted(record):\n",
        "  if b== second_highest:\n",
        "    print(a)\n"
      ],
      "execution_count": 8,
      "outputs": [
        {
          "output_type": "error",
          "ename": "NameError",
          "evalue": "name 'record' is not defined",
          "traceback": [
            "\u001b[0;31m---------------------------------------------------------------------------\u001b[0m",
            "\u001b[0;31mNameError\u001b[0m                                 Traceback (most recent call last)",
            "\u001b[0;32m<ipython-input-8-0f9c0b10ce8f>\u001b[0m in \u001b[0;36m<cell line: 0>\u001b[0;34m()\u001b[0m\n\u001b[1;32m      3\u001b[0m \u001b[0;31m#print('\\n'.join([a for a,b in sorted(marksheet) if b == second_highest]))\u001b[0m\u001b[0;34m\u001b[0m\u001b[0;34m\u001b[0m\u001b[0m\n\u001b[1;32m      4\u001b[0m \u001b[0msecond_highest\u001b[0m\u001b[0;34m=\u001b[0m\u001b[0;34m[\u001b[0m\u001b[0;34m]\u001b[0m\u001b[0;34m\u001b[0m\u001b[0;34m\u001b[0m\u001b[0m\n\u001b[0;32m----> 5\u001b[0;31m \u001b[0;32mfor\u001b[0m \u001b[0mname\u001b[0m\u001b[0;34m,\u001b[0m \u001b[0mmark\u001b[0m \u001b[0;32min\u001b[0m \u001b[0mrecord\u001b[0m\u001b[0;34m:\u001b[0m\u001b[0;34m\u001b[0m\u001b[0;34m\u001b[0m\u001b[0m\n\u001b[0m\u001b[1;32m      6\u001b[0m   \u001b[0msecond_highest\u001b[0m\u001b[0;34m.\u001b[0m\u001b[0mappend\u001b[0m\u001b[0;34m(\u001b[0m\u001b[0mmark\u001b[0m\u001b[0;34m)\u001b[0m\u001b[0;34m\u001b[0m\u001b[0;34m\u001b[0m\u001b[0m\n\u001b[1;32m      7\u001b[0m \u001b[0msecond_highest\u001b[0m\u001b[0;34m=\u001b[0m \u001b[0msorted\u001b[0m\u001b[0;34m(\u001b[0m\u001b[0msecond_highest\u001b[0m\u001b[0;34m)\u001b[0m\u001b[0;34m\u001b[0m\u001b[0;34m\u001b[0m\u001b[0m\n",
            "\u001b[0;31mNameError\u001b[0m: name 'record' is not defined"
          ]
        }
      ]
    },
    {
      "cell_type": "code",
      "metadata": {
        "colab": {
          "base_uri": "https://localhost:8080/"
        },
        "id": "KhIsqiSs4sj-",
        "outputId": "15ffd3e6-69ac-4160-982e-49453adbaa30"
      },
      "source": [
        "student_marks={'Anurag':[26,28,30],'Harsh':[25,26.5,28]}\n",
        "type(student_marks[\"Anurag\"])"
      ],
      "execution_count": null,
      "outputs": [
        {
          "output_type": "execute_result",
          "data": {
            "text/plain": [
              "list"
            ]
          },
          "metadata": {
            "tags": []
          },
          "execution_count": 5
        }
      ]
    },
    {
      "cell_type": "code",
      "metadata": {
        "colab": {
          "base_uri": "https://localhost:8080/"
        },
        "id": "5bSG-W0E7oaz",
        "outputId": "cbab4e90-911d-4952-80d5-e76c2d8be903"
      },
      "source": [
        "Ptotal_marks=0\n",
        "for mark in student_marks[\"Anurag\"]:\n",
        "  total_marks=total_marks+mark\n",
        "print(\"{:.2f}\".format(total_marks/ len(student_marks[\"Anurag\"])))"
      ],
      "execution_count": null,
      "outputs": [
        {
          "output_type": "stream",
          "text": [
            "28.00\n"
          ],
          "name": "stdout"
        }
      ]
    },
    {
      "cell_type": "code",
      "metadata": {
        "id": "jppQThYM88yv"
      },
      "source": [
        "\"{:.2f}\".format(float)"
      ],
      "execution_count": null,
      "outputs": []
    },
    {
      "cell_type": "code",
      "metadata": {
        "id": "Ai_NgzV77d5z",
        "colab": {
          "base_uri": "https://localhost:8080/"
        },
        "outputId": "ea139057-47b6-4d52-bcf4-9c726d6e6c34"
      },
      "source": [
        "name=\"aizan zafar\"\n",
        "for x in name.split():\n",
        "  name = name.replace(x, x.capitalize())\n",
        "print(name)"
      ],
      "execution_count": 9,
      "outputs": [
        {
          "output_type": "stream",
          "name": "stdout",
          "text": [
            "Aizan Zafar\n"
          ]
        }
      ]
    },
    {
      "cell_type": "markdown",
      "metadata": {
        "id": "NHnrBRz0bbtj"
      },
      "source": [
        "You are given a string and your task is to swap cases. In other words, convert all lowercase letters to uppercase letters and vice versa."
      ]
    },
    {
      "cell_type": "code",
      "metadata": {
        "id": "j9q52nxPVODH"
      },
      "source": [
        "# solution 1\n",
        "def swap_case(s):\n",
        "    result = \"\"\n",
        "    for letter in s:\n",
        "        if letter == letter.upper():\n",
        "            result += letter.lower()\n",
        "        else:\n",
        "            result += letter.upper()\n",
        "    return result\n",
        "\n",
        "# solution 2 use s.swapcase() inbuit function"
      ],
      "execution_count": null,
      "outputs": []
    },
    {
      "cell_type": "code",
      "metadata": {
        "colab": {
          "base_uri": "https://localhost:8080/"
        },
        "id": "iQQUe6p3SyZe",
        "outputId": "4fb7feb4-3187-4d33-9931-de6caed25153"
      },
      "source": [
        "s=\"\"\n",
        "s= s+'a'\n",
        "s= s+'b'\n",
        "s= s+'c'\n",
        "print(s)"
      ],
      "execution_count": null,
      "outputs": [
        {
          "output_type": "stream",
          "text": [
            "abc\n"
          ],
          "name": "stdout"
        }
      ]
    },
    {
      "cell_type": "code",
      "metadata": {
        "colab": {
          "base_uri": "https://localhost:8080/",
          "height": 35
        },
        "id": "c6S-xlNHaxW4",
        "outputId": "d876d3da-4790-4486-dcc4-80316a8cf03c"
      },
      "source": [
        "swap_case(\"AizAn ZaFar\")"
      ],
      "execution_count": null,
      "outputs": [
        {
          "output_type": "execute_result",
          "data": {
            "application/vnd.google.colaboratory.intrinsic+json": {
              "type": "string"
            },
            "text/plain": [
              "'aIZaN zAfAR'"
            ]
          },
          "metadata": {
            "tags": []
          },
          "execution_count": 5
        }
      ]
    },
    {
      "cell_type": "code",
      "metadata": {
        "colab": {
          "base_uri": "https://localhost:8080/"
        },
        "id": "nHVdLVAta4UA",
        "outputId": "d8a62997-1c3f-49f9-cff4-fe1cf30062dc"
      },
      "source": [
        "string=\"abcdcdcecde\"\n",
        "sub_string=\"cdc\"\n",
        "# output = 2\n",
        "string_1=\"aizan zafar and akran\"\n",
        "sub_string_1=\"an\"\n",
        "#output = 3\n"
      ],
      "execution_count": null,
      "outputs": [
        {
          "output_type": "execute_result",
          "data": {
            "text/plain": [
              "2"
            ]
          },
          "metadata": {
            "tags": []
          },
          "execution_count": 34
        }
      ]
    },
    {
      "cell_type": "code",
      "metadata": {
        "colab": {
          "base_uri": "https://localhost:8080/"
        },
        "id": "JhVH25VicZRz",
        "outputId": "10df2550-ac1c-46af-f5ad-e04366ae95dd"
      },
      "source": [
        "count=0\n",
        "for i in range(0, len(string)):\n",
        "  match=False\n",
        "  #print (string[i])\n",
        "\n",
        "\n",
        "        match=True\n",
        "        i=i+1\n",
        "      else:\n",
        "        match=False\n",
        "        break\n",
        "    if match==True:\n",
        "      count=count+1\n",
        "print(count)"
      ],
      "execution_count": null,
      "outputs": [
        {
          "output_type": "stream",
          "text": [
            "2\n"
          ],
          "name": "stdout"
        }
      ]
    },
    {
      "cell_type": "code",
      "metadata": {
        "id": "2Hm5TQrMeFn0"
      },
      "source": [
        "def count_substring(string,sub_string):\n",
        "    count = 0\n",
        "    for i in range(len(string)):\n",
        "        if string[i:].startswith(sub_string):\n",
        "            count += 1\n",
        "    return count"
      ],
      "execution_count": 10,
      "outputs": []
    },
    {
      "cell_type": "code",
      "metadata": {
        "colab": {
          "base_uri": "https://localhost:8080/"
        },
        "id": "LXllHFAuf3zw",
        "outputId": "65682957-ab80-4bd6-a04c-93fa2ac136d6"
      },
      "source": [
        "count_substring(aa, sub_string)"
      ],
      "execution_count": null,
      "outputs": [
        {
          "output_type": "execute_result",
          "data": {
            "text/plain": [
              "2"
            ]
          },
          "metadata": {
            "tags": []
          },
          "execution_count": 17
        }
      ]
    },
    {
      "cell_type": "markdown",
      "metadata": {
        "id": "M9rUMDNVEhmv"
      },
      "source": [
        "text wrap\n",
        "input:\n",
        "ABCDEFGHIJKLIMNOQRSTUVWXYZ\n",
        "4\n",
        "output:\n",
        "ABCD\n",
        "EFGH\n",
        "IJKL\n",
        "IMNO\n",
        "QRST\n",
        "UVWX\n",
        "YZ\n"
      ]
    },
    {
      "cell_type": "code",
      "metadata": {
        "id": "NOJetOSPJTSm",
        "outputId": "2fd41728-2d6d-47c8-e120-fad8164d7b5e",
        "colab": {
          "base_uri": "https://localhost:8080/",
          "height": 211
        }
      },
      "source": [
        "    # solution 1\n",
        "    s = \"\"\n",
        "    for c in range(0,len(string),max_width):\n",
        "        s += string[c:c+max_width] + \"\\n\"\n",
        "    return s\n",
        "    # sulution_2\n",
        "    #return \"\\n\".join(textwrap.wrap(string, max_width))"
      ],
      "execution_count": 11,
      "outputs": [
        {
          "output_type": "error",
          "ename": "NameError",
          "evalue": "name 'string' is not defined",
          "traceback": [
            "\u001b[0;31m---------------------------------------------------------------------------\u001b[0m",
            "\u001b[0;31mNameError\u001b[0m                                 Traceback (most recent call last)",
            "\u001b[0;32m<ipython-input-11-0d4b0012ede6>\u001b[0m in \u001b[0;36m<cell line: 0>\u001b[0;34m()\u001b[0m\n\u001b[1;32m      1\u001b[0m \u001b[0;31m# solution 1\u001b[0m\u001b[0;34m\u001b[0m\u001b[0;34m\u001b[0m\u001b[0m\n\u001b[1;32m      2\u001b[0m \u001b[0ms\u001b[0m \u001b[0;34m=\u001b[0m \u001b[0;34m\"\"\u001b[0m\u001b[0;34m\u001b[0m\u001b[0;34m\u001b[0m\u001b[0m\n\u001b[0;32m----> 3\u001b[0;31m \u001b[0;32mfor\u001b[0m \u001b[0mc\u001b[0m \u001b[0;32min\u001b[0m \u001b[0mrange\u001b[0m\u001b[0;34m(\u001b[0m\u001b[0;36m0\u001b[0m\u001b[0;34m,\u001b[0m\u001b[0mlen\u001b[0m\u001b[0;34m(\u001b[0m\u001b[0mstring\u001b[0m\u001b[0;34m)\u001b[0m\u001b[0;34m,\u001b[0m\u001b[0mmax_width\u001b[0m\u001b[0;34m)\u001b[0m\u001b[0;34m:\u001b[0m\u001b[0;34m\u001b[0m\u001b[0;34m\u001b[0m\u001b[0m\n\u001b[0m\u001b[1;32m      4\u001b[0m     \u001b[0ms\u001b[0m \u001b[0;34m+=\u001b[0m \u001b[0mstring\u001b[0m\u001b[0;34m[\u001b[0m\u001b[0mc\u001b[0m\u001b[0;34m:\u001b[0m\u001b[0mc\u001b[0m\u001b[0;34m+\u001b[0m\u001b[0mmax_width\u001b[0m\u001b[0;34m]\u001b[0m \u001b[0;34m+\u001b[0m \u001b[0;34m\"\\n\"\u001b[0m\u001b[0;34m\u001b[0m\u001b[0;34m\u001b[0m\u001b[0m\n\u001b[1;32m      5\u001b[0m \u001b[0;32mreturn\u001b[0m \u001b[0ms\u001b[0m\u001b[0;34m\u001b[0m\u001b[0;34m\u001b[0m\u001b[0m\n",
            "\u001b[0;31mNameError\u001b[0m: name 'string' is not defined"
          ]
        }
      ]
    },
    {
      "cell_type": "code",
      "metadata": {
        "id": "MGK5CcOMgBQI"
      },
      "source": [
        "string=\"aizan zafar is not good teacher\"\n",
        "max_width=4\n"
      ],
      "execution_count": 12,
      "outputs": []
    },
    {
      "cell_type": "code",
      "metadata": {
        "colab": {
          "base_uri": "https://localhost:8080/"
        },
        "id": "tpH_05x1c8qT",
        "outputId": "f27ddf8c-cefb-49e5-b619-b1d0d9d6d813"
      },
      "source": [
        "for c in (range(0,len(string),max_width)):\n",
        "  print(\"start_index:\", c, \"end_index:\", c+max_width)\n",
        "  print(string[c:c+max_width])\n"
      ],
      "execution_count": null,
      "outputs": [
        {
          "output_type": "stream",
          "text": [
            "start_index: 0 end_index: 4\n",
            "aiza\n",
            "start_index: 4 end_index: 8\n",
            "n za\n",
            "start_index: 8 end_index: 12\n",
            "far \n",
            "start_index: 12 end_index: 16\n",
            "is n\n",
            "start_index: 16 end_index: 20\n",
            "ot g\n",
            "start_index: 20 end_index: 24\n",
            "ood \n",
            "start_index: 24 end_index: 28\n",
            "teac\n",
            "start_index: 28 end_index: 32\n",
            "her\n"
          ],
          "name": "stdout"
        }
      ]
    },
    {
      "cell_type": "code",
      "metadata": {
        "colab": {
          "base_uri": "https://localhost:8080/"
        },
        "id": "ZORFgqYiMdRp",
        "outputId": "0492d36c-be64-4ae9-e214-a697ea88e3e4"
      },
      "source": [
        "import textwrap\n",
        "print((textwrap.wrap(string, max_width)))"
      ],
      "execution_count": null,
      "outputs": [
        {
          "output_type": "stream",
          "text": [
            "['aiza', 'n za', 'far', 'is', 'not', 'good', 'teac', 'her']\n"
          ],
          "name": "stdout"
        }
      ]
    },
    {
      "cell_type": "code",
      "metadata": {
        "id": "8MhljH3YMc-r"
      },
      "source": [],
      "execution_count": null,
      "outputs": []
    },
    {
      "cell_type": "code",
      "metadata": {
        "colab": {
          "base_uri": "https://localhost:8080/"
        },
        "id": "jIGERwRTctSU",
        "outputId": "5a8a472d-bdf0-4694-d048-ee42438df84b"
      },
      "source": [
        "string=\"AizAn\"\n",
        "print(string.upper())\n",
        "print(string.lower())\n",
        "\n",
        "output=\"aIZaN\"\n",
        "# swap case capital to small  and small to capital"
      ],
      "execution_count": null,
      "outputs": [
        {
          "output_type": "stream",
          "text": [
            "AIZAN\n",
            "aizan\n"
          ],
          "name": "stdout"
        }
      ]
    },
    {
      "cell_type": "code",
      "metadata": {
        "colab": {
          "base_uri": "https://localhost:8080/"
        },
        "id": "x_I39j0ZNvkr",
        "outputId": "6afef244-cd8e-4342-8348-5848436286e9"
      },
      "source": [
        "print(\"Input: \",string)\n",
        "s =\"\"\n",
        "for letter in string:\n",
        "  if letter == letter.upper():\n",
        "    s= s+letter.lower()\n",
        "  else:\n",
        "    s= s+letter.upper()\n",
        "\n",
        "print(\"output: \",s)\n"
      ],
      "execution_count": null,
      "outputs": [
        {
          "output_type": "stream",
          "text": [
            "Input:  AizAn\n",
            "output:  aIZaN\n"
          ],
          "name": "stdout"
        }
      ]
    },
    {
      "cell_type": "code",
      "metadata": {
        "colab": {
          "base_uri": "https://localhost:8080/",
          "height": 35
        },
        "id": "-huJKhZ3NvPC",
        "outputId": "a1351ae4-3927-43ae-cab3-2e0193806028"
      },
      "source": [
        "\"AkRaMA IsLam\".swapcase()"
      ],
      "execution_count": null,
      "outputs": [
        {
          "output_type": "execute_result",
          "data": {
            "application/vnd.google.colaboratory.intrinsic+json": {
              "type": "string"
            },
            "text/plain": [
              "'aKrAma iSlAM'"
            ]
          },
          "metadata": {
            "tags": []
          },
          "execution_count": 28
        }
      ]
    },
    {
      "cell_type": "code",
      "metadata": {
        "id": "2yxit3y5Nuf7"
      },
      "source": [
        "def greet(name,\n",
        "          a,\n",
        "          s):\n",
        "    \"\"\"\n",
        "    This function greets to the person passed in as a parameter\n",
        "    input: str\n",
        "    \"\"\"\n",
        "    print(\"Hello, \" + str(name) + \". Good morning!\")\n",
        "    2\n",
        "\n",
        "    3\n",
        "    4\n",
        "    5\n",
        "\n",
        "67\n",
        "    3"
      ],
      "execution_count": null,
      "outputs": []
    },
    {
      "cell_type": "code",
      "metadata": {
        "colab": {
          "base_uri": "https://localhost:8080/"
        },
        "id": "FrT-1INseKae",
        "outputId": "690ab2cc-d8c7-48a5-bb50-85f75a50a449"
      },
      "source": [
        "greet(5,6,7)"
      ],
      "execution_count": null,
      "outputs": [
        {
          "output_type": "stream",
          "name": "stdout",
          "text": [
            "Hello, 5. Good morning!\n"
          ]
        }
      ]
    },
    {
      "cell_type": "code",
      "metadata": {
        "colab": {
          "base_uri": "https://localhost:8080/"
        },
        "id": "ARRT8yjIeuBy",
        "outputId": "c14465e5-9ef2-48d4-a7b4-c6d10dd26f01"
      },
      "source": [
        "print(greet.__doc__)"
      ],
      "execution_count": null,
      "outputs": [
        {
          "output_type": "stream",
          "text": [
            "\n",
            "    This function greets to the person passed in as a parameter\n",
            "    input: str\n",
            "    \n",
            "    \n"
          ],
          "name": "stdout"
        }
      ]
    },
    {
      "cell_type": "code",
      "metadata": {
        "colab": {
          "base_uri": "https://localhost:8080/",
          "height": 214
        },
        "id": "Rji-jCt7evA5",
        "outputId": "efd5c3e2-5c85-4a82-ab5b-7b9e68dac726"
      },
      "source": [
        "def sum_of_two(num_1,num_2):\n",
        "  \"\"\"\n",
        "  input: integer, integer\n",
        "  output: integer: which is sum of two number\n",
        "  \"\"\"\n",
        "  sum= num_1+ num_2\n",
        "  #print(sum)\n",
        "  return sum\n",
        "\n",
        "\n",
        "greet(\"akrama\")\n",
        "result = sum_of_two(5,7)\n",
        "print(result)\n",
        "result = sum_of_two(result,8)\n",
        "print(result)"
      ],
      "execution_count": null,
      "outputs": [
        {
          "output_type": "error",
          "ename": "TypeError",
          "evalue": "greet() missing 2 required positional arguments: 'a' and 's'",
          "traceback": [
            "\u001b[0;31m---------------------------------------------------------------------------\u001b[0m",
            "\u001b[0;31mTypeError\u001b[0m                                 Traceback (most recent call last)",
            "\u001b[0;32m<ipython-input-24-f0d23caeda32>\u001b[0m in \u001b[0;36m<cell line: 11>\u001b[0;34m()\u001b[0m\n\u001b[1;32m      9\u001b[0m \u001b[0;34m\u001b[0m\u001b[0m\n\u001b[1;32m     10\u001b[0m \u001b[0;34m\u001b[0m\u001b[0m\n\u001b[0;32m---> 11\u001b[0;31m \u001b[0mgreet\u001b[0m\u001b[0;34m(\u001b[0m\u001b[0;34m\"akrama\"\u001b[0m\u001b[0;34m)\u001b[0m\u001b[0;34m\u001b[0m\u001b[0;34m\u001b[0m\u001b[0m\n\u001b[0m\u001b[1;32m     12\u001b[0m \u001b[0mresult\u001b[0m \u001b[0;34m=\u001b[0m \u001b[0msum_of_two\u001b[0m\u001b[0;34m(\u001b[0m\u001b[0;36m5\u001b[0m\u001b[0;34m,\u001b[0m\u001b[0;36m7\u001b[0m\u001b[0;34m)\u001b[0m\u001b[0;34m\u001b[0m\u001b[0;34m\u001b[0m\u001b[0m\n\u001b[1;32m     13\u001b[0m \u001b[0mprint\u001b[0m\u001b[0;34m(\u001b[0m\u001b[0mresult\u001b[0m\u001b[0;34m)\u001b[0m\u001b[0;34m\u001b[0m\u001b[0;34m\u001b[0m\u001b[0m\n",
            "\u001b[0;31mTypeError\u001b[0m: greet() missing 2 required positional arguments: 'a' and 's'"
          ]
        }
      ]
    },
    {
      "cell_type": "code",
      "metadata": {
        "colab": {
          "base_uri": "https://localhost:8080/"
        },
        "id": "KNrX-0GThvR8",
        "outputId": "5cbba7ca-a4a3-4c7b-ca4d-03c6cf168cfb"
      },
      "source": [
        "print(greet.__doc__)\n",
        "print(sum_of_two.__doc__)"
      ],
      "execution_count": null,
      "outputs": [
        {
          "output_type": "stream",
          "text": [
            "\n",
            "    This function greets to the person passed in as a parameter\n",
            "    input: str\n",
            "    \n",
            "    \n",
            "\n",
            "  input: integer, integer\n",
            "  output: integer: which is sum of two number\n",
            "  \n"
          ],
          "name": "stdout"
        }
      ]
    },
    {
      "cell_type": "code",
      "metadata": {
        "id": "Ybyn3I8lfjVx"
      },
      "source": [
        "def difference_of_two(num_1,num_2):\n",
        "  difference= num_1 - num_2\n",
        "  #print(difference)\n",
        "  return difference"
      ],
      "execution_count": null,
      "outputs": []
    },
    {
      "cell_type": "code",
      "metadata": {
        "colab": {
          "base_uri": "https://localhost:8080/"
        },
        "id": "ruJByuhhfrbX",
        "outputId": "40e0fd83-31db-4893-e17f-e49adc6e7a5d"
      },
      "source": [
        "result = sum_of_two(5,7)\n",
        "print(sum)\n",
        "print(result)"
      ],
      "execution_count": null,
      "outputs": [
        {
          "output_type": "stream",
          "text": [
            "12\n",
            "<built-in function sum>\n",
            "None\n"
          ],
          "name": "stdout"
        }
      ]
    },
    {
      "cell_type": "code",
      "metadata": {
        "colab": {
          "base_uri": "https://localhost:8080/"
        },
        "id": "4r_FK_JHilYn",
        "outputId": "1ad84982-0b2a-4b48-af1e-5065dbfbc99a"
      },
      "source": [
        "def absolute_value(num):\n",
        "    \"\"\"This function returns the absolute\n",
        "    value of the entered number\"\"\"\n",
        "    if num >= 0:\n",
        "        return num\n",
        "    else:\n",
        "        return -num\n",
        "\n",
        "print(absolute_value(2))\n",
        "print(absolute_value(-4))\n"
      ],
      "execution_count": null,
      "outputs": [
        {
          "output_type": "stream",
          "text": [
            "2\n",
            "4\n"
          ],
          "name": "stdout"
        }
      ]
    },
    {
      "cell_type": "code",
      "metadata": {
        "colab": {
          "base_uri": "https://localhost:8080/"
        },
        "id": "yPpYLauBjKel",
        "outputId": "e9912467-666b-473a-fb87-fcd0b74d466e"
      },
      "source": [
        "num = int(input())\n",
        "result = absolute_value(num)\n",
        "print(\"absulute value: \",result)"
      ],
      "execution_count": null,
      "outputs": [
        {
          "output_type": "stream",
          "text": [
            "-789\n",
            "absulute value:  789\n"
          ],
          "name": "stdout"
        }
      ]
    },
    {
      "cell_type": "code",
      "metadata": {
        "colab": {
          "base_uri": "https://localhost:8080/"
        },
        "id": "4XXxBuGhkoen",
        "outputId": "8b21a519-bb4d-49de-9316-f8b822c85af8"
      },
      "source": [
        "def my_func():\n",
        "\tx = 10 # local variable\n",
        "\tprint(\"Value inside function:\",x)\n",
        "\n",
        "x = 20 #global variation\n",
        "my_func()\n",
        "print(\"Value outside function:\",x)\n"
      ],
      "execution_count": null,
      "outputs": [
        {
          "output_type": "stream",
          "text": [
            "Value inside function: 10\n",
            "Value outside function: 20\n"
          ],
          "name": "stdout"
        }
      ]
    },
    {
      "cell_type": "code",
      "metadata": {
        "colab": {
          "base_uri": "https://localhost:8080/"
        },
        "id": "47FZLoGXlC6K",
        "outputId": "f406af86-7d37-49bf-c59f-115838fb0430"
      },
      "source": [
        "print(\"AizaN\".swapcase())"
      ],
      "execution_count": null,
      "outputs": [
        {
          "output_type": "stream",
          "text": [
            "aIZAn\n"
          ],
          "name": "stdout"
        }
      ]
    },
    {
      "cell_type": "code",
      "metadata": {
        "colab": {
          "base_uri": "https://localhost:8080/"
        },
        "id": "B3t_uoW9leQs",
        "outputId": "0ad30207-60b5-4dc2-8c51-e2c96bbd055d"
      },
      "source": [
        "def greet(name, msg=\"Good Morning\"):\n",
        "    \"\"\"This function greets to\n",
        "    the person with the provided message\"\"\"\n",
        "    print(\"Hello\", name + ', ' + msg)\n",
        "\n",
        "greet(\"Monica\", \"Good morning!\")\n",
        "greet(\"Akrama\", \"Ready for race\")\n",
        "greet(\"abid\")"
      ],
      "execution_count": null,
      "outputs": [
        {
          "output_type": "stream",
          "text": [
            "Hello Monica, Good morning!\n",
            "Hello Akrama, Ready for race\n",
            "Hello abid, Good Morning\n"
          ],
          "name": "stdout"
        }
      ]
    },
    {
      "cell_type": "code",
      "metadata": {
        "colab": {
          "base_uri": "https://localhost:8080/"
        },
        "id": "0pGkQPCboG_y",
        "outputId": "dc1ac958-5871-4d6d-a813-ff23fde3fc37"
      },
      "source": [
        "def greet(*names,msg=\"Good Morning\"):\n",
        "    \"\"\"This function greets all the person in the names tuple.\"\"\"\n",
        "    # names is a tuple with arguments\n",
        "    for name in names:\n",
        "        print(\"Hello\", name,\", \", msg)\n",
        "\n",
        "greet(\"Monica\", \"Luke\", \"Steve\", \"John\")\n"
      ],
      "execution_count": null,
      "outputs": [
        {
          "output_type": "stream",
          "text": [
            "Hello Monica ,  Good Morning\n",
            "Hello Luke ,  Good Morning\n",
            "Hello Steve ,  Good Morning\n",
            "Hello John ,  Good Morning\n"
          ],
          "name": "stdout"
        }
      ]
    },
    {
      "cell_type": "code",
      "metadata": {
        "colab": {
          "base_uri": "https://localhost:8080/"
        },
        "id": "Li2XWgDdoxoF",
        "outputId": "2a2f1a88-f122-4fbd-b059-2cb549fd008a"
      },
      "source": [
        "def sum_of_num(*num):\n",
        "    \"\"\"This function greets all the person in the names tuple.\"\"\"\n",
        "    # names is a tuple with arguments\n",
        "    sum =0\n",
        "    for number in num:\n",
        "        sum = sum+ number\n",
        "    #print(\"sum=\",sum)\n",
        "    return sum\n",
        "\n",
        "result = sum_of_num(10,10,10,10,10,1)\n",
        "print(result)"
      ],
      "execution_count": null,
      "outputs": [
        {
          "output_type": "stream",
          "text": [
            "51\n"
          ],
          "name": "stdout"
        }
      ]
    },
    {
      "cell_type": "code",
      "metadata": {
        "colab": {
          "base_uri": "https://localhost:8080/"
        },
        "id": "LIJmo5UwtXeS",
        "outputId": "b96659b9-4ed0-43b3-91f6-6996a89327cc"
      },
      "source": [
        "def factorial(x):\n",
        "    \"\"\"This is a recursive function\n",
        "    to find the factorial of an integer\"\"\"\n",
        "    if x == 1:\n",
        "        print(\"im base case\")\n",
        "        return 1\n",
        "    else:\n",
        "        print(\"x =\", x)\n",
        "        return (x * factorial(x-1))\n",
        "\n",
        "num = 3\n",
        "print(\"The factorial of\", num, \"is\", factorial(num))\n"
      ],
      "execution_count": null,
      "outputs": [
        {
          "output_type": "stream",
          "text": [
            "x = 3\n",
            "x = 2\n",
            "im base case\n",
            "The factorial of 3 is 6\n"
          ],
          "name": "stdout"
        }
      ]
    },
    {
      "cell_type": "code",
      "metadata": {
        "colab": {
          "base_uri": "https://localhost:8080/"
        },
        "id": "_qsF1elBuvzG",
        "outputId": "a37e5f4f-a557-4b28-cac9-b42c5ef429b7"
      },
      "source": [
        "#sum of first n number\n",
        "\n",
        "def sum_of_n_natural(num):\n",
        "  if num == 1:\n",
        "    return 1\n",
        "  else:\n",
        "    return num+sum_of_n_natural(num-1)\n",
        "\n",
        "num = 5\n",
        "print(\"sum of natural number:\", sum_of_n_natural(num))"
      ],
      "execution_count": null,
      "outputs": [
        {
          "output_type": "stream",
          "text": [
            "sum of natural number: 15\n"
          ],
          "name": "stdout"
        }
      ]
    },
    {
      "cell_type": "markdown",
      "metadata": {
        "id": "P0rgCjZOyBVF"
      },
      "source": [
        "5*4*3*2*1\n",
        "\n",
        "5! = 5*4!\n",
        "4! = 4*3!\n",
        "3! = 3* 2!\n",
        "2! = 2*1!\n",
        "1! = 1\n",
        "\n",
        "\n",
        "fac(x)\n",
        "x =5\n",
        "5*fact(x-1) # x-1 =4\n",
        "5* fact(4)\n",
        "5*4* fact(3)\n",
        "5*4*3*fact(2)"
      ]
    },
    {
      "cell_type": "code",
      "metadata": {
        "colab": {
          "base_uri": "https://localhost:8080/"
        },
        "id": "WDVmB5k-tmIQ",
        "outputId": "29983c03-9a46-4c01-8f3c-c80afd3aa135"
      },
      "source": [
        "def double (num):\n",
        "  return num*2\n",
        "\n",
        "double(25)\n",
        "\n"
      ],
      "execution_count": null,
      "outputs": [
        {
          "output_type": "execute_result",
          "data": {
            "text/plain": [
              "50"
            ]
          },
          "metadata": {
            "tags": []
          },
          "execution_count": 11
        }
      ]
    },
    {
      "cell_type": "code",
      "metadata": {
        "colab": {
          "base_uri": "https://localhost:8080/"
        },
        "id": "T1-llW8LyWa_",
        "outputId": "ec97fee1-57cc-4d25-81cb-ec400a73a0e9"
      },
      "source": [
        "list_num=[10,20,30,40]\n",
        "\n",
        "for num in list_num:\n",
        "  print(double(num))"
      ],
      "execution_count": null,
      "outputs": [
        {
          "output_type": "stream",
          "text": [
            "20\n",
            "40\n",
            "60\n",
            "80\n"
          ],
          "name": "stdout"
        }
      ]
    },
    {
      "cell_type": "code",
      "metadata": {
        "colab": {
          "base_uri": "https://localhost:8080/"
        },
        "id": "-8voTzjQzTqK",
        "outputId": "1bcc95a0-230a-4302-a622-b3e15e6ac288"
      },
      "source": [
        "double = lambda x: x * 2\n",
        "print(double(5))\n"
      ],
      "execution_count": null,
      "outputs": [
        {
          "output_type": "stream",
          "text": [
            "10\n"
          ],
          "name": "stdout"
        }
      ]
    },
    {
      "cell_type": "code",
      "metadata": {
        "colab": {
          "base_uri": "https://localhost:8080/"
        },
        "id": "vnNHkl_rzqK_",
        "outputId": "7b888d94-8307-441a-b6dc-b37858dd416a"
      },
      "source": [
        "def check_even(num):\n",
        "  if num%2 ==0:\n",
        "    return True\n",
        "\n",
        "my_list = [1, 5, 4, 6, 8, 11, 3, 12]\n",
        "new_list=[]\n",
        "for num in my_list:\n",
        "  if check_even(num) == True:\n",
        "    new_list.append(num)\n",
        "\n",
        "print(new_list)"
      ],
      "execution_count": null,
      "outputs": [
        {
          "output_type": "stream",
          "text": [
            "[4, 6, 8, 12]\n"
          ],
          "name": "stdout"
        }
      ]
    },
    {
      "cell_type": "code",
      "metadata": {
        "colab": {
          "base_uri": "https://localhost:8080/"
        },
        "id": "yhTYykOtzjH0",
        "outputId": "32a6f45e-2822-4001-9d2f-00a1e53b3e5e"
      },
      "source": [
        "# Program to filter out only the even items from a list\n",
        "my_list = [1, 5, 4, 6, 8, 11, 3, 12]\n",
        "new_list = list(filter(lambda x: (x%2 == 0) , my_list))\n",
        "print(new_list)\n"
      ],
      "execution_count": 13,
      "outputs": [
        {
          "output_type": "stream",
          "name": "stdout",
          "text": [
            "[4, 6, 8, 12]\n"
          ]
        }
      ]
    },
    {
      "cell_type": "code",
      "metadata": {
        "colab": {
          "base_uri": "https://localhost:8080/"
        },
        "id": "Lqu7qRHDrOMQ",
        "outputId": "4f5f96b5-bc9f-4f75-f10f-71a539b34dce"
      },
      "source": [
        "employees = ['Kelly', 'Emma', 'John']\n",
        "defaults = {\"designation\": 'Application Developer', \"salary\": 8000}\n",
        "\n",
        "#resDict=dict()\n",
        "#resDict={}\n",
        "#for name in employees:\n",
        "#  resDict[name]= defaults\n",
        "\n",
        "\n",
        "resDict = dict.fromkeys(employees, defaults)\n",
        "print(resDict)\n",
        "\n",
        "# Individual data\n",
        "print(resDict[\"Kelly\"])\n",
        "\n"
      ],
      "execution_count": 14,
      "outputs": [
        {
          "output_type": "stream",
          "name": "stdout",
          "text": [
            "{'Kelly': {'designation': 'Application Developer', 'salary': 8000}, 'Emma': {'designation': 'Application Developer', 'salary': 8000}, 'John': {'designation': 'Application Developer', 'salary': 8000}}\n",
            "{'designation': 'Application Developer', 'salary': 8000}\n"
          ]
        }
      ]
    },
    {
      "cell_type": "code",
      "metadata": {
        "colab": {
          "base_uri": "https://localhost:8080/"
        },
        "id": "uUbL3F-EsprT",
        "outputId": "307fee1d-cd2e-42db-a891-7506d36b6945"
      },
      "source": [
        "sampleDict = {\n",
        "  \"name\": \"Kelly\",\n",
        "  \"age\":25,\n",
        "  \"salary\": 8000,\n",
        "  \"city\": \"New york\" }\n",
        "#Keys to Extract\n",
        "keys = [\"name\", \"salary\",'address']\n",
        "\n",
        "#newDict = {k: sampleDict[k] for k in keys}\n",
        "newDict={}\n",
        "for k in keys:\n",
        "  if k in sampleDict:\n",
        "    newDict[k] = sampleDict[k]\n",
        "print(newDict)\n"
      ],
      "execution_count": null,
      "outputs": [
        {
          "output_type": "stream",
          "text": [
            "{'name': 'Kelly', 'salary': 8000}\n"
          ],
          "name": "stdout"
        }
      ]
    },
    {
      "cell_type": "code",
      "metadata": {
        "colab": {
          "base_uri": "https://localhost:8080/"
        },
        "id": "XB1CCmxhtGct",
        "outputId": "b03863da-8dbb-4e65-cc34-3715be1468e3"
      },
      "source": [
        "sampleDict = {\n",
        "  \"name\": \"Kelly\",\n",
        "  \"age\":25,\n",
        "  \"salary\": 8000,\n",
        "  \"city\": \"New york\"\n",
        "}\n",
        "\n",
        "#print(sampleDict.pop('city'))\n",
        "\n",
        "sampleDict['location'] = sampleDict.pop('city')\n",
        "print(sampleDict)\n"
      ],
      "execution_count": null,
      "outputs": [
        {
          "output_type": "stream",
          "text": [
            "{'name': 'Kelly', 'age': 25, 'salary': 8000, 'location': 'New york'}\n"
          ],
          "name": "stdout"
        }
      ]
    },
    {
      "cell_type": "code",
      "metadata": {
        "colab": {
          "base_uri": "https://localhost:8080/"
        },
        "id": "I8-CFDf6uuaO",
        "outputId": "1303e364-1703-4893-96eb-1d1c12b892ad"
      },
      "source": [
        "sampleDict = {\n",
        "  'Physics': 82,\n",
        "  'Math': 65,\n",
        "  'history': 75\n",
        "}\n",
        "\n",
        "marks= min(sampleDict.values())\n",
        "print((marks))\n",
        "\n",
        "print(max(sampleDict, key=sampleDict.get))\n"
      ],
      "execution_count": null,
      "outputs": [
        {
          "output_type": "stream",
          "text": [
            "65\n",
            "Physics\n"
          ],
          "name": "stdout"
        }
      ]
    },
    {
      "cell_type": "code",
      "metadata": {
        "colab": {
          "base_uri": "https://localhost:8080/"
        },
        "id": "zkiTwrbvvhak",
        "outputId": "9d064661-6fbd-488c-df95-412cfa80457a"
      },
      "source": [
        "sampleDict = {\n",
        "     'emp1': {'name': 'Jhon', 'salary': 7500},\n",
        "     'emp2': {'name': 'Emma', 'salary': 8000},\n",
        "     'emp3': {'name': 'Brad', 'salary': 6500}\n",
        "}\n",
        "\n",
        "sampleDict['emp2']['salary'] = 8500\n",
        "print(sampleDict)\n"
      ],
      "execution_count": null,
      "outputs": [
        {
          "output_type": "stream",
          "text": [
            "{'emp1': {'name': 'Jhon', 'salary': 7500}, 'emp2': {'name': 'Emma', 'salary': 8500}, 'emp3': {'name': 'Brad', 'salary': 6500}}\n"
          ],
          "name": "stdout"
        }
      ]
    },
    {
      "cell_type": "code",
      "metadata": {
        "colab": {
          "base_uri": "https://localhost:8080/"
        },
        "id": "yBJaTwXDwrWU",
        "outputId": "20ea73f5-dd43-4759-b681-c147f007f698"
      },
      "source": [
        "sent= [\"this is not a good example it is bad\"]\n",
        "new_list=[]\n",
        "for k in sent:\n",
        "  new_list=k.split()\n",
        "\n",
        "print(new_list)\n",
        "new_dict={}\n",
        "count=0\n",
        "\n",
        "for k in new_list:\n",
        "  if k in new_dict.keys():\n",
        "    print(\"true\")\n",
        "  else:\n",
        "    new_dict[k] = count\n",
        "  count= count+1\n",
        "\n",
        "print(new_dict)"
      ],
      "execution_count": null,
      "outputs": [
        {
          "output_type": "stream",
          "text": [
            "['this', 'is', 'not', 'a', 'good', 'example', 'it', 'is', 'bad']\n",
            "true\n",
            "{'this': 0, 'is': 1, 'not': 2, 'a': 3, 'good': 4, 'example': 5, 'it': 6, 'bad': 8}\n"
          ],
          "name": "stdout"
        }
      ]
    },
    {
      "cell_type": "code",
      "metadata": {
        "id": "--NN9IL2yXoL"
      },
      "source": [
        "name=\"aizan\"\n",
        "dict_out= {'a':0, 'i':1, 'z':2, 'n':3}"
      ],
      "execution_count": 15,
      "outputs": []
    },
    {
      "cell_type": "code",
      "metadata": {
        "id": "FcMx-05Glxqs"
      },
      "source": [],
      "execution_count": null,
      "outputs": []
    },
    {
      "cell_type": "code",
      "metadata": {
        "id": "mJwakDx8stI5"
      },
      "source": [
        "sent=[\"this is very very very bad this is not so good\"]\n",
        "\n",
        "dict_out{'this':2, 'is':2, 'very':3, 'bad':1, 'not':1, 'so':1, 'good':1}"
      ],
      "execution_count": null,
      "outputs": []
    },
    {
      "cell_type": "code",
      "metadata": {
        "id": "wCw9O4YYrnbV",
        "colab": {
          "base_uri": "https://localhost:8080/"
        },
        "outputId": "e11cd484-807a-4fce-9a7d-d0276689435f"
      },
      "source": [
        "def array(sums):\n",
        "  max_len=len(sums)\n",
        "  for n in range(len(sums)):\n",
        "    if n == max_len-1:\n",
        "      print(sums[n])\n",
        "    else:\n",
        "      print(sums[n], end=',')\n",
        "\n",
        "sums=[6,11,7,-3]\n",
        "array(sums)"
      ],
      "execution_count": null,
      "outputs": [
        {
          "output_type": "stream",
          "text": [
            "6,11,7,-3\n"
          ],
          "name": "stdout"
        }
      ]
    },
    {
      "cell_type": "code",
      "metadata": {
        "id": "svjpzq5LjXki"
      },
      "source": [],
      "execution_count": null,
      "outputs": []
    },
    {
      "cell_type": "code",
      "metadata": {
        "id": "bRLxy5qtjXKe"
      },
      "source": [
        "class parrot:\n",
        "  pass\n"
      ],
      "execution_count": null,
      "outputs": []
    },
    {
      "cell_type": "code",
      "metadata": {
        "colab": {
          "base_uri": "https://localhost:8080/"
        },
        "id": "RAerh4CGjhbe",
        "outputId": "8430c4d2-b04e-4500-c915-129806ae1783"
      },
      "source": [
        "tota = parrot()\n",
        "print(tota)"
      ],
      "execution_count": null,
      "outputs": [
        {
          "output_type": "stream",
          "name": "stdout",
          "text": [
            "<__main__.parrot object at 0x7f4bd16c3650>\n"
          ]
        }
      ]
    },
    {
      "cell_type": "code",
      "metadata": {
        "id": "SmchT5FcjsVV"
      },
      "source": [
        "class parrot:\n",
        "  # class attribute\n",
        "  species= \"bird\"\n",
        "  fly =\"yes\"\n",
        "\n",
        "  # object attribute\n",
        "  def __init__(self, name, age):\n",
        "    self.name = name\n",
        "    self.age = age\n"
      ],
      "execution_count": null,
      "outputs": []
    },
    {
      "cell_type": "code",
      "metadata": {
        "colab": {
          "base_uri": "https://localhost:8080/",
          "height": 180
        },
        "id": "tQD-2FrLlTJJ",
        "outputId": "b2ec4b8e-d751-4607-d541-5b45f8d44be0"
      },
      "source": [
        "tota = parrot()\n",
        "print(tota)"
      ],
      "execution_count": null,
      "outputs": [
        {
          "output_type": "error",
          "ename": "TypeError",
          "evalue": "ignored",
          "traceback": [
            "\u001b[0;31m---------------------------------------------------------------------------\u001b[0m",
            "\u001b[0;31mTypeError\u001b[0m                                 Traceback (most recent call last)",
            "\u001b[0;32m<ipython-input-5-e4e100d8caf1>\u001b[0m in \u001b[0;36m<module>\u001b[0;34m()\u001b[0m\n\u001b[0;32m----> 1\u001b[0;31m \u001b[0mtota\u001b[0m \u001b[0;34m=\u001b[0m \u001b[0mparrot\u001b[0m\u001b[0;34m(\u001b[0m\u001b[0;34m)\u001b[0m\u001b[0;34m\u001b[0m\u001b[0;34m\u001b[0m\u001b[0m\n\u001b[0m\u001b[1;32m      2\u001b[0m \u001b[0mprint\u001b[0m\u001b[0;34m(\u001b[0m\u001b[0mtota\u001b[0m\u001b[0;34m)\u001b[0m\u001b[0;34m\u001b[0m\u001b[0;34m\u001b[0m\u001b[0m\n",
            "\u001b[0;31mTypeError\u001b[0m: __init__() missing 2 required positional arguments: 'name' and 'age'"
          ]
        }
      ]
    },
    {
      "cell_type": "code",
      "metadata": {
        "colab": {
          "base_uri": "https://localhost:8080/",
          "height": 265
        },
        "id": "vFRWVv1RloVj",
        "outputId": "ab457760-62b7-4825-d7e8-85223591e0c1"
      },
      "source": [
        "tota = parrot(\"blu\", 15)\n",
        "print(tota)\n",
        "\n",
        "print(\"Blu is a \",tota.__class__.species)\n",
        "print(\"Blu can fly \",tota.__class__.fly)\n",
        "print(tota.name,\" is \",tota.age, \" year old\")\n",
        "\n",
        "print(\"{} is {} year old\".format(tota.name, tota.age))"
      ],
      "execution_count": null,
      "outputs": [
        {
          "output_type": "stream",
          "name": "stdout",
          "text": [
            "<__main__.parrot object at 0x7f4bd7348590>\n",
            "Blu is a  bird\n",
            "Blu can fly  yes\n",
            "blu  is  15  year old\n"
          ]
        },
        {
          "output_type": "error",
          "ename": "IndexError",
          "evalue": "ignored",
          "traceback": [
            "\u001b[0;31m---------------------------------------------------------------------------\u001b[0m",
            "\u001b[0;31mIndexError\u001b[0m                                Traceback (most recent call last)",
            "\u001b[0;32m<ipython-input-13-0b19c19550dd>\u001b[0m in \u001b[0;36m<module>\u001b[0;34m()\u001b[0m\n\u001b[1;32m      6\u001b[0m \u001b[0mprint\u001b[0m\u001b[0;34m(\u001b[0m\u001b[0mtota\u001b[0m\u001b[0;34m.\u001b[0m\u001b[0mname\u001b[0m\u001b[0;34m,\u001b[0m\u001b[0;34m\" is \"\u001b[0m\u001b[0;34m,\u001b[0m\u001b[0mtota\u001b[0m\u001b[0;34m.\u001b[0m\u001b[0mage\u001b[0m\u001b[0;34m,\u001b[0m \u001b[0;34m\" year old\"\u001b[0m\u001b[0;34m)\u001b[0m\u001b[0;34m\u001b[0m\u001b[0;34m\u001b[0m\u001b[0m\n\u001b[1;32m      7\u001b[0m \u001b[0;34m\u001b[0m\u001b[0m\n\u001b[0;32m----> 8\u001b[0;31m \u001b[0mprint\u001b[0m\u001b[0;34m(\u001b[0m\u001b[0;34m\"{} is {} year old\"\u001b[0m\u001b[0;34m.\u001b[0m\u001b[0mformat\u001b[0m\u001b[0;34m(\u001b[0m\u001b[0mtota\u001b[0m\u001b[0;34m.\u001b[0m\u001b[0mage\u001b[0m\u001b[0;34m)\u001b[0m\u001b[0;34m)\u001b[0m\u001b[0;34m\u001b[0m\u001b[0;34m\u001b[0m\u001b[0m\n\u001b[0m",
            "\u001b[0;31mIndexError\u001b[0m: tuple index out of range"
          ]
        }
      ]
    },
    {
      "cell_type": "code",
      "metadata": {
        "colab": {
          "base_uri": "https://localhost:8080/"
        },
        "id": "d2YyArctnWgc",
        "outputId": "d2f10000-1190-466c-c86a-36a0db5e45fa"
      },
      "source": [
        "toti = parrot(\"woo\", 10)\n",
        "\n",
        "# woo is a bird whose age is 10   {object.name} is a {class attribute} whose age is {object.age}\n",
        "print(\"{} is a {} whose age is {}\".format(toti.name, toti.__class__.species, toti.age))"
      ],
      "execution_count": null,
      "outputs": [
        {
          "output_type": "stream",
          "name": "stdout",
          "text": [
            "woo is a bird whose age is 10\n"
          ]
        }
      ]
    },
    {
      "cell_type": "code",
      "metadata": {
        "id": "AlirJLesoekP"
      },
      "source": [
        "class parrot:\n",
        "  # object instance\n",
        "  def __init__(self, name, age):\n",
        "    self.name =name\n",
        "    self.age =age\n",
        "  # instance methods with one variable\n",
        "  def sing(self, song=\"happy\"):\n",
        "    return \"{} sings {}\".format(self.name, song)\n",
        "\n",
        "  #instance method without any variable\n",
        "  def dance(self):\n",
        "    return \"{} is now dancing whose age is {}\".format(self.name, self.age)"
      ],
      "execution_count": null,
      "outputs": []
    },
    {
      "cell_type": "code",
      "metadata": {
        "colab": {
          "base_uri": "https://localhost:8080/"
        },
        "id": "-NHPZMPaqUbf",
        "outputId": "a9cd0e44-44f9-4cdf-fe96-824a7b47795e"
      },
      "source": [
        "# object instance creation\n",
        "tota = parrot(\"blu\", 15)\n",
        "\n",
        "# call our instance method\n",
        "\n",
        "print(tota.sing(\"happy kitty sad kity\"))\n",
        "print(tota.dance())"
      ],
      "execution_count": null,
      "outputs": [
        {
          "output_type": "stream",
          "name": "stdout",
          "text": [
            "blu sings happy kitty sad kity\n",
            "blu is now dancing whose age is 15\n"
          ]
        }
      ]
    },
    {
      "cell_type": "code",
      "metadata": {
        "id": "D7nSyzOMqyTd"
      },
      "source": [
        "class bird:\n",
        "  def __init__(self):\n",
        "    print(\"Bird is ready\")\n",
        "\n",
        "  def WhoIsThis(self):\n",
        "    print(\"Bird\")\n",
        "\n",
        "  def swin(self):\n",
        "    print(\"Swim Faster\")"
      ],
      "execution_count": null,
      "outputs": []
    },
    {
      "cell_type": "code",
      "metadata": {
        "id": "jv_SxM70uHnZ"
      },
      "source": [
        "class penguin(bird):\n",
        "  def __init__(self):\n",
        "    super().__init__() #super allow to run init function of parent class\n",
        "\n",
        "    print(\"penguin is ready\")\n",
        "  def WhoIsThis(self):\n",
        "    print(\"Penguin\")\n",
        "\n",
        "  def run(self):\n",
        "    print(\"run faster\")\n"
      ],
      "execution_count": null,
      "outputs": []
    },
    {
      "cell_type": "code",
      "metadata": {
        "colab": {
          "base_uri": "https://localhost:8080/"
        },
        "id": "L1yVF5w1uwi5",
        "outputId": "95dcdf1c-1523-4c5b-ea68-ca2b9100d36c"
      },
      "source": [
        "peggy = penguin()"
      ],
      "execution_count": null,
      "outputs": [
        {
          "output_type": "stream",
          "name": "stdout",
          "text": [
            "Bird is ready\n",
            "penguin is ready\n"
          ]
        }
      ]
    },
    {
      "cell_type": "code",
      "metadata": {
        "colab": {
          "base_uri": "https://localhost:8080/"
        },
        "id": "5lTFwkyru2Jz",
        "outputId": "96082796-2c55-4986-97f2-4dca0164d679"
      },
      "source": [
        "peggy.WhoIsThis()"
      ],
      "execution_count": null,
      "outputs": [
        {
          "output_type": "stream",
          "name": "stdout",
          "text": [
            "Penguin\n"
          ]
        }
      ]
    },
    {
      "cell_type": "code",
      "metadata": {
        "colab": {
          "base_uri": "https://localhost:8080/"
        },
        "id": "Um-mmrIou8DX",
        "outputId": "8f247b76-9007-4101-dc04-a96c9cc50a13"
      },
      "source": [
        "peggy.swin()"
      ],
      "execution_count": null,
      "outputs": [
        {
          "output_type": "stream",
          "name": "stdout",
          "text": [
            "Swim Faster\n"
          ]
        }
      ]
    },
    {
      "cell_type": "code",
      "metadata": {
        "colab": {
          "base_uri": "https://localhost:8080/"
        },
        "id": "8lgXWOEgvAKY",
        "outputId": "f7e31699-6e2d-4697-f749-a1873a68dd98"
      },
      "source": [
        "peggy.run()"
      ],
      "execution_count": null,
      "outputs": [
        {
          "output_type": "stream",
          "name": "stdout",
          "text": [
            "run faster\n"
          ]
        }
      ]
    },
    {
      "cell_type": "code",
      "metadata": {
        "id": "sJecROhAvEr9"
      },
      "source": [
        "class person:\n",
        "  \"\"\" this is a person class \"\"\"\n",
        "  age =10\n",
        "  def greet (self):\n",
        "    print(\"hello there\")"
      ],
      "execution_count": null,
      "outputs": []
    },
    {
      "cell_type": "code",
      "metadata": {
        "colab": {
          "base_uri": "https://localhost:8080/"
        },
        "id": "B7-5DfHSdr3D",
        "outputId": "f89f65ff-4e5d-4649-940e-dde490f210c7"
      },
      "source": [
        "person.age"
      ],
      "execution_count": null,
      "outputs": [
        {
          "output_type": "execute_result",
          "data": {
            "text/plain": [
              "10"
            ]
          },
          "metadata": {},
          "execution_count": 5
        }
      ]
    },
    {
      "cell_type": "code",
      "metadata": {
        "colab": {
          "base_uri": "https://localhost:8080/"
        },
        "id": "gcfrC756dyBL",
        "outputId": "d0601a02-05a6-4915-8cba-93e2ca81b7eb"
      },
      "source": [
        "print(person.greet)"
      ],
      "execution_count": null,
      "outputs": [
        {
          "output_type": "stream",
          "name": "stdout",
          "text": [
            "<function person.greet at 0x7f0e11b5fd40>\n"
          ]
        }
      ]
    },
    {
      "cell_type": "code",
      "metadata": {
        "colab": {
          "base_uri": "https://localhost:8080/",
          "height": 35
        },
        "id": "v4grV_Mod15r",
        "outputId": "21b31b5f-a2f1-4cad-fb92-930d1702e561"
      },
      "source": [
        "person.__doc__"
      ],
      "execution_count": null,
      "outputs": [
        {
          "output_type": "execute_result",
          "data": {
            "application/vnd.google.colaboratory.intrinsic+json": {
              "type": "string"
            },
            "text/plain": [
              "' this is a person class '"
            ]
          },
          "metadata": {},
          "execution_count": 8
        }
      ]
    },
    {
      "cell_type": "code",
      "metadata": {
        "id": "3npNIP3veAyQ"
      },
      "source": [
        "class Person:\n",
        "  \"This is a person class\"\n",
        "  age = 10\n",
        "  def greet(self):\n",
        "    print('Hello')\n",
        "\n",
        "# create a new object of Person class\n",
        "harry = Person()\n",
        "\n"
      ],
      "execution_count": null,
      "outputs": []
    },
    {
      "cell_type": "code",
      "metadata": {
        "colab": {
          "base_uri": "https://localhost:8080/"
        },
        "id": "AXiVUoa5fKQr",
        "outputId": "b2a4d8ec-a147-4e19-8e99-60380b68f8d7"
      },
      "source": [
        "# Output: <function Person.greet>\n",
        "print(Person.greet) # class.method\n",
        "\n"
      ],
      "execution_count": null,
      "outputs": [
        {
          "output_type": "stream",
          "name": "stdout",
          "text": [
            "<function Person.greet at 0x7f0e11b67b90>\n"
          ]
        }
      ]
    },
    {
      "cell_type": "code",
      "metadata": {
        "colab": {
          "base_uri": "https://localhost:8080/"
        },
        "id": "EZCCLAG6fgUW",
        "outputId": "bf302d30-5d1a-4f9b-b2ff-4b07c2797e3c"
      },
      "source": [
        "# Output: <bound method Person.greet of <__main__.Person object>>\n",
        "print(harry.greet) #object.method\n",
        "\n"
      ],
      "execution_count": null,
      "outputs": [
        {
          "output_type": "stream",
          "name": "stdout",
          "text": [
            "<bound method Person.greet of <__main__.Person object at 0x7f0e11b6e290>>\n"
          ]
        }
      ]
    },
    {
      "cell_type": "code",
      "metadata": {
        "id": "PJ2DISmfqPGs",
        "colab": {
          "base_uri": "https://localhost:8080/"
        },
        "outputId": "cfe1ce7e-9d4c-4d54-c6ca-1fec9e43a06b"
      },
      "source": [
        "# Calling object's greet() method\n",
        "# Output: Hello\n",
        "harry.greet()\n"
      ],
      "execution_count": null,
      "outputs": [
        {
          "output_type": "stream",
          "name": "stdout",
          "text": [
            "Hello\n"
          ]
        }
      ]
    },
    {
      "cell_type": "code",
      "metadata": {
        "id": "NOpFms8Nm-kV"
      },
      "source": [
        "class ComplexNumber:\n",
        "  def __init__(self, r=0,i=0):\n",
        "    self.real = r\n",
        "    self.imaginary = i\n",
        "\n",
        "  def get_data(self):\n",
        "    print(self.real, \"+\", self.imaginary,\"i\")"
      ],
      "execution_count": null,
      "outputs": []
    },
    {
      "cell_type": "code",
      "metadata": {
        "colab": {
          "base_uri": "https://localhost:8080/"
        },
        "id": "jXixNH-WhGuy",
        "outputId": "c270bf41-6af3-4ee5-bcc6-1afb87481d4c"
      },
      "source": [
        "num = ComplexNumber(2,3) # object create\n",
        "num.get_data() # calling the method"
      ],
      "execution_count": null,
      "outputs": [
        {
          "output_type": "stream",
          "name": "stdout",
          "text": [
            "2 + 3 i\n"
          ]
        }
      ]
    },
    {
      "cell_type": "code",
      "metadata": {
        "colab": {
          "base_uri": "https://localhost:8080/"
        },
        "id": "NDpx7u5chRpy",
        "outputId": "10aa207f-632e-45d7-c24b-78b0237cf8f9"
      },
      "source": [
        "num1 = ComplexNumber(5)\n",
        "num1.get_data()"
      ],
      "execution_count": null,
      "outputs": [
        {
          "output_type": "stream",
          "name": "stdout",
          "text": [
            "5 + 0 i\n"
          ]
        }
      ]
    },
    {
      "cell_type": "code",
      "metadata": {
        "colab": {
          "base_uri": "https://localhost:8080/"
        },
        "id": "vkQ3akLFh0bd",
        "outputId": "f744c2a5-3137-48f8-e9d9-a3b8b54233ad"
      },
      "source": [
        "print(num1.real)\n",
        "print(num1.imaginary)"
      ],
      "execution_count": null,
      "outputs": [
        {
          "output_type": "stream",
          "name": "stdout",
          "text": [
            "5\n",
            "0\n"
          ]
        }
      ]
    },
    {
      "cell_type": "code",
      "metadata": {
        "id": "UjGna-j2iPiA"
      },
      "source": [
        "num1.attr =10"
      ],
      "execution_count": null,
      "outputs": []
    },
    {
      "cell_type": "code",
      "metadata": {
        "colab": {
          "base_uri": "https://localhost:8080/"
        },
        "id": "Z77gH8ufiWbT",
        "outputId": "75c4726d-8401-4cce-d383-e6f794ef1501"
      },
      "source": [
        "print(num1.real, num1.imaginary, num1.attr)"
      ],
      "execution_count": null,
      "outputs": [
        {
          "output_type": "stream",
          "name": "stdout",
          "text": [
            "5 0 10\n"
          ]
        }
      ]
    },
    {
      "cell_type": "code",
      "metadata": {
        "colab": {
          "base_uri": "https://localhost:8080/"
        },
        "id": "EPIONufzieXt",
        "outputId": "8f8683d2-fb99-4d06-dc82-bbbc5f8664ba"
      },
      "source": [
        "print(num.real)\n",
        "print(num.imaginary)"
      ],
      "execution_count": null,
      "outputs": [
        {
          "output_type": "stream",
          "name": "stdout",
          "text": [
            "2\n",
            "3\n"
          ]
        }
      ]
    },
    {
      "cell_type": "code",
      "metadata": {
        "colab": {
          "base_uri": "https://localhost:8080/",
          "height": 163
        },
        "id": "-InAhts7iuYM",
        "outputId": "52e55e7f-8d26-44f6-847a-d1d134d0a61d"
      },
      "source": [
        "print(num.attr)"
      ],
      "execution_count": null,
      "outputs": [
        {
          "output_type": "error",
          "ename": "AttributeError",
          "evalue": "ignored",
          "traceback": [
            "\u001b[0;31m---------------------------------------------------------------------------\u001b[0m",
            "\u001b[0;31mAttributeError\u001b[0m                            Traceback (most recent call last)",
            "\u001b[0;32m<ipython-input-29-2fcf4e944ebe>\u001b[0m in \u001b[0;36m<module>\u001b[0;34m()\u001b[0m\n\u001b[0;32m----> 1\u001b[0;31m \u001b[0mprint\u001b[0m\u001b[0;34m(\u001b[0m\u001b[0mnum\u001b[0m\u001b[0;34m.\u001b[0m\u001b[0mattr\u001b[0m\u001b[0;34m)\u001b[0m\u001b[0;34m\u001b[0m\u001b[0;34m\u001b[0m\u001b[0m\n\u001b[0m",
            "\u001b[0;31mAttributeError\u001b[0m: 'ComplexNumber' object has no attribute 'attr'"
          ]
        }
      ]
    },
    {
      "cell_type": "code",
      "metadata": {
        "colab": {
          "base_uri": "https://localhost:8080/",
          "height": 197
        },
        "id": "DSSbJWPzizhD",
        "outputId": "4005ecd4-4685-4ecb-a160-223bb3316744"
      },
      "source": [
        "# num1 has 3 attribute real,imaginary,attr\n",
        "del num1\n",
        "print(num1.real)"
      ],
      "execution_count": null,
      "outputs": [
        {
          "output_type": "error",
          "ename": "NameError",
          "evalue": "ignored",
          "traceback": [
            "\u001b[0;31m---------------------------------------------------------------------------\u001b[0m",
            "\u001b[0;31mNameError\u001b[0m                                 Traceback (most recent call last)",
            "\u001b[0;32m<ipython-input-33-dff957223b96>\u001b[0m in \u001b[0;36m<module>\u001b[0;34m()\u001b[0m\n\u001b[1;32m      1\u001b[0m \u001b[0;31m# num1 has 3 attribute real,imaginary,attr\u001b[0m\u001b[0;34m\u001b[0m\u001b[0;34m\u001b[0m\u001b[0;34m\u001b[0m\u001b[0m\n\u001b[1;32m      2\u001b[0m \u001b[0;32mdel\u001b[0m \u001b[0mnum1\u001b[0m\u001b[0;34m\u001b[0m\u001b[0;34m\u001b[0m\u001b[0m\n\u001b[0;32m----> 3\u001b[0;31m \u001b[0mprint\u001b[0m\u001b[0;34m(\u001b[0m\u001b[0mnum1\u001b[0m\u001b[0;34m.\u001b[0m\u001b[0mreal\u001b[0m\u001b[0;34m)\u001b[0m\u001b[0;34m\u001b[0m\u001b[0;34m\u001b[0m\u001b[0m\n\u001b[0m",
            "\u001b[0;31mNameError\u001b[0m: name 'num1' is not defined"
          ]
        }
      ]
    },
    {
      "cell_type": "code",
      "metadata": {
        "id": "yO6gTwLrkDPO"
      },
      "source": [
        "class polygon:\n",
        "  def __init__(self, no_of_sides):\n",
        "    self.n = no_of_sides\n",
        "    self.sides = [0 for i in range(no_of_sides)]\n",
        "\n",
        "  def inputSides(self):\n",
        "    self.sides = [float(input(\"Enter side\" + str(i+1)+\":\")) for i in range (self.n)]\n",
        "\n",
        "  def dispSides(self):\n",
        "    for i in range(self.n):\n",
        "      print(\"SIde\", i+1, \"is\", self.sides[i])"
      ],
      "execution_count": null,
      "outputs": []
    },
    {
      "cell_type": "code",
      "metadata": {
        "id": "ygefiMRPB-tT"
      },
      "source": [
        "class triangle(polygon):\n",
        "  def __init__(self):\n",
        "    polygon.__init__(self,3)\n",
        "\n",
        "  def findArea(self):\n",
        "    a,b,c = self.sides\n",
        "    # calculate the semi perimeter\n",
        "    s=(a+b+c)/2\n",
        "    area = (s*(s-a)*(s-b)*(s-c))**0.5\n",
        "    print(\"Area of triangle is %0.2f\" %area)"
      ],
      "execution_count": null,
      "outputs": []
    },
    {
      "cell_type": "code",
      "metadata": {
        "id": "j6693cs-DZXa"
      },
      "source": [
        "t = triangle(5)"
      ],
      "execution_count": null,
      "outputs": []
    },
    {
      "cell_type": "code",
      "metadata": {
        "colab": {
          "base_uri": "https://localhost:8080/"
        },
        "id": "-AJVGOcGDuxq",
        "outputId": "4bee2dce-83a6-4ad6-af80-6f33111dd8d2"
      },
      "source": [
        "t.inputSides()"
      ],
      "execution_count": null,
      "outputs": [
        {
          "name": "stdout",
          "output_type": "stream",
          "text": [
            "Enter side1:5\n",
            "Enter side2:4\n",
            "Enter side3:9\n",
            "Enter side4:7\n",
            "Enter side5:8\n"
          ]
        }
      ]
    },
    {
      "cell_type": "code",
      "metadata": {
        "colab": {
          "base_uri": "https://localhost:8080/"
        },
        "id": "N3ClUUGZELu7",
        "outputId": "e7185885-2b9b-43bd-f57c-2b4d5cf53f07"
      },
      "source": [
        "t.dispSides()"
      ],
      "execution_count": null,
      "outputs": [
        {
          "output_type": "stream",
          "name": "stdout",
          "text": [
            "SIde 1 is 5.0\n",
            "SIde 2 is 4.0\n",
            "SIde 3 is 9.0\n",
            "SIde 4 is 7.0\n",
            "SIde 5 is 8.0\n"
          ]
        }
      ]
    },
    {
      "cell_type": "code",
      "metadata": {
        "colab": {
          "base_uri": "https://localhost:8080/",
          "height": 282
        },
        "id": "omqPilJPES-h",
        "outputId": "08cc6726-8b19-440e-916a-e8a08add2f61"
      },
      "source": [
        "t.findArea()"
      ],
      "execution_count": null,
      "outputs": [
        {
          "output_type": "error",
          "ename": "ValueError",
          "evalue": "ignored",
          "traceback": [
            "\u001b[0;31m---------------------------------------------------------------------------\u001b[0m",
            "\u001b[0;31mValueError\u001b[0m                                Traceback (most recent call last)",
            "\u001b[0;32m<ipython-input-45-9a4f36e857d8>\u001b[0m in \u001b[0;36m<module>\u001b[0;34m()\u001b[0m\n\u001b[0;32m----> 1\u001b[0;31m \u001b[0mt\u001b[0m\u001b[0;34m.\u001b[0m\u001b[0mfindArea\u001b[0m\u001b[0;34m(\u001b[0m\u001b[0;34m)\u001b[0m\u001b[0;34m\u001b[0m\u001b[0;34m\u001b[0m\u001b[0m\n\u001b[0m",
            "\u001b[0;32m<ipython-input-35-d42d8372db62>\u001b[0m in \u001b[0;36mfindArea\u001b[0;34m(self)\u001b[0m\n\u001b[1;32m      2\u001b[0m \u001b[0;34m\u001b[0m\u001b[0m\n\u001b[1;32m      3\u001b[0m   \u001b[0;32mdef\u001b[0m \u001b[0mfindArea\u001b[0m\u001b[0;34m(\u001b[0m\u001b[0mself\u001b[0m\u001b[0;34m)\u001b[0m\u001b[0;34m:\u001b[0m\u001b[0;34m\u001b[0m\u001b[0;34m\u001b[0m\u001b[0m\n\u001b[0;32m----> 4\u001b[0;31m     \u001b[0ma\u001b[0m\u001b[0;34m,\u001b[0m\u001b[0mb\u001b[0m\u001b[0;34m,\u001b[0m\u001b[0mc\u001b[0m \u001b[0;34m=\u001b[0m \u001b[0mself\u001b[0m\u001b[0;34m.\u001b[0m\u001b[0msides\u001b[0m\u001b[0;34m\u001b[0m\u001b[0;34m\u001b[0m\u001b[0m\n\u001b[0m\u001b[1;32m      5\u001b[0m     \u001b[0;31m# calculate the semi perimeter\u001b[0m\u001b[0;34m\u001b[0m\u001b[0;34m\u001b[0m\u001b[0;34m\u001b[0m\u001b[0m\n\u001b[1;32m      6\u001b[0m     \u001b[0ms\u001b[0m\u001b[0;34m=\u001b[0m\u001b[0;34m(\u001b[0m\u001b[0ma\u001b[0m\u001b[0;34m+\u001b[0m\u001b[0mb\u001b[0m\u001b[0;34m+\u001b[0m\u001b[0mc\u001b[0m\u001b[0;34m)\u001b[0m\u001b[0;34m/\u001b[0m\u001b[0;36m2\u001b[0m\u001b[0;34m\u001b[0m\u001b[0;34m\u001b[0m\u001b[0m\n",
            "\u001b[0;31mValueError\u001b[0m: too many values to unpack (expected 3)"
          ]
        }
      ]
    },
    {
      "cell_type": "code",
      "metadata": {
        "id": "-73xsGJvEaC5"
      },
      "source": [],
      "execution_count": null,
      "outputs": []
    },
    {
      "cell_type": "code",
      "metadata": {
        "id": "7u9-8W1oDFYG"
      },
      "source": [],
      "execution_count": null,
      "outputs": []
    },
    {
      "cell_type": "code",
      "metadata": {
        "id": "F9b6ZyNqA-zX"
      },
      "source": [],
      "execution_count": null,
      "outputs": []
    },
    {
      "cell_type": "code",
      "metadata": {
        "id": "nakzVk8hjzbA"
      },
      "source": [],
      "execution_count": null,
      "outputs": []
    },
    {
      "cell_type": "code",
      "metadata": {
        "id": "UohjJ5lfiHV3"
      },
      "source": [],
      "execution_count": null,
      "outputs": []
    },
    {
      "cell_type": "code",
      "metadata": {
        "id": "M2fD5zgYmi4d"
      },
      "source": [],
      "execution_count": null,
      "outputs": []
    },
    {
      "cell_type": "code",
      "metadata": {
        "id": "pnqba_G3mKGH"
      },
      "source": [],
      "execution_count": null,
      "outputs": []
    },
    {
      "cell_type": "code",
      "metadata": {
        "id": "9cSLPSP7lvye"
      },
      "source": [],
      "execution_count": null,
      "outputs": []
    },
    {
      "cell_type": "code",
      "metadata": {
        "id": "2Yk7c7ScldAW"
      },
      "source": [
        "import pickle"
      ],
      "execution_count": null,
      "outputs": []
    },
    {
      "cell_type": "code",
      "metadata": {
        "id": "5g52Ps4WUwAt"
      },
      "source": [
        "f = open('160_last_topic2num.pk','rb')"
      ],
      "execution_count": null,
      "outputs": []
    },
    {
      "cell_type": "code",
      "metadata": {
        "id": "tbvII3TdU5RO"
      },
      "source": [
        "topic2num = pickle.load(f)"
      ],
      "execution_count": null,
      "outputs": []
    },
    {
      "cell_type": "code",
      "metadata": {
        "colab": {
          "base_uri": "https://localhost:8080/"
        },
        "id": "1Bkrs-rWU_xY",
        "outputId": "41e096c4-c913-4f46-e9da-8f3b065ba355"
      },
      "source": [
        "type(topic2num)"
      ],
      "execution_count": null,
      "outputs": [
        {
          "output_type": "execute_result",
          "data": {
            "text/plain": [
              "dict"
            ]
          },
          "metadata": {},
          "execution_count": 4
        }
      ]
    },
    {
      "cell_type": "code",
      "metadata": {
        "colab": {
          "base_uri": "https://localhost:8080/"
        },
        "id": "rwVNargBVC32",
        "outputId": "42908891-aaf2-41f4-9227-b0f72560782a"
      },
      "source": [
        "topic2num"
      ],
      "execution_count": null,
      "outputs": [
        {
          "output_type": "execute_result",
          "data": {
            "text/plain": [
              "{'B超': 86,\n",
              " 'CT': 82,\n",
              " '三九胃泰': 125,\n",
              " '乏力': 21,\n",
              " '乳果糖': 127,\n",
              " '乳酸菌素': 104,\n",
              " '人参健脾丸': 132,\n",
              " '位置': 74,\n",
              " '体重下降': 64,\n",
              " '便常规': 94,\n",
              " '便秘': 1,\n",
              " '便血': 53,\n",
              " '健胃消食片': 130,\n",
              " '健脾丸': 99,\n",
              " '克拉霉素': 151,\n",
              " '兰索拉唑': 121,\n",
              " '反流': 38,\n",
              " '发热': 43,\n",
              " '口苦': 22,\n",
              " '吗丁啉': 135,\n",
              " '吗叮咛': 157,\n",
              " '吞咽困难': 72,\n",
              " '呕吐': 19,\n",
              " '呕血': 13,\n",
              " '呼吸困难': 66,\n",
              " '呼气实验': 92,\n",
              " '咳嗽': 34,\n",
              " '咽部灼烧感': 61,\n",
              " '咽部痛': 31,\n",
              " '喷嚏': 71,\n",
              " '嗜睡': 73,\n",
              " '嗜酸乳杆菌': 114,\n",
              " '四磨汤': 111,\n",
              " '四肢麻木': 23,\n",
              " '培菲康': 153,\n",
              " '复方消化酶': 108,\n",
              " '多潘立酮': 110,\n",
              " '多酶片': 138,\n",
              " '头晕': 17,\n",
              " '头痛': 57,\n",
              " '奥美': 150,\n",
              " '寒战': 68,\n",
              " '小肠镜': 95,\n",
              " '尿常规': 89,\n",
              " '尿急': 58,\n",
              " '尿检': 81,\n",
              " '尿频': 28,\n",
              " '山莨菪碱': 154,\n",
              " '左氧氟沙星': 98,\n",
              " '布洛芬': 128,\n",
              " '康复新液': 131,\n",
              " '开塞露': 117,\n",
              " '得舒特': 124,\n",
              " '心悸': 36,\n",
              " '思密达': 118,\n",
              " '思连康': 115,\n",
              " '性质': 76,\n",
              " '恶心': 47,\n",
              " '感冒': 3,\n",
              " '打嗝': 39,\n",
              " '抗生素': 141,\n",
              " '排气': 12,\n",
              " '整肠生': 113,\n",
              " '斯达舒': 158,\n",
              " '时长': 77,\n",
              " '曲美布汀': 147,\n",
              " '月经紊乱': 45,\n",
              " '有痰': 35,\n",
              " '果胶铋': 136,\n",
              " '气促': 42,\n",
              " '水肿': 32,\n",
              " '泌特': 112,\n",
              " '泮托拉唑': 159,\n",
              " '消化不良': 70,\n",
              " '消炎利胆片': 122,\n",
              " '淋巴结肿大': 30,\n",
              " '烧心': 51,\n",
              " '焦躁': 16,\n",
              " '瑞巴派特': 126,\n",
              " '甲硝唑': 142,\n",
              " '痉挛': 49,\n",
              " '痔疮': 29,\n",
              " '益生菌': 148,\n",
              " '硫糖铝': 102,\n",
              " '磷酸铝': 155,\n",
              " '稀便': 62,\n",
              " '粘便': 15,\n",
              " '精神不振': 33,\n",
              " '糖尿病': 84,\n",
              " '细菌感染': 67,\n",
              " '结肠镜': 88,\n",
              " '耐信': 100,\n",
              " '肌肉酸痛': 41,\n",
              " '肛周疼痛': 20,\n",
              " '肛门镜': 79,\n",
              " '肝硬化': 10,\n",
              " '肝胆胰脾超声': 80,\n",
              " '肠易激综合征': 8,\n",
              " '肠梗阻': 50,\n",
              " '肠溶胶囊': 134,\n",
              " '肠炎': 2,\n",
              " '肠胃康': 145,\n",
              " '肠镜': 91,\n",
              " '肠鸣': 55,\n",
              " '肺炎': 11,\n",
              " '胃复安': 105,\n",
              " '胃溃疡': 5,\n",
              " '胃炎': 0,\n",
              " '胃痛': 52,\n",
              " '胃肠不适': 46,\n",
              " '胃肠功能紊乱': 37,\n",
              " '胃苏': 120,\n",
              " '胃蛋白酶': 78,\n",
              " '胃镜': 85,\n",
              " '胆囊炎': 6,\n",
              " '背痛': 69,\n",
              " '胰腺炎': 9,\n",
              " '胶体果胶铋': 143,\n",
              " '胶囊内镜': 83,\n",
              " '胸痛': 25,\n",
              " '脱水': 65,\n",
              " '腹泻': 48,\n",
              " '腹痛': 63,\n",
              " '腹胀': 56,\n",
              " '腹腔镜': 87,\n",
              " '腹部彩超': 97,\n",
              " '莫沙必利': 106,\n",
              " '莫沙比利': 156,\n",
              " '菌群失调': 18,\n",
              " '蒙脱石散': 123,\n",
              " '藿香正气丸': 103,\n",
              " '螺旋杆菌感染': 26,\n",
              " '血常规': 93,\n",
              " '补脾益肠丸': 149,\n",
              " '诱因': 75,\n",
              " '诺氟沙星': 139,\n",
              " '诺氟沙星胶囊': 140,\n",
              " '谷氨酰胺肠溶胶囊': 101,\n",
              " '贫血': 54,\n",
              " '转氨酶': 90,\n",
              " '达喜': 144,\n",
              " '过敏': 40,\n",
              " '里急后重': 59,\n",
              " '金双歧': 119,\n",
              " '钡餐': 96,\n",
              " '铝碳酸镁': 146,\n",
              " '阑尾炎': 7,\n",
              " '阿莫西林': 116,\n",
              " '雷呗': 133,\n",
              " '颠茄片': 129,\n",
              " '食欲不振': 24,\n",
              " '食管炎': 4,\n",
              " '饥饿感': 60,\n",
              " '香砂养胃丸': 109,\n",
              " '马来酸曲美布丁': 137,\n",
              " '马来酸曲美布汀': 107,\n",
              " '马来酸曲美布汀片': 152,\n",
              " '黄疸': 44,\n",
              " '黑便': 27,\n",
              " '鼻塞': 14}"
            ]
          },
          "metadata": {},
          "execution_count": 5
        }
      ]
    },
    {
      "cell_type": "code",
      "metadata": {
        "id": "tEGc7SPQVE-3"
      },
      "source": [],
      "execution_count": null,
      "outputs": []
    }
  ]
}